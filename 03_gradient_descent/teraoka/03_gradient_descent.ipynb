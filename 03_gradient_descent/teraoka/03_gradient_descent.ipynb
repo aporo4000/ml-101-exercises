{
 "cells": [
  {
   "cell_type": "markdown",
   "metadata": {},
   "source": [
    "# 03_gradient_descent"
   ]
  },
  {
   "cell_type": "markdown",
   "metadata": {},
   "source": [
    "# Q1. 一変数の最急降下法について調べ、まとめよ。"
   ]
  },
  {
   "cell_type": "markdown",
   "metadata": {},
   "source": [
    "\n",
    "# A1. "
   ]
  },
  {
   "cell_type": "markdown",
   "metadata": {},
   "source": [
    "**結論：**  \n",
    "- 最急降下法とは、関数の傾きのみから、関数の最小値を探索する勾配法のアルゴリズムの一つ。  \n",
    "\n",
    "**説明：**  \n",
    "- 勾配法とは、関数の勾配を用いて最適な点を割り出す方法。  \n",
    "- 最適な点とは、今回の内容では関数の最小値。  \n",
    "- 最小値とはその関数がもつ最も小さい値。  \n",
    "- 但し、最小値は見つけることができないため、極小値を見つける。  \n",
    "- 極小値とは、局所的に定まる値。  \n",
    "- 勾配法では、説明変数に与える値を反復させながら説明変数を極小値へ近づけていく。  \n",
    "- k回目の反復で極小値がx^(k)の位置にある。  \n",
    "\n",
    "引用：https://ja.wikipedia.org/wiki/%E6%9C%80%E6%80%A5%E9%99%8D%E4%B8%8B%E6%B3%95"
   ]
  },
  {
   "cell_type": "markdown",
   "metadata": {},
   "source": [
    "<img src=\"images/gradient_descent.png\">"
   ]
  },
  {
   "cell_type": "markdown",
   "metadata": {},
   "source": [
    "勾配法の式  \n",
    "\n",
    "<img src=\"images/delta.png\">"
   ]
  },
  {
   "cell_type": "markdown",
   "metadata": {},
   "source": [
    "上記式に値を入れて更新値を確認してみる。  \n",
    "スタート地点**x0の値を-3**とする。\n",
    "調整項**αの値を0.1**とする。  \n",
    "\n",
    "<img src=\"images/update.png\">"
   ]
  },
  {
   "cell_type": "code",
   "execution_count": null,
   "metadata": {},
   "outputs": [],
   "source": []
  },
  {
   "cell_type": "markdown",
   "metadata": {},
   "source": [
    "# Q2. y = 1.5x^{2} + e (e は平均0、標準偏差 0.1 の正規分布に従う確率変数) <br>を用いてデータを生成せよ。"
   ]
  },
  {
   "cell_type": "markdown",
   "metadata": {},
   "source": [
    "# A."
   ]
  },
  {
   "cell_type": "markdown",
   "metadata": {},
   "source": [
    "<img src=\"images/e.png\">\n",
    "\n",
    "<img src=\"images/e_3.png\">"
   ]
  },
  {
   "cell_type": "markdown",
   "metadata": {},
   "source": [
    "上記式を用いてデータを作った様子をグラフに表現している。"
   ]
  },
  {
   "cell_type": "code",
   "execution_count": 1,
   "metadata": {},
   "outputs": [
    {
     "data": {
      "text/plain": [
       "array([ 1.33971203,  1.09342859,  0.5446958 ,  0.31048975, -0.00538639,\n",
       "        0.05961163,  0.0361025 ,  0.35266794,  0.9626983 ,  1.38569572])"
      ]
     },
     "execution_count": 1,
     "metadata": {},
     "output_type": "execute_result"
    }
   ],
   "source": [
    "from numpy.random import *\n",
    "import pandas as pd\n",
    "import numpy as np\n",
    "import matplotlib.pyplot as plt\n",
    "\n",
    "x_data = np.linspace(-1,1, num=10)  # -1から1までの等差数列を20個作る\n",
    "error = np.random.normal(0, 0.1, 10)  # 平均0, 標準偏差0.1 の正規分布に則ったランダム値を20個作る\n",
    "\n",
    "y =1.5*(x_data**2)+error # y = 1.5*x^2 + eの関数\n",
    "\n",
    "y"
   ]
  },
  {
   "cell_type": "code",
   "execution_count": null,
   "metadata": {},
   "outputs": [],
   "source": []
  },
  {
   "cell_type": "code",
   "execution_count": 2,
   "metadata": {},
   "outputs": [
    {
     "data": {
      "text/html": [
       "<div>\n",
       "<style scoped>\n",
       "    .dataframe tbody tr th:only-of-type {\n",
       "        vertical-align: middle;\n",
       "    }\n",
       "\n",
       "    .dataframe tbody tr th {\n",
       "        vertical-align: top;\n",
       "    }\n",
       "\n",
       "    .dataframe thead th {\n",
       "        text-align: right;\n",
       "    }\n",
       "</style>\n",
       "<table border=\"1\" class=\"dataframe\">\n",
       "  <thead>\n",
       "    <tr style=\"text-align: right;\">\n",
       "      <th></th>\n",
       "      <th>y</th>\n",
       "      <th>x</th>\n",
       "    </tr>\n",
       "  </thead>\n",
       "  <tbody>\n",
       "    <tr>\n",
       "      <th>0</th>\n",
       "      <td>1.339712</td>\n",
       "      <td>-1.000000</td>\n",
       "    </tr>\n",
       "    <tr>\n",
       "      <th>1</th>\n",
       "      <td>1.093429</td>\n",
       "      <td>-0.777778</td>\n",
       "    </tr>\n",
       "    <tr>\n",
       "      <th>2</th>\n",
       "      <td>0.544696</td>\n",
       "      <td>-0.555556</td>\n",
       "    </tr>\n",
       "    <tr>\n",
       "      <th>3</th>\n",
       "      <td>0.310490</td>\n",
       "      <td>-0.333333</td>\n",
       "    </tr>\n",
       "    <tr>\n",
       "      <th>4</th>\n",
       "      <td>-0.005386</td>\n",
       "      <td>-0.111111</td>\n",
       "    </tr>\n",
       "    <tr>\n",
       "      <th>5</th>\n",
       "      <td>0.059612</td>\n",
       "      <td>0.111111</td>\n",
       "    </tr>\n",
       "    <tr>\n",
       "      <th>6</th>\n",
       "      <td>0.036102</td>\n",
       "      <td>0.333333</td>\n",
       "    </tr>\n",
       "    <tr>\n",
       "      <th>7</th>\n",
       "      <td>0.352668</td>\n",
       "      <td>0.555556</td>\n",
       "    </tr>\n",
       "    <tr>\n",
       "      <th>8</th>\n",
       "      <td>0.962698</td>\n",
       "      <td>0.777778</td>\n",
       "    </tr>\n",
       "    <tr>\n",
       "      <th>9</th>\n",
       "      <td>1.385696</td>\n",
       "      <td>1.000000</td>\n",
       "    </tr>\n",
       "  </tbody>\n",
       "</table>\n",
       "</div>"
      ],
      "text/plain": [
       "          y         x\n",
       "0  1.339712 -1.000000\n",
       "1  1.093429 -0.777778\n",
       "2  0.544696 -0.555556\n",
       "3  0.310490 -0.333333\n",
       "4 -0.005386 -0.111111\n",
       "5  0.059612  0.111111\n",
       "6  0.036102  0.333333\n",
       "7  0.352668  0.555556\n",
       "8  0.962698  0.777778\n",
       "9  1.385696  1.000000"
      ]
     },
     "execution_count": 2,
     "metadata": {},
     "output_type": "execute_result"
    }
   ],
   "source": [
    "correct_data = pd.DataFrame({\"y\": y, \"x\": x_data})\n",
    "correct_data  # データを作成"
   ]
  },
  {
   "cell_type": "code",
   "execution_count": 3,
   "metadata": {},
   "outputs": [
    {
     "data": {
      "image/png": "[encoded data removed]",
      "text/plain": [
       "<Figure size 432x288 with 1 Axes>"
      ]
     },
     "metadata": {
      "needs_background": "light"
     },
     "output_type": "display_data"
    }
   ],
   "source": [
    "# plt.plot(x, y, '.', xp, p(xp), '-', xp, p30(xp), '*')\n",
    "x = np.arange(-1.2, 1.2, 0.1)\n",
    "y = 1.5*x**2\n",
    "plt.plot(x,y)\n",
    "plt.scatter(correct_data[\"x\"], correct_data[\"y\"], color=\"red\")\n",
    "\n",
    "# plt.ylim(-2,2)\n",
    "plt.show()"
   ]
  },
  {
   "cell_type": "code",
   "execution_count": null,
   "metadata": {},
   "outputs": [],
   "source": []
  },
  {
   "cell_type": "markdown",
   "metadata": {},
   "source": [
    "# Q3. 2で生成したデータに対して、最急降下法を用いて<br>最小二乗誤差を最小化するように y = ax^{2} のパラメータ a を<br>決定するプログラムを書き、実行せよ。<br><br>また、その際に用いた式を書け。<br>「横軸をイテレーション、縦軸を誤差としたグラフ」と、<br>「横軸を $x$ 縦軸を $y$ として、データを点で、<br>パラメータ調整後の関数の出力を曲線で描画したグラフ」を描け。"
   ]
  },
  {
   "cell_type": "markdown",
   "metadata": {},
   "source": [
    "# A.3"
   ]
  },
  {
   "cell_type": "code",
   "execution_count": 4,
   "metadata": {},
   "outputs": [
    {
     "data": {
      "text/html": [
       "<div>\n",
       "<style scoped>\n",
       "    .dataframe tbody tr th:only-of-type {\n",
       "        vertical-align: middle;\n",
       "    }\n",
       "\n",
       "    .dataframe tbody tr th {\n",
       "        vertical-align: top;\n",
       "    }\n",
       "\n",
       "    .dataframe thead th {\n",
       "        text-align: right;\n",
       "    }\n",
       "</style>\n",
       "<table border=\"1\" class=\"dataframe\">\n",
       "  <thead>\n",
       "    <tr style=\"text-align: right;\">\n",
       "      <th></th>\n",
       "      <th>y</th>\n",
       "      <th>x</th>\n",
       "    </tr>\n",
       "  </thead>\n",
       "  <tbody>\n",
       "    <tr>\n",
       "      <th>0</th>\n",
       "      <td>1.339712</td>\n",
       "      <td>-1.000000</td>\n",
       "    </tr>\n",
       "    <tr>\n",
       "      <th>1</th>\n",
       "      <td>1.093429</td>\n",
       "      <td>-0.777778</td>\n",
       "    </tr>\n",
       "    <tr>\n",
       "      <th>2</th>\n",
       "      <td>0.544696</td>\n",
       "      <td>-0.555556</td>\n",
       "    </tr>\n",
       "    <tr>\n",
       "      <th>3</th>\n",
       "      <td>0.310490</td>\n",
       "      <td>-0.333333</td>\n",
       "    </tr>\n",
       "    <tr>\n",
       "      <th>4</th>\n",
       "      <td>-0.005386</td>\n",
       "      <td>-0.111111</td>\n",
       "    </tr>\n",
       "    <tr>\n",
       "      <th>5</th>\n",
       "      <td>0.059612</td>\n",
       "      <td>0.111111</td>\n",
       "    </tr>\n",
       "    <tr>\n",
       "      <th>6</th>\n",
       "      <td>0.036102</td>\n",
       "      <td>0.333333</td>\n",
       "    </tr>\n",
       "    <tr>\n",
       "      <th>7</th>\n",
       "      <td>0.352668</td>\n",
       "      <td>0.555556</td>\n",
       "    </tr>\n",
       "    <tr>\n",
       "      <th>8</th>\n",
       "      <td>0.962698</td>\n",
       "      <td>0.777778</td>\n",
       "    </tr>\n",
       "    <tr>\n",
       "      <th>9</th>\n",
       "      <td>1.385696</td>\n",
       "      <td>1.000000</td>\n",
       "    </tr>\n",
       "  </tbody>\n",
       "</table>\n",
       "</div>"
      ],
      "text/plain": [
       "          y         x\n",
       "0  1.339712 -1.000000\n",
       "1  1.093429 -0.777778\n",
       "2  0.544696 -0.555556\n",
       "3  0.310490 -0.333333\n",
       "4 -0.005386 -0.111111\n",
       "5  0.059612  0.111111\n",
       "6  0.036102  0.333333\n",
       "7  0.352668  0.555556\n",
       "8  0.962698  0.777778\n",
       "9  1.385696  1.000000"
      ]
     },
     "execution_count": 4,
     "metadata": {},
     "output_type": "execute_result"
    }
   ],
   "source": [
    "# Q2で求めたデータ\n",
    "correct_data"
   ]
  },
  {
   "cell_type": "code",
   "execution_count": 5,
   "metadata": {},
   "outputs": [],
   "source": [
    "# 予測式  \n",
    "# $\n",
    "# \\hat y = ax^2\n",
    "# $\n",
    "\n",
    "# 誤差関数  (パラメータaをwと置く)  \n",
    "# $\n",
    "# E(w)  = \\frac{1}{2}\\sum_{i}((wx^2_i) - y_i)^2  \n",
    "# $\n",
    "\n",
    "# 誤差関数の展開  \n",
    "# $\n",
    "# E(w) = \\frac{1}{2}\\sum_{i}(w^2x^4_i - 2wx^2_iy_i + y_i^2)  \n",
    "# $\n",
    "\n",
    "# $\n",
    "# E(w) = \\frac{1}{2}\\sum_{i}\\{x^2_i(w^2x^2_i) - x_i(2wx_iy_i) + y_i^2\\}  \n",
    "# $\n",
    "\n",
    "\n",
    "# 最急降下法  \n",
    "# $\n",
    "# w^(k+1) = w(k) - α\\frac{\\delta \\frac{1}{2}\\sum_{i}((wx^2_i) - y_i)^2}{\\delta w}\n",
    "# $\n",
    "\n",
    "# **結論：最急降下法を用いて最小二乗誤差を最小化式**  \n",
    "# $\n",
    "# パラメータ更新\n",
    "# w^(k+1) = w^(k) - α\\frac{\\delta \\frac{1}{2}\\sum_{i}\\{x^2_i(w^2x^2_i) - x_i(2wx_iy_i) + y_i^2\\}}{\\delta w}\n",
    "# $\n",
    "\n",
    "# ただ、パラメータの更新式はもっと簡単にできる。  \n",
    "# 上記展開前の誤差関数を微分する。  \n",
    "# $\n",
    "# E(w)  = \\frac{\\delta \\frac{1}{2}\\sum_{i}((wx^2_i) - y_i)^2}{\\delta w}   \n",
    "# $\n",
    "\n",
    "# $\n",
    "# w^(k+1) = w^(k) - α\\sum_{i}(wx^2_i - y_i)*x^2\n",
    "# $"
   ]
  },
  {
   "cell_type": "markdown",
   "metadata": {},
   "source": [
    "<img src=\"images/error_4.png\">"
   ]
  },
  {
   "cell_type": "markdown",
   "metadata": {},
   "source": [
    "### 上記更新式を使ってパラメータの更新。\n",
    "### 更新されたパラメータを使い誤差関数の値を求める\n",
    "\n",
    "**試しに、x[0]の値とy[0]の値だけで更新させてみる。**"
   ]
  },
  {
   "cell_type": "code",
   "execution_count": 6,
   "metadata": {},
   "outputs": [
    {
     "name": "stdout",
     "output_type": "stream",
     "text": [
      "error:  0    0.053796\n",
      "1    0.055323\n",
      "2    0.056482\n",
      "3    0.057261\n",
      "4    0.057653\n",
      "5    0.057653\n",
      "6    0.057261\n",
      "7    0.056482\n",
      "8    0.055323\n",
      "9    0.053796\n",
      "Name: x, dtype: float64\n",
      "error:  0    0.050009\n",
      "1    0.052987\n",
      "2    0.055273\n",
      "3    0.056822\n",
      "4    0.057604\n",
      "5    0.057604\n",
      "6    0.056822\n",
      "7    0.055273\n",
      "8    0.052987\n",
      "9    0.050009\n",
      "Name: x, dtype: float64\n",
      "error:  0    0.046342\n",
      "1    0.050695\n",
      "2    0.054076\n",
      "3    0.056384\n",
      "4    0.057555\n",
      "5    0.057555\n",
      "6    0.056384\n",
      "7    0.054076\n",
      "8    0.050695\n",
      "9    0.046342\n",
      "Name: x, dtype: float64\n",
      "error:  0    0.042797\n",
      "1    0.048446\n",
      "2    0.052889\n",
      "3    0.055948\n",
      "4    0.057506\n",
      "5    0.057506\n",
      "6    0.055948\n",
      "7    0.052889\n",
      "8    0.048446\n",
      "9    0.042797\n",
      "Name: x, dtype: float64\n",
      "error:  0    0.039377\n",
      "1    0.046242\n",
      "2    0.051714\n",
      "3    0.055513\n",
      "4    0.057457\n",
      "5    0.057457\n",
      "6    0.055513\n",
      "7    0.051714\n",
      "8    0.046242\n",
      "9    0.039377\n",
      "Name: x, dtype: float64\n",
      "error:  0    0.036083\n",
      "1    0.044083\n",
      "2    0.050551\n",
      "3    0.055080\n",
      "4    0.057408\n",
      "5    0.057408\n",
      "6    0.055080\n",
      "7    0.050551\n",
      "8    0.044083\n",
      "9    0.036083\n",
      "Name: x, dtype: float64\n",
      "error:  0    0.032918\n",
      "1    0.041969\n",
      "2    0.049399\n",
      "3    0.054648\n",
      "4    0.057359\n",
      "5    0.057359\n",
      "6    0.054648\n",
      "7    0.049399\n",
      "8    0.041969\n",
      "9    0.032918\n",
      "Name: x, dtype: float64\n",
      "error:  0    0.029883\n",
      "1    0.039901\n",
      "2    0.048258\n",
      "3    0.054217\n",
      "4    0.057310\n",
      "5    0.057310\n",
      "6    0.054217\n",
      "7    0.048258\n",
      "8    0.039901\n",
      "9    0.029883\n",
      "Name: x, dtype: float64\n",
      "error:  0    0.026980\n",
      "1    0.037880\n",
      "2    0.047129\n",
      "3    0.053788\n",
      "4    0.057261\n",
      "5    0.057261\n",
      "6    0.053788\n",
      "7    0.047129\n",
      "8    0.037880\n",
      "9    0.026980\n",
      "Name: x, dtype: float64\n",
      "error:  0    0.024213\n",
      "1    0.035904\n",
      "2    0.046012\n",
      "3    0.053360\n",
      "4    0.057212\n",
      "5    0.057212\n",
      "6    0.053360\n",
      "7    0.046012\n",
      "8    0.035904\n",
      "9    0.024213\n",
      "Name: x, dtype: float64\n"
     ]
    }
   ],
   "source": [
    "y = correct_data[\"y\"]  # データy\n",
    "x = correct_data[\"x\"]  # データx\n",
    "α = 0.005  # ハイパーパラメータ\n",
    "w = 1 # 初期値のパラメータw\n",
    "\n",
    "for _ in range(10):  # データ分更新\n",
    "    w = w - α*(w*x[0] - y[0])*x**2\n",
    "    error = 0.5 * ((w*x[0]**2) - y[0])**2\n",
    "    print(\"error: \", error)\n",
    "    \n",
    "# 誤差が小さくなっていることが分かる"
   ]
  },
  {
   "cell_type": "code",
   "execution_count": 11,
   "metadata": {},
   "outputs": [
    {
     "name": "stdout",
     "output_type": "stream",
     "text": [
      "誤差の平均値が許容誤差範囲内になりました。\n",
      "誤差平均値： 3.76968631987002e-05\n",
      "全てのパラメータ： 0    2.737148\n",
      "1    1.735228\n",
      "2    1.218438\n",
      "3    1.049631\n",
      "4    1.002106\n",
      "5    1.001120\n",
      "6    0.996306\n",
      "7    1.002970\n",
      "8    1.106000\n",
      "9    1.224535\n",
      "dtype: float64\n"
     ]
    },
    {
     "data": {
      "text/plain": [
       "0    2.737148\n",
       "1    1.735228\n",
       "2    1.218438\n",
       "3    1.049631\n",
       "4    1.002106\n",
       "5    1.001120\n",
       "6    0.996306\n",
       "7    1.002970\n",
       "8    1.106000\n",
       "9    1.224535\n",
       "dtype: float64"
      ]
     },
     "execution_count": 11,
     "metadata": {},
     "output_type": "execute_result"
    }
   ],
   "source": [
    "# 全てのデータを使い、誤差の平均が0 ~ 0.01になるパラメータを見つける\n",
    "allowable_error = None  # 許容誤差\n",
    "average_error = []\n",
    "average_w = []\n",
    "\n",
    "for _ in range(100):  # 100回更新\n",
    "    w = w - α*(w*x - y)*x**2  # パラメータ更新\n",
    "    error = 0.5 * ((w*x**2) - y)**2  # 誤差関数\n",
    "    allowable_error = sum(error)/len(x)  # データ全ての二乗誤差の平均値を求めている\n",
    "    \n",
    "    average_error.append(allowable_error)  # 二乗誤差平均をlistへ保存\n",
    "    average_w.append(sum(w)/len(w))  # 更新パラメータをlistへ保存\n",
    "    if allowable_error < 0.01:\n",
    "        print(\"誤差の平均値が許容誤差範囲内になりました。\")\n",
    "        print(\"誤差平均値：\", sum(error)/len(x))\n",
    "        print(\"全てのパラメータ：\", w)\n",
    "        break\n",
    "update_error = error        \n",
    "update_w = w   \n",
    "update_w"
   ]
  },
  {
   "cell_type": "markdown",
   "metadata": {},
   "source": [
    "# 横軸をイテレーション、縦軸を誤差としたグラフ"
   ]
  },
  {
   "cell_type": "code",
   "execution_count": 8,
   "metadata": {},
   "outputs": [
    {
     "data": {
      "text/plain": [
       "[0.025291841994667275,\n",
       " 0.024832384403842396,\n",
       " 0.02438834731465138,\n",
       " 0.023959960194550354,\n",
       " 0.02354745526406028,\n",
       " 0.023151067525520323,\n",
       " 0.02277103479214559,\n",
       " 0.02240759771739224,\n",
       " 0.02206099982463306,\n",
       " 0.021731487537146526,\n",
       " 0.021419310208422623,\n",
       " 0.021124720152788344,\n",
       " 0.02084797267635633,\n",
       " 0.020589326108299676,\n",
       " 0.02034904183245612,\n",
       " 0.02012738431926519,\n",
       " 0.01992462115804126,\n",
       " 0.019741023089586137,\n",
       " 0.019576864039144416,\n",
       " 0.01943242114970517,\n",
       " 0.019307974815653266,\n",
       " 0.019203808716773935,\n",
       " 0.019120209852614055,\n",
       " 0.019057468577203782,\n",
       " 0.019015878634142013,\n",
       " 0.01899573719204949,\n",
       " 0.018997344880393032,\n",
       " 0.019021005825684816,\n",
       " 0.019067027688060262,\n",
       " 0.019135721698238413,\n",
       " 0.019227402694868743,\n",
       " 0.019342389162267996,\n",
       " 0.019481003268551247,\n",
       " 0.019643570904160954,\n",
       " 0.01983042172079804,\n",
       " 0.020041889170759115,\n",
       " 0.020278310546683734,\n",
       " 0.020540027021715992,\n",
       " 0.020827383690084533,\n",
       " 0.02114072960810507,\n",
       " 0.02148041783560991,\n",
       " 0.021846805477808463,\n",
       " 0.022240253727583346,\n",
       " 0.022661127908226174,\n",
       " 0.02310979751661777,\n",
       " 0.023586636266856965,\n",
       " 0.024092022134342656,\n",
       " 0.024626337400313662,\n",
       " 0.025189968696850924,\n",
       " 0.025783307052346733,\n",
       " 0.026406747937445678,\n",
       " 0.027060691311462083,\n",
       " 0.027745541669278555,\n",
       " 0.028461708088730858,\n",
       " 0.02920960427848346,\n",
       " 0.029989648626401282,\n",
       " 0.030802264248422147,\n",
       " 0.0316478790379352,\n",
       " 0.03252692571567044,\n",
       " 0.0334398418801043,\n",
       " 0.03438707005838672,\n",
       " 0.03536905775779467,\n",
       " 0.03638625751771775,\n",
       " 0.037439126962180845,\n",
       " 0.038528128852909696,\n",
       " 0.0396537311429444,\n",
       " 0.04081640703080668,\n",
       " 0.042016635015226275,\n",
       " 0.043254898950432275,\n",
       " 0.04453168810201501,\n",
       " 0.04584749720336404,\n",
       " 0.04720282651268858,\n",
       " 0.048598181870625506,\n",
       " 0.050034074758441516,\n",
       " 0.051511022356835044,\n",
       " 0.05302954760534406,\n",
       " 0.05459017926236592,\n",
       " 0.05619345196579527,\n",
       " 0.05783990629428661,\n",
       " 0.05953008882914734,\n",
       " 0.0612645522168679,\n",
       " 0.06304385523229532,\n",
       " 0.06486856284245693,\n",
       " 0.06673924627104029,\n",
       " 0.06865648306353658,\n",
       " 0.07062085715305345,\n",
       " 0.07263295892680463,\n",
       " 0.07469338529328287,\n",
       " 0.07680273975012324,\n",
       " 0.07896163245266338,\n",
       " 0.08117068028320833,\n",
       " 0.08343050692100663,\n",
       " 0.08574174291294456,\n",
       " 0.0881050257449669,\n",
       " 0.09052099991423015,\n",
       " 0.09299031700199625,\n",
       " 0.09551363574727485,\n",
       " 0.09809162212122037,\n",
       " 0.10072494940229246,\n",
       " 0.10341429825218722]"
      ]
     },
     "execution_count": 8,
     "metadata": {},
     "output_type": "execute_result"
    }
   ],
   "source": [
    "average_error  # 二乗誤差の平均値を更新される度にlistへ保存しておいたもの"
   ]
  },
  {
   "cell_type": "code",
   "execution_count": 9,
   "metadata": {},
   "outputs": [
    {
     "data": {
      "image/png": "[encoded data removed]",
      "text/plain": [
       "<Figure size 432x288 with 1 Axes>"
      ]
     },
     "metadata": {
      "needs_background": "light"
     },
     "output_type": "display_data"
    }
   ],
   "source": [
    "# wは上記でパラメータ調整された値\n",
    "\n",
    "plt.plot(average_w,average_error)\n",
    "plt.scatter(average_w,average_error, color=\"red\")\n",
    "\n",
    "plt.show()\n",
    "\n",
    "# 以下のグラフより、パラメータwが更新される度に誤差が小さくなっている様子が分かる"
   ]
  },
  {
   "cell_type": "markdown",
   "metadata": {},
   "source": [
    "# 横軸を  𝑥  縦軸を  𝑦  として、データを点で、<br>パラメータ調整後の関数の出力を曲線で描画したグラフ"
   ]
  },
  {
   "cell_type": "code",
   "execution_count": 10,
   "metadata": {},
   "outputs": [
    {
     "data": {
      "image/png": "[encoded data removed]",
      "text/plain": [
       "<Figure size 432x288 with 1 Axes>"
      ]
     },
     "metadata": {
      "needs_background": "light"
     },
     "output_type": "display_data"
    }
   ],
   "source": [
    "# wは上記でパラメータ調整された値\n",
    "y = update_w*x**2\n",
    "plt.plot(x,y)\n",
    "plt.scatter(x, y, color=\"red\")\n",
    "\n",
    "plt.show()"
   ]
  },
  {
   "cell_type": "code",
   "execution_count": null,
   "metadata": {},
   "outputs": [],
   "source": []
  }
 ],
 "metadata": {
  "kernelspec": {
   "display_name": "Python 3",
   "language": "python",
   "name": "python3"
  },
  "language_info": {
   "codemirror_mode": {
    "name": "ipython",
    "version": 3
   },
   "file_extension": ".py",
   "mimetype": "text/x-python",
   "name": "python",
   "nbconvert_exporter": "python",
   "pygments_lexer": "ipython3",
   "version": "3.7.1"
  }
 },
 "nbformat": 4,
 "nbformat_minor": 2
}

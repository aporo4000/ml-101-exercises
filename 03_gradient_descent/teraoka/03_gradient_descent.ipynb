{
 "cells": [
  {
   "cell_type": "markdown",
   "metadata": {},
   "source": [
    "# 03_gradient_descent"
   ]
  },
  {
   "cell_type": "markdown",
   "metadata": {},
   "source": [
    "# Q1. 一変数の最急降下法について調べ、まとめよ。"
   ]
  },
  {
   "cell_type": "markdown",
   "metadata": {},
   "source": [
    "\n",
    "# A1. "
   ]
  },
  {
   "cell_type": "markdown",
   "metadata": {},
   "source": [
    "**結論：**  \n",
    "- 最急降下法とは、関数の傾きのみから、関数の最小値を探索する勾配法のアルゴリズムの一つ。  \n",
    "\n",
    "**説明：**  \n",
    "- 勾配法とは、関数の勾配を用いて最適な点を割り出す方法。  \n",
    "- 最適な点とは、今回の内容では関数の最小値。  \n",
    "- 最小値とはその関数がもつ最も小さい値。  \n",
    "- 但し、最小値は見つけることができないため、極小値を見つける。  \n",
    "- 極小値とは、局所的に定まる値。  \n",
    "- 勾配法では、説明変数に与える値を反復させながら説明変数を極小値へ近づけていく。  \n",
    "- k回目の反復で極小値がx^(k)の位置にある。  \n",
    "\n",
    "引用：https://ja.wikipedia.org/wiki/%E6%9C%80%E6%80%A5%E9%99%8D%E4%B8%8B%E6%B3%95"
   ]
  },
  {
   "cell_type": "markdown",
   "metadata": {},
   "source": [
    "<img src=\"images/gradient_descent.png\">"
   ]
  },
  {
   "cell_type": "markdown",
   "metadata": {},
   "source": [
    "勾配法の式  \n",
    "\n",
    "<img src=\"images/delta.png\">"
   ]
  },
  {
   "cell_type": "markdown",
   "metadata": {},
   "source": [
    "上記式に値を入れて更新値を確認してみる。  \n",
    "スタート地点**x0の値を-3**とする。\n",
    "調整項**αの値を0.1**とする。  \n",
    "\n",
    "<img src=\"images/update.png\">"
   ]
  },
  {
   "cell_type": "code",
   "execution_count": null,
   "metadata": {},
   "outputs": [],
   "source": []
  },
  {
   "cell_type": "markdown",
   "metadata": {},
   "source": [
    "# Q2. y = 1.5x^{2} + e (e は平均0、標準偏差 0.1 の正規分布に従う確率変数) <br>を用いてデータを生成せよ。"
   ]
  },
  {
   "cell_type": "markdown",
   "metadata": {},
   "source": [
    "# A."
   ]
  },
  {
   "cell_type": "markdown",
   "metadata": {},
   "source": [
    "<img src=\"images/e.png\">\n",
    "\n",
    "<img src=\"images/e_3.png\">"
   ]
  },
  {
   "cell_type": "markdown",
   "metadata": {},
   "source": [
    "上記式を用いてデータを作った様子をグラフに表現している。"
   ]
  },
  {
   "cell_type": "code",
   "execution_count": 4,
   "metadata": {},
   "outputs": [
    {
     "data": {
      "text/plain": [
       "array([ 1.53349385,  1.02017173,  0.22697913,  0.2732473 ,  0.01963899,\n",
       "       -0.0446741 ,  0.29414663,  0.50473952,  0.86795766,  1.63639038])"
      ]
     },
     "execution_count": 4,
     "metadata": {},
     "output_type": "execute_result"
    }
   ],
   "source": [
    "from numpy.random import *\n",
    "import pandas as pd\n",
    "import numpy as np\n",
    "import matplotlib.pyplot as plt\n",
    "\n",
    "x_data = np.linspace(-1,1, num=10)  # -1から1までの等差数列を20個作る\n",
    "error = np.random.normal(0, 0.1, 10)  # 平均0, 標準偏差0.1 の正規分布に則ったランダム値を20個作る\n",
    "\n",
    "y =1.5*(x_data**2)+error # y = 1.5*x^2 + eの関数\n",
    "\n",
    "y"
   ]
  },
  {
   "cell_type": "code",
   "execution_count": null,
   "metadata": {},
   "outputs": [],
   "source": []
  },
  {
   "cell_type": "code",
   "execution_count": 5,
   "metadata": {},
   "outputs": [
    {
     "data": {
      "text/html": [
       "<div>\n",
       "<style scoped>\n",
       "    .dataframe tbody tr th:only-of-type {\n",
       "        vertical-align: middle;\n",
       "    }\n",
       "\n",
       "    .dataframe tbody tr th {\n",
       "        vertical-align: top;\n",
       "    }\n",
       "\n",
       "    .dataframe thead th {\n",
       "        text-align: right;\n",
       "    }\n",
       "</style>\n",
       "<table border=\"1\" class=\"dataframe\">\n",
       "  <thead>\n",
       "    <tr style=\"text-align: right;\">\n",
       "      <th></th>\n",
       "      <th>y</th>\n",
       "      <th>x</th>\n",
       "    </tr>\n",
       "  </thead>\n",
       "  <tbody>\n",
       "    <tr>\n",
       "      <th>0</th>\n",
       "      <td>1.533494</td>\n",
       "      <td>-1.000000</td>\n",
       "    </tr>\n",
       "    <tr>\n",
       "      <th>1</th>\n",
       "      <td>1.020172</td>\n",
       "      <td>-0.777778</td>\n",
       "    </tr>\n",
       "    <tr>\n",
       "      <th>2</th>\n",
       "      <td>0.226979</td>\n",
       "      <td>-0.555556</td>\n",
       "    </tr>\n",
       "    <tr>\n",
       "      <th>3</th>\n",
       "      <td>0.273247</td>\n",
       "      <td>-0.333333</td>\n",
       "    </tr>\n",
       "    <tr>\n",
       "      <th>4</th>\n",
       "      <td>0.019639</td>\n",
       "      <td>-0.111111</td>\n",
       "    </tr>\n",
       "    <tr>\n",
       "      <th>5</th>\n",
       "      <td>-0.044674</td>\n",
       "      <td>0.111111</td>\n",
       "    </tr>\n",
       "    <tr>\n",
       "      <th>6</th>\n",
       "      <td>0.294147</td>\n",
       "      <td>0.333333</td>\n",
       "    </tr>\n",
       "    <tr>\n",
       "      <th>7</th>\n",
       "      <td>0.504740</td>\n",
       "      <td>0.555556</td>\n",
       "    </tr>\n",
       "    <tr>\n",
       "      <th>8</th>\n",
       "      <td>0.867958</td>\n",
       "      <td>0.777778</td>\n",
       "    </tr>\n",
       "    <tr>\n",
       "      <th>9</th>\n",
       "      <td>1.636390</td>\n",
       "      <td>1.000000</td>\n",
       "    </tr>\n",
       "  </tbody>\n",
       "</table>\n",
       "</div>"
      ],
      "text/plain": [
       "          y         x\n",
       "0  1.533494 -1.000000\n",
       "1  1.020172 -0.777778\n",
       "2  0.226979 -0.555556\n",
       "3  0.273247 -0.333333\n",
       "4  0.019639 -0.111111\n",
       "5 -0.044674  0.111111\n",
       "6  0.294147  0.333333\n",
       "7  0.504740  0.555556\n",
       "8  0.867958  0.777778\n",
       "9  1.636390  1.000000"
      ]
     },
     "execution_count": 5,
     "metadata": {},
     "output_type": "execute_result"
    }
   ],
   "source": [
    "correct_data = pd.DataFrame({\"y\": y, \"x\": x_data})\n",
    "correct_data  # データを作成"
   ]
  },
  {
   "cell_type": "code",
   "execution_count": 6,
   "metadata": {},
   "outputs": [
    {
     "data": {
      "image/png": "[encoded data removed]",
      "text/plain": [
       "<Figure size 432x288 with 1 Axes>"
      ]
     },
     "metadata": {
      "needs_background": "light"
     },
     "output_type": "display_data"
    }
   ],
   "source": [
    "# plt.plot(x, y, '.', xp, p(xp), '-', xp, p30(xp), '*')\n",
    "x = np.arange(-1.2, 1.2, 0.1)\n",
    "y = 1.5*x**2\n",
    "plt.plot(x,y)\n",
    "plt.scatter(correct_data[\"x\"], correct_data[\"y\"], color=\"red\")\n",
    "\n",
    "# plt.ylim(-2,2)\n",
    "plt.show()"
   ]
  },
  {
   "cell_type": "code",
   "execution_count": null,
   "metadata": {},
   "outputs": [],
   "source": []
  },
  {
   "cell_type": "markdown",
   "metadata": {},
   "source": [
    "# Q3. 2で生成したデータに対して、最急降下法を用いて<br>最小二乗誤差を最小化するように y = ax^{2} のパラメータ a を<br>決定するプログラムを書き、実行せよ。<br><br>また、その際に用いた式を書け。<br>「横軸をイテレーション、縦軸を誤差としたグラフ」と、<br>「横軸を $x$ 縦軸を $y$ として、データを点で、<br>パラメータ調整後の関数の出力を曲線で描画したグラフ」を描け。"
   ]
  },
  {
   "cell_type": "markdown",
   "metadata": {},
   "source": [
    "# A.3"
   ]
  },
  {
   "cell_type": "code",
   "execution_count": 9,
   "metadata": {},
   "outputs": [
    {
     "data": {
      "text/html": [
       "<div>\n",
       "<style scoped>\n",
       "    .dataframe tbody tr th:only-of-type {\n",
       "        vertical-align: middle;\n",
       "    }\n",
       "\n",
       "    .dataframe tbody tr th {\n",
       "        vertical-align: top;\n",
       "    }\n",
       "\n",
       "    .dataframe thead th {\n",
       "        text-align: right;\n",
       "    }\n",
       "</style>\n",
       "<table border=\"1\" class=\"dataframe\">\n",
       "  <thead>\n",
       "    <tr style=\"text-align: right;\">\n",
       "      <th></th>\n",
       "      <th>y</th>\n",
       "      <th>x</th>\n",
       "    </tr>\n",
       "  </thead>\n",
       "  <tbody>\n",
       "    <tr>\n",
       "      <th>0</th>\n",
       "      <td>1.533494</td>\n",
       "      <td>-1.000000</td>\n",
       "    </tr>\n",
       "    <tr>\n",
       "      <th>1</th>\n",
       "      <td>1.020172</td>\n",
       "      <td>-0.777778</td>\n",
       "    </tr>\n",
       "    <tr>\n",
       "      <th>2</th>\n",
       "      <td>0.226979</td>\n",
       "      <td>-0.555556</td>\n",
       "    </tr>\n",
       "    <tr>\n",
       "      <th>3</th>\n",
       "      <td>0.273247</td>\n",
       "      <td>-0.333333</td>\n",
       "    </tr>\n",
       "    <tr>\n",
       "      <th>4</th>\n",
       "      <td>0.019639</td>\n",
       "      <td>-0.111111</td>\n",
       "    </tr>\n",
       "    <tr>\n",
       "      <th>5</th>\n",
       "      <td>-0.044674</td>\n",
       "      <td>0.111111</td>\n",
       "    </tr>\n",
       "    <tr>\n",
       "      <th>6</th>\n",
       "      <td>0.294147</td>\n",
       "      <td>0.333333</td>\n",
       "    </tr>\n",
       "    <tr>\n",
       "      <th>7</th>\n",
       "      <td>0.504740</td>\n",
       "      <td>0.555556</td>\n",
       "    </tr>\n",
       "    <tr>\n",
       "      <th>8</th>\n",
       "      <td>0.867958</td>\n",
       "      <td>0.777778</td>\n",
       "    </tr>\n",
       "    <tr>\n",
       "      <th>9</th>\n",
       "      <td>1.636390</td>\n",
       "      <td>1.000000</td>\n",
       "    </tr>\n",
       "  </tbody>\n",
       "</table>\n",
       "</div>"
      ],
      "text/plain": [
       "          y         x\n",
       "0  1.533494 -1.000000\n",
       "1  1.020172 -0.777778\n",
       "2  0.226979 -0.555556\n",
       "3  0.273247 -0.333333\n",
       "4  0.019639 -0.111111\n",
       "5 -0.044674  0.111111\n",
       "6  0.294147  0.333333\n",
       "7  0.504740  0.555556\n",
       "8  0.867958  0.777778\n",
       "9  1.636390  1.000000"
      ]
     },
     "execution_count": 9,
     "metadata": {},
     "output_type": "execute_result"
    }
   ],
   "source": [
    "# Q2で求めたデータ\n",
    "correct_data"
   ]
  },
  {
   "cell_type": "code",
   "execution_count": 31,
   "metadata": {},
   "outputs": [],
   "source": [
    "# 予測式  \n",
    "# $\n",
    "# \\hat y = ax^2\n",
    "# $\n",
    "\n",
    "# 誤差関数  (パラメータaをwと置く)  \n",
    "# $\n",
    "# E(w)  = \\frac{1}{2}\\sum_{i}((wx^2_i) - y_i)^2  \n",
    "# $\n",
    "\n",
    "# 誤差関数の展開  \n",
    "# $\n",
    "# E(w) = \\frac{1}{2}\\sum_{i}(w^2x^4_i - 2wx^2_iy_i + y_i^2)  \n",
    "# $\n",
    "\n",
    "# $\n",
    "# E(w) = \\frac{1}{2}\\sum_{i}\\{x^2_i(w^2x^2_i) - x_i(2wx_iy_i) + y_i^2\\}  \n",
    "# $\n",
    "\n",
    "\n",
    "# 最急降下法  \n",
    "# $\n",
    "# w^(k+1) = w(k) - α\\frac{\\delta \\frac{1}{2}\\sum_{i}((wx^2_i) - y_i)^2}{\\delta w}\n",
    "# $\n",
    "\n",
    "# **結論：最急降下法を用いて最小二乗誤差を最小化式**  \n",
    "# $\n",
    "# パラメータ更新\n",
    "# w^(k+1) = w^(k) - α\\frac{\\delta \\frac{1}{2}\\sum_{i}\\{x^2_i(w^2x^2_i) - x_i(2wx_iy_i) + y_i^2\\}}{\\delta w}\n",
    "# $\n",
    "\n",
    "# ただ、パラメータの更新式はもっと簡単にできる。  \n",
    "# 上記展開前の誤差関数を微分する。  \n",
    "# $\n",
    "# E(w)  = \\frac{\\delta \\frac{1}{2}\\sum_{i}((wx^2_i) - y_i)^2}{\\delta w}   \n",
    "# $\n",
    "\n",
    "# $\n",
    "# w^(k+1) = w^(k) - α\\sum_{i}(wx^2_i - y_i)*1\n",
    "# $"
   ]
  },
  {
   "cell_type": "markdown",
   "metadata": {},
   "source": [
    "<img src=\"images/delta_2.png\">"
   ]
  },
  {
   "cell_type": "markdown",
   "metadata": {},
   "source": [
    "### 上記更新式を使ってパラメータの更新。\n",
    "### 更新されたパラメータを使い誤差関数の値を求める\n",
    "\n",
    "**試しに、x[0]の値とy[0]の値だけで更新させてみる。**"
   ]
  },
  {
   "cell_type": "code",
   "execution_count": 71,
   "metadata": {},
   "outputs": [
    {
     "name": "stdout",
     "output_type": "stream",
     "text": [
      "error:  0.12911273726197833\n",
      "error:  0.11643720112612214\n",
      "error:  0.10429952424846041\n",
      "error:  0.09271844397542815\n",
      "error:  0.08171315353787713\n",
      "error:  0.07130331200699012\n",
      "error:  0.06150905445823577\n",
      "error:  0.05235100234762391\n",
      "error:  0.043850274104609975\n",
      "error:  0.036028495946082886\n"
     ]
    }
   ],
   "source": [
    "y = correct_data[\"y\"]  # データy\n",
    "x = correct_data[\"x\"]  # データx\n",
    "α = 0.01  # ハイパーパラメータ\n",
    "w = 1 # 初期値のパラメータw\n",
    "\n",
    "for _ in range(10):  # データ分更新\n",
    "    w = w - α*(w*x[0] - y[0])*1\n",
    "    error = 0.5 * ((w*x[0]**2) - y[0])**2\n",
    "    print(\"error: \", error)\n",
    "    \n",
    "# 誤差が小さくなっていることが分かる"
   ]
  },
  {
   "cell_type": "code",
   "execution_count": 72,
   "metadata": {},
   "outputs": [
    {
     "name": "stdout",
     "output_type": "stream",
     "text": [
      "誤差の平均値が許容誤差範囲内になりました。\n",
      "誤差平均値： 0.014656869766748052\n",
      "全てのパラメータ： 0    1.378692\n",
      "1    1.346164\n",
      "2    1.302562\n",
      "3    1.292996\n",
      "4    1.271478\n",
      "5    1.257662\n",
      "6    1.259983\n",
      "7    1.257202\n",
      "8    1.260474\n",
      "9    1.279691\n",
      "dtype: float64\n"
     ]
    }
   ],
   "source": [
    "# 全てのデータを使い、誤差の平均が0 ~ 0.01になるパラメータを見つける\n",
    "allowable_error = None  # 許容誤差\n",
    "\n",
    "for _ in range(100):  # 100回更新\n",
    "    w = w - α*(w*x - y)*1\n",
    "    error = 0.5 * ((w*x**2) - y)**2\n",
    "    allowable_error = sum(error)/len(x)\n",
    "    if allowable_error < 0.015:\n",
    "        print(\"誤差の平均値が許容誤差範囲内になりました。\")\n",
    "        print(\"誤差平均値：\", sum(error)/len(x))\n",
    "        print(\"全てのパラメータ：\", w)\n",
    "        break"
   ]
  },
  {
   "cell_type": "code",
   "execution_count": null,
   "metadata": {},
   "outputs": [],
   "source": []
  }
 ],
 "metadata": {
  "kernelspec": {
   "display_name": "Python 3",
   "language": "python",
   "name": "python3"
  },
  "language_info": {
   "codemirror_mode": {
    "name": "ipython",
    "version": 3
   },
   "file_extension": ".py",
   "mimetype": "text/x-python",
   "name": "python",
   "nbconvert_exporter": "python",
   "pygments_lexer": "ipython3",
   "version": "3.7.1"
  }
 },
 "nbformat": 4,
 "nbformat_minor": 2
}

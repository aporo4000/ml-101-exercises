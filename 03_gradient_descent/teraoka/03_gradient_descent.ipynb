{
 "cells": [
  {
   "cell_type": "markdown",
   "metadata": {},
   "source": [
    "# 03_gradient_descent"
   ]
  },
  {
   "cell_type": "markdown",
   "metadata": {},
   "source": [
    "# Q1. 一変数の最急降下法について調べ、まとめよ。"
   ]
  },
  {
   "cell_type": "markdown",
   "metadata": {},
   "source": [
    "\n",
    "# A1. "
   ]
  },
  {
   "cell_type": "markdown",
   "metadata": {},
   "source": [
    "**結論：**  \n",
    "- 最急降下法とは、関数の傾きのみから、関数の最小値を探索する勾配法のアルゴリズムの一つ。  \n",
    "\n",
    "**説明：**  \n",
    "- 勾配法とは、関数の勾配を用いて最適な点を割り出す方法。  \n",
    "- 最適な点とは、今回の内容では関数の最小値。  \n",
    "- 最小値とはその関数がもつ最も小さい値。  \n",
    "- 但し、最小値は見つけることができないため、極小値を見つける。  \n",
    "- 極小値とは、局所的に定まる値。  \n",
    "- 勾配法では、説明変数に与える値を反復させながら説明変数を極小値へ近づけていく。  \n",
    "- k回目の反復で極小値がx^(k)の位置にある。  \n",
    "\n",
    "引用：https://ja.wikipedia.org/wiki/%E6%9C%80%E6%80%A5%E9%99%8D%E4%B8%8B%E6%B3%95"
   ]
  },
  {
   "cell_type": "markdown",
   "metadata": {},
   "source": [
    "<img src=\"images/gradient_descent.png\">"
   ]
  },
  {
   "cell_type": "markdown",
   "metadata": {},
   "source": [
    "勾配法の式  \n",
    "\n",
    "<img src=\"images/delta.png\">"
   ]
  },
  {
   "cell_type": "markdown",
   "metadata": {},
   "source": [
    "上記式に値を入れて更新値を確認してみる。  \n",
    "スタート地点**x0の値を-3**とする。\n",
    "調整項**αの値を0.1**とする。  \n",
    "\n",
    "<img src=\"images/update.png\">"
   ]
  },
  {
   "cell_type": "code",
   "execution_count": null,
   "metadata": {},
   "outputs": [],
   "source": []
  },
  {
   "cell_type": "markdown",
   "metadata": {},
   "source": [
    "# Q2. y = 1.5x^{2} + e (e は平均0、標準偏差 0.1 の正規分布に従う確率変数) <br>を用いてデータを生成せよ。"
   ]
  },
  {
   "cell_type": "markdown",
   "metadata": {},
   "source": [
    "# A."
   ]
  },
  {
   "cell_type": "markdown",
   "metadata": {},
   "source": [
    "<img src=\"images/e.png\">\n",
    "\n",
    "<img src=\"images/e_3.png\">"
   ]
  },
  {
   "cell_type": "markdown",
   "metadata": {},
   "source": [
    "上記式を用いてデータを作った様子をグラフに表現している。"
   ]
  },
  {
   "cell_type": "code",
   "execution_count": 1,
   "metadata": {},
   "outputs": [
    {
     "data": {
      "text/plain": [
       "array([ 1.50307368,  1.0882462 ,  0.48888032,  0.3275242 , -0.06695981,\n",
       "       -0.06163631,  0.13440071,  0.37265422,  0.88198108,  1.47205124])"
      ]
     },
     "execution_count": 1,
     "metadata": {},
     "output_type": "execute_result"
    }
   ],
   "source": [
    "from numpy.random import *\n",
    "import pandas as pd\n",
    "import numpy as np\n",
    "import matplotlib.pyplot as plt\n",
    "\n",
    "x_data = np.linspace(-1,1, num=10)  # -1から1までの等差数列を20個作る\n",
    "error = np.random.normal(0, 0.1, 10)  # 平均0, 標準偏差0.1 の正規分布に則ったランダム値を20個作る\n",
    "\n",
    "y =1.5*(x_data**2)+error # y = 1.5*x^2 + eの関数\n",
    "\n",
    "y"
   ]
  },
  {
   "cell_type": "code",
   "execution_count": null,
   "metadata": {},
   "outputs": [],
   "source": []
  },
  {
   "cell_type": "code",
   "execution_count": 2,
   "metadata": {},
   "outputs": [
    {
     "data": {
      "text/html": [
       "<div>\n",
       "<style scoped>\n",
       "    .dataframe tbody tr th:only-of-type {\n",
       "        vertical-align: middle;\n",
       "    }\n",
       "\n",
       "    .dataframe tbody tr th {\n",
       "        vertical-align: top;\n",
       "    }\n",
       "\n",
       "    .dataframe thead th {\n",
       "        text-align: right;\n",
       "    }\n",
       "</style>\n",
       "<table border=\"1\" class=\"dataframe\">\n",
       "  <thead>\n",
       "    <tr style=\"text-align: right;\">\n",
       "      <th></th>\n",
       "      <th>y</th>\n",
       "      <th>x</th>\n",
       "    </tr>\n",
       "  </thead>\n",
       "  <tbody>\n",
       "    <tr>\n",
       "      <th>0</th>\n",
       "      <td>1.503074</td>\n",
       "      <td>-1.000000</td>\n",
       "    </tr>\n",
       "    <tr>\n",
       "      <th>1</th>\n",
       "      <td>1.088246</td>\n",
       "      <td>-0.777778</td>\n",
       "    </tr>\n",
       "    <tr>\n",
       "      <th>2</th>\n",
       "      <td>0.488880</td>\n",
       "      <td>-0.555556</td>\n",
       "    </tr>\n",
       "    <tr>\n",
       "      <th>3</th>\n",
       "      <td>0.327524</td>\n",
       "      <td>-0.333333</td>\n",
       "    </tr>\n",
       "    <tr>\n",
       "      <th>4</th>\n",
       "      <td>-0.066960</td>\n",
       "      <td>-0.111111</td>\n",
       "    </tr>\n",
       "    <tr>\n",
       "      <th>5</th>\n",
       "      <td>-0.061636</td>\n",
       "      <td>0.111111</td>\n",
       "    </tr>\n",
       "    <tr>\n",
       "      <th>6</th>\n",
       "      <td>0.134401</td>\n",
       "      <td>0.333333</td>\n",
       "    </tr>\n",
       "    <tr>\n",
       "      <th>7</th>\n",
       "      <td>0.372654</td>\n",
       "      <td>0.555556</td>\n",
       "    </tr>\n",
       "    <tr>\n",
       "      <th>8</th>\n",
       "      <td>0.881981</td>\n",
       "      <td>0.777778</td>\n",
       "    </tr>\n",
       "    <tr>\n",
       "      <th>9</th>\n",
       "      <td>1.472051</td>\n",
       "      <td>1.000000</td>\n",
       "    </tr>\n",
       "  </tbody>\n",
       "</table>\n",
       "</div>"
      ],
      "text/plain": [
       "          y         x\n",
       "0  1.503074 -1.000000\n",
       "1  1.088246 -0.777778\n",
       "2  0.488880 -0.555556\n",
       "3  0.327524 -0.333333\n",
       "4 -0.066960 -0.111111\n",
       "5 -0.061636  0.111111\n",
       "6  0.134401  0.333333\n",
       "7  0.372654  0.555556\n",
       "8  0.881981  0.777778\n",
       "9  1.472051  1.000000"
      ]
     },
     "execution_count": 2,
     "metadata": {},
     "output_type": "execute_result"
    }
   ],
   "source": [
    "correct_data = pd.DataFrame({\"y\": y, \"x\": x_data})\n",
    "correct_data  # データを作成"
   ]
  },
  {
   "cell_type": "code",
   "execution_count": 3,
   "metadata": {},
   "outputs": [
    {
     "data": {
      "image/png": "[encoded data removed]",
      "text/plain": [
       "<Figure size 432x288 with 1 Axes>"
      ]
     },
     "metadata": {
      "needs_background": "light"
     },
     "output_type": "display_data"
    }
   ],
   "source": [
    "# plt.plot(x, y, '.', xp, p(xp), '-', xp, p30(xp), '*')\n",
    "x = np.arange(-1.2, 1.2, 0.1)\n",
    "y = 1.5*x**2\n",
    "plt.plot(x,y)\n",
    "plt.scatter(correct_data[\"x\"], correct_data[\"y\"], color=\"red\")\n",
    "\n",
    "# plt.ylim(-2,2)\n",
    "plt.show()"
   ]
  },
  {
   "cell_type": "code",
   "execution_count": null,
   "metadata": {},
   "outputs": [],
   "source": []
  },
  {
   "cell_type": "markdown",
   "metadata": {},
   "source": [
    "# Q3. 2で生成したデータに対して、最急降下法を用いて<br>最小二乗誤差を最小化するように y = ax^{2} のパラメータ a を<br>決定するプログラムを書き、実行せよ。<br><br>また、その際に用いた式を書け。<br>「横軸をイテレーション、縦軸を誤差としたグラフ」と、<br>「横軸を $x$ 縦軸を $y$ として、データを点で、<br>パラメータ調整後の関数の出力を曲線で描画したグラフ」を描け。"
   ]
  },
  {
   "cell_type": "markdown",
   "metadata": {},
   "source": [
    "# A.3"
   ]
  },
  {
   "cell_type": "code",
   "execution_count": 4,
   "metadata": {},
   "outputs": [
    {
     "data": {
      "text/html": [
       "<div>\n",
       "<style scoped>\n",
       "    .dataframe tbody tr th:only-of-type {\n",
       "        vertical-align: middle;\n",
       "    }\n",
       "\n",
       "    .dataframe tbody tr th {\n",
       "        vertical-align: top;\n",
       "    }\n",
       "\n",
       "    .dataframe thead th {\n",
       "        text-align: right;\n",
       "    }\n",
       "</style>\n",
       "<table border=\"1\" class=\"dataframe\">\n",
       "  <thead>\n",
       "    <tr style=\"text-align: right;\">\n",
       "      <th></th>\n",
       "      <th>y</th>\n",
       "      <th>x</th>\n",
       "    </tr>\n",
       "  </thead>\n",
       "  <tbody>\n",
       "    <tr>\n",
       "      <th>0</th>\n",
       "      <td>1.503074</td>\n",
       "      <td>-1.000000</td>\n",
       "    </tr>\n",
       "    <tr>\n",
       "      <th>1</th>\n",
       "      <td>1.088246</td>\n",
       "      <td>-0.777778</td>\n",
       "    </tr>\n",
       "    <tr>\n",
       "      <th>2</th>\n",
       "      <td>0.488880</td>\n",
       "      <td>-0.555556</td>\n",
       "    </tr>\n",
       "    <tr>\n",
       "      <th>3</th>\n",
       "      <td>0.327524</td>\n",
       "      <td>-0.333333</td>\n",
       "    </tr>\n",
       "    <tr>\n",
       "      <th>4</th>\n",
       "      <td>-0.066960</td>\n",
       "      <td>-0.111111</td>\n",
       "    </tr>\n",
       "    <tr>\n",
       "      <th>5</th>\n",
       "      <td>-0.061636</td>\n",
       "      <td>0.111111</td>\n",
       "    </tr>\n",
       "    <tr>\n",
       "      <th>6</th>\n",
       "      <td>0.134401</td>\n",
       "      <td>0.333333</td>\n",
       "    </tr>\n",
       "    <tr>\n",
       "      <th>7</th>\n",
       "      <td>0.372654</td>\n",
       "      <td>0.555556</td>\n",
       "    </tr>\n",
       "    <tr>\n",
       "      <th>8</th>\n",
       "      <td>0.881981</td>\n",
       "      <td>0.777778</td>\n",
       "    </tr>\n",
       "    <tr>\n",
       "      <th>9</th>\n",
       "      <td>1.472051</td>\n",
       "      <td>1.000000</td>\n",
       "    </tr>\n",
       "  </tbody>\n",
       "</table>\n",
       "</div>"
      ],
      "text/plain": [
       "          y         x\n",
       "0  1.503074 -1.000000\n",
       "1  1.088246 -0.777778\n",
       "2  0.488880 -0.555556\n",
       "3  0.327524 -0.333333\n",
       "4 -0.066960 -0.111111\n",
       "5 -0.061636  0.111111\n",
       "6  0.134401  0.333333\n",
       "7  0.372654  0.555556\n",
       "8  0.881981  0.777778\n",
       "9  1.472051  1.000000"
      ]
     },
     "execution_count": 4,
     "metadata": {},
     "output_type": "execute_result"
    }
   ],
   "source": [
    "# Q2で求めたデータ\n",
    "correct_data"
   ]
  },
  {
   "cell_type": "code",
   "execution_count": 5,
   "metadata": {},
   "outputs": [],
   "source": [
    "# 予測式  \n",
    "# $\n",
    "# \\hat y = ax^2\n",
    "# $\n",
    "\n",
    "# 誤差関数  (パラメータaをwと置く)  \n",
    "# $\n",
    "# E(w)  = \\frac{1}{2}\\sum_{i}((wx^2_i) - y_i)^2  \n",
    "# $\n",
    "\n",
    "# 誤差関数の展開  \n",
    "# $\n",
    "# E(w) = \\frac{1}{2}\\sum_{i}(w^2x^4_i - 2wx^2_iy_i + y_i^2)  \n",
    "# $\n",
    "\n",
    "# $\n",
    "# E(w) = \\frac{1}{2}\\sum_{i}\\{x^2_i(w^2x^2_i) - x_i(2wx_iy_i) + y_i^2\\}  \n",
    "# $\n",
    "\n",
    "\n",
    "# 最急降下法  \n",
    "# $\n",
    "# w^(k+1) = w(k) - α\\frac{\\delta \\frac{1}{2}\\sum_{i}((wx^2_i) - y_i)^2}{\\delta w}\n",
    "# $\n",
    "\n",
    "# **結論：最急降下法を用いて最小二乗誤差を最小化式**  \n",
    "# $\n",
    "# パラメータ更新\n",
    "# w^(k+1) = w^(k) - α\\frac{\\delta \\frac{1}{2}\\sum_{i}\\{x^2_i(w^2x^2_i) - x_i(2wx_iy_i) + y_i^2\\}}{\\delta w}\n",
    "# $\n",
    "\n",
    "# ただ、パラメータの更新式はもっと簡単にできる。  \n",
    "# 上記展開前の誤差関数を微分する。  \n",
    "# $\n",
    "# E(w)  = \\frac{\\delta \\frac{1}{2}\\sum_{i}((wx^2_i) - y_i)^2}{\\delta w}   \n",
    "# $\n",
    "\n",
    "# $\n",
    "# w^(k+1) = w^(k) - α\\sum_{i}(wx^2_i - y_i)*x^2\n",
    "# $"
   ]
  },
  {
   "cell_type": "markdown",
   "metadata": {},
   "source": [
    "<img src=\"images/error_4.png\">"
   ]
  },
  {
   "cell_type": "markdown",
   "metadata": {},
   "source": [
    "### 上記更新式を使ってパラメータの更新。\n",
    "### 更新されたパラメータを使い誤差関数の値を求める\n",
    "\n",
    "**試しに、x[0]の値とy[0]の値だけで更新させてみる。**"
   ]
  },
  {
   "cell_type": "code",
   "execution_count": 6,
   "metadata": {},
   "outputs": [
    {
     "name": "stdout",
     "output_type": "stream",
     "text": [
      "error:  0    0.120324\n",
      "1    0.122761\n",
      "2    0.124606\n",
      "3    0.125843\n",
      "4    0.126464\n",
      "5    0.126464\n",
      "6    0.125843\n",
      "7    0.124606\n",
      "8    0.122761\n",
      "9    0.120324\n",
      "Name: x, dtype: float64\n",
      "error:  0    0.114233\n",
      "1    0.119027\n",
      "2    0.122682\n",
      "3    0.125146\n",
      "4    0.126386\n",
      "5    0.126386\n",
      "6    0.125146\n",
      "7    0.122682\n",
      "8    0.119027\n",
      "9    0.114233\n",
      "Name: x, dtype: float64\n",
      "error:  0    0.108270\n",
      "1    0.115340\n",
      "2    0.120770\n",
      "3    0.124450\n",
      "4    0.126308\n",
      "5    0.126308\n",
      "6    0.124450\n",
      "7    0.120770\n",
      "8    0.115340\n",
      "9    0.108270\n",
      "Name: x, dtype: float64\n",
      "error:  0    0.102439\n",
      "1    0.111700\n",
      "2    0.118870\n",
      "3    0.123756\n",
      "4    0.126231\n",
      "5    0.126231\n",
      "6    0.123756\n",
      "7    0.118870\n",
      "8    0.111700\n",
      "9    0.102439\n",
      "Name: x, dtype: float64\n",
      "error:  0    0.096742\n",
      "1    0.108107\n",
      "2    0.116983\n",
      "3    0.123064\n",
      "4    0.126153\n",
      "5    0.126153\n",
      "6    0.123064\n",
      "7    0.116983\n",
      "8    0.108107\n",
      "9    0.096742\n",
      "Name: x, dtype: float64\n",
      "error:  0    0.091180\n",
      "1    0.104563\n",
      "2    0.115108\n",
      "3    0.122373\n",
      "4    0.126076\n",
      "5    0.126076\n",
      "6    0.122373\n",
      "7    0.115108\n",
      "8    0.104563\n",
      "9    0.091180\n",
      "Name: x, dtype: float64\n",
      "error:  0    0.085756\n",
      "1    0.101067\n",
      "2    0.113245\n",
      "3    0.121684\n",
      "4    0.125998\n",
      "5    0.125998\n",
      "6    0.121684\n",
      "7    0.113245\n",
      "8    0.101067\n",
      "9    0.085756\n",
      "Name: x, dtype: float64\n",
      "error:  0    0.080473\n",
      "1    0.097620\n",
      "2    0.111394\n",
      "3    0.120996\n",
      "4    0.125920\n",
      "5    0.125920\n",
      "6    0.120996\n",
      "7    0.111394\n",
      "8    0.097620\n",
      "9    0.080473\n",
      "Name: x, dtype: float64\n",
      "error:  0    0.075333\n",
      "1    0.094223\n",
      "2    0.109556\n",
      "3    0.120310\n",
      "4    0.125843\n",
      "5    0.125843\n",
      "6    0.120310\n",
      "7    0.109556\n",
      "8    0.094223\n",
      "9    0.075333\n",
      "Name: x, dtype: float64\n",
      "error:  0    0.070337\n",
      "1    0.090876\n",
      "2    0.107730\n",
      "3    0.119625\n",
      "4    0.125765\n",
      "5    0.125765\n",
      "6    0.119625\n",
      "7    0.107730\n",
      "8    0.090876\n",
      "9    0.070337\n",
      "Name: x, dtype: float64\n"
     ]
    }
   ],
   "source": [
    "y = correct_data[\"y\"]  # データy\n",
    "x = correct_data[\"x\"]  # データx\n",
    "α = 0.005  # ハイパーパラメータ\n",
    "w = 1 # 初期値のパラメータw\n",
    "\n",
    "for _ in range(10):  # データ分更新\n",
    "    w = w - α*(w*x[0] - y[0])*x**2\n",
    "    error = 0.5 * ((w*x[0]**2) - y[0])**2\n",
    "    print(\"error: \", error)\n",
    "    \n",
    "# 誤差が小さくなっていることが分かる"
   ]
  },
  {
   "cell_type": "code",
   "execution_count": 7,
   "metadata": {},
   "outputs": [],
   "source": [
    "# 全てのデータを使い、誤差の平均が0 ~ 0.01になるパラメータを見つける\n",
    "allowable_error = None  # 許容誤差\n",
    "average_error = []\n",
    "average_w = []\n",
    "\n",
    "for _ in range(100):  # 100回更新\n",
    "    w = w - α*(w*x - y)*x**2  # パラメータ更新\n",
    "    error = 0.5 * ((w*x**2) - y)**2  # 誤差関数\n",
    "    allowable_error = sum(error)/len(x)  # データ全ての二乗誤差の平均値を求めている\n",
    "    \n",
    "    average_error.append(allowable_error)  # 二乗誤差平均をlistへ保存\n",
    "    average_w.append(sum(w)/len(w))  # 更新パラメータをlistへ保存\n",
    "    if allowable_error < 0.01:\n",
    "        print(\"誤差の平均値が許容誤差範囲内になりました。\")\n",
    "        print(\"誤差平均値：\", sum(error)/len(x))\n",
    "        print(\"全てのパラメータ：\", w)\n",
    "        break\n",
    "update_error = error        \n",
    "update_w = w        "
   ]
  },
  {
   "cell_type": "markdown",
   "metadata": {},
   "source": [
    "# 横軸をイテレーション、縦軸を誤差としたグラフ"
   ]
  },
  {
   "cell_type": "code",
   "execution_count": 8,
   "metadata": {},
   "outputs": [
    {
     "data": {
      "text/plain": [
       "[0.028917241151622457,\n",
       " 0.028225882074693214,\n",
       " 0.027551285910454255,\n",
       " 0.026893707750750416,\n",
       " 0.02625340582648588,\n",
       " 0.025630641540201088,\n",
       " 0.025025679498999122,\n",
       " 0.02443878754782491,\n",
       " 0.023870236803100763,\n",
       " 0.023320301686721775,\n",
       " 0.022789259960414622,\n",
       " 0.02227739276046333,\n",
       " 0.021784984632805742,\n",
       " 0.021312323568504137,\n",
       " 0.02085970103959398,\n",
       " 0.020427412035314247,\n",
       " 0.02001575509872345,\n",
       " 0.019625032363704793,\n",
       " 0.019255549592364633,\n",
       " 0.018907616212828045,\n",
       " 0.01858154535743526,\n",
       " 0.01827765390134332,\n",
       " 0.0179962625015366,\n",
       " 0.017737695636250456,\n",
       " 0.017502281644812167,\n",
       " 0.01729035276790304,\n",
       " 0.01710224518824624,\n",
       " 0.01693829907172421,\n",
       " 0.016798858608930295,\n",
       " 0.016684272057158594,\n",
       " 0.016594891782836668,\n",
       " 0.01653107430440526,\n",
       " 0.01649318033564976,\n",
       " 0.016481574829487634,\n",
       " 0.016496627022216586,\n",
       " 0.016538710478227962,\n",
       " 0.016608203135190007,\n",
       " 0.01670548734970572,\n",
       " 0.01683094994345003,\n",
       " 0.016984982249791093,\n",
       " 0.01716798016090047,\n",
       " 0.017380344175357214,\n",
       " 0.01762247944625069,\n",
       " 0.017894795829787084,\n",
       " 0.018197707934404818,\n",
       " 0.018531635170403758,\n",
       " 0.018897001800093467,\n",
       " 0.019294236988465677,\n",
       " 0.01972377485439623,\n",
       " 0.020186054522381786,\n",
       " 0.020681520174816604,\n",
       " 0.021210621104814947,\n",
       " 0.0217738117695844,\n",
       " 0.02237155184435574,\n",
       " 0.023004306276874914,\n",
       " 0.023672545342462714,\n",
       " 0.024376744699647963,\n",
       " 0.02511738544637971,\n",
       " 0.02589495417682463,\n",
       " 0.02670994303875504,\n",
       " 0.02756284979153396,\n",
       " 0.028454177864702706,\n",
       " 0.02938443641717741,\n",
       " 0.03035414039706056,\n",
       " 0.03136381060207346,\n",
       " 0.032413973740616206,\n",
       " 0.03350516249346123,\n",
       " 0.03463791557608688,\n",
       " 0.03581277780165733,\n",
       " 0.03703030014465568,\n",
       " 0.038291039805176334,\n",
       " 0.03959556027388355,\n",
       " 0.04094443139764286,\n",
       " 0.042338229445832036,\n",
       " 0.04377753717733856,\n",
       " 0.04526294390825027,\n",
       " 0.0467950455802464,\n",
       " 0.0483744448296959,\n",
       " 0.0500017510574703,\n",
       " 0.05167758049947815,\n",
       " 0.05340255629792832,\n",
       " 0.055177308573329496,\n",
       " 0.05700247449723358,\n",
       " 0.05887869836572983,\n",
       " 0.06080663167369801,\n",
       " 0.06278693318982756,\n",
       " 0.06482026903241125,\n",
       " 0.06690731274591993,\n",
       " 0.06904874537836787,\n",
       " 0.071245255559475,\n",
       " 0.07349753957963515,\n",
       " 0.07580630146969806,\n",
       " 0.07817225308157347,\n",
       " 0.08059611416966514,\n",
       " 0.08307861247314391,\n",
       " 0.08562048379906749,\n",
       " 0.08822247210635616,\n",
       " 0.09088532959063225,\n",
       " 0.0936098167699332,\n",
       " 0.09639670257130561]"
      ]
     },
     "execution_count": 8,
     "metadata": {},
     "output_type": "execute_result"
    }
   ],
   "source": [
    "average_error  # 二乗誤差の平均値を更新される度にlistへ保存しておいたもの"
   ]
  },
  {
   "cell_type": "code",
   "execution_count": 9,
   "metadata": {},
   "outputs": [
    {
     "data": {
      "image/png": "[encoded data removed]",
      "text/plain": [
       "<Figure size 432x288 with 1 Axes>"
      ]
     },
     "metadata": {
      "needs_background": "light"
     },
     "output_type": "display_data"
    }
   ],
   "source": [
    "# wは上記でパラメータ調整された値\n",
    "\n",
    "plt.plot(average_w,average_error)\n",
    "plt.scatter(average_w,average_error, color=\"red\")\n",
    "\n",
    "plt.show()\n",
    "\n",
    "# 以下のグラフより、パラメータwが更新される度に誤差が小さくなっている様子が分かる"
   ]
  },
  {
   "cell_type": "markdown",
   "metadata": {},
   "source": [
    "# 横軸を  𝑥  縦軸を  𝑦  として、データを点で、<br>パラメータ調整後の関数の出力を曲線で描画したグラフ"
   ]
  },
  {
   "cell_type": "code",
   "execution_count": 10,
   "metadata": {},
   "outputs": [
    {
     "data": {
      "image/png": "[encoded data removed]",
      "text/plain": [
       "<Figure size 432x288 with 1 Axes>"
      ]
     },
     "metadata": {
      "needs_background": "light"
     },
     "output_type": "display_data"
    }
   ],
   "source": [
    "# wは上記でパラメータ調整された値\n",
    "y = update_w*x**2\n",
    "plt.plot(x,y)\n",
    "plt.scatter(x, y, color=\"red\")\n",
    "\n",
    "plt.show()"
   ]
  },
  {
   "cell_type": "code",
   "execution_count": null,
   "metadata": {},
   "outputs": [],
   "source": []
  }
 ],
 "metadata": {
  "kernelspec": {
   "display_name": "Python 3",
   "language": "python",
   "name": "python3"
  },
  "language_info": {
   "codemirror_mode": {
    "name": "ipython",
    "version": 3
   },
   "file_extension": ".py",
   "mimetype": "text/x-python",
   "name": "python",
   "nbconvert_exporter": "python",
   "pygments_lexer": "ipython3",
   "version": "3.7.1"
  }
 },
 "nbformat": 4,
 "nbformat_minor": 2
}

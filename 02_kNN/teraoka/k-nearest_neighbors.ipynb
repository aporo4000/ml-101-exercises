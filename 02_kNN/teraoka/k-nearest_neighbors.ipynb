{
 "cells": [
  {
   "cell_type": "markdown",
   "metadata": {},
   "source": [
    "# k-nearest neighbors"
   ]
  },
  {
   "cell_type": "markdown",
   "metadata": {},
   "source": [
    "# Q1. k-nearest neightbors を用いたクラス分類について調べ、<br>そのアルゴリズムについて説明せよ。"
   ]
  },
  {
   "cell_type": "markdown",
   "metadata": {},
   "source": [
    "# A1. "
   ]
  },
  {
   "cell_type": "markdown",
   "metadata": {},
   "source": [
    "## k-nearest neightborsとは\n",
    "\n",
    "- n次元空間に存在するデータを使い新しいデータにラベル名をつける教師あり学習である。  \n",
    "- n次元空間に存在するデータはラベル(データ名)と位置情報を元に領域が分かれている。  \n",
    "- n次元空間に新しくラベルを持たないデータを入れた時、  \n",
    "  新しいデータから最も近いk個のデータを見つけ、多数決により新しいデータのラベル名を決める。  \n",
    "  \n",
    "以上が、  \n",
    "k-nearest neightborsを用いたクラス分類である。  \n",
    "\n",
    "引用：https://ja.wikipedia.org/wiki/K%E8%BF%91%E5%82%8D%E6%B3%95\n",
    "\n",
    "<img src=\"images/k-nn.png\">\n"
   ]
  },
  {
   "cell_type": "markdown",
   "metadata": {},
   "source": [
    "# k-nearest neightborsのアルゴリズムについて\n",
    "\n",
    "k-nearest neightborsを解く為に必要な手順は以下。    \n",
    "**1. 新しく入るデータと既存データとの距離の測り方**  \n",
    "**2. 新しいデータが所属するグループを決める方法**  \n",
    "**3. k個のデータ数を決める方法**  \n",
    "\n",
    "1,2,3を解決することでk-nearest neightborsの問題を解くことができる。\n",
    "\n",
    "## 1. 新しく入るデータと既存データとの距離の測り方\n",
    "\n",
    "距離の測り方の一つにユーグリット距離がある。  \n",
    "**ユーグリット距離とは**次元空間において二点間を最短距離で線形に測る方法。  \n",
    "以下の図にある様に**二次元**の場合の距離の測り方は  \n",
    "<img src=\"images/euclidean_1.png\">\n",
    "\n",
    "n次元になると以下の様にして求めることができる。\n",
    "<img src=\"images/euclidean_2.png\">\n",
    "\n",
    "<img src=\"images/euclidean.png\">\n",
    "\n",
    "引用：https://ja.wikipedia.org/wiki/%E3%83%A6%E3%83%BC%E3%82%AF%E3%83%AA%E3%83%83%E3%83%89%E8%B7%9D%E9%9B%A2"
   ]
  },
  {
   "cell_type": "markdown",
   "metadata": {},
   "source": [
    "## 2. 新しいデータが付けるラベルを決める方法\n",
    "\n",
    "- 新しいデータ点を入れた場所からユーグリット距離を測る。  \n",
    "- 新しいデータ点から最も近いk個のデータが持つラベルの最も多いグループのラベル名を付ける。  \n",
    "この時、k個の個数だけに依存しており、選ばれたk個それぞれが新しいデータ点からの距離には意味を持たない。"
   ]
  },
  {
   "cell_type": "markdown",
   "metadata": {},
   "source": [
    "## 3. k個のデータ数を決める方法\n",
    "\n",
    "- k個の数を決める方法は既存データの数に依存する。  \n",
    "- 指定する方法のひとつに、既存データ数の平方根をとり求めた数を使う。  \n",
    "- 何パターンかkの個数を変えて学習させ、検証結果の精度で判断する。  "
   ]
  },
  {
   "cell_type": "markdown",
   "metadata": {},
   "source": [
    "# Q2. 上述のアルゴリズムを Numpy を用いて実装し、Iris データに適用せよ。"
   ]
  },
  {
   "cell_type": "markdown",
   "metadata": {},
   "source": [
    "# A2. "
   ]
  },
  {
   "cell_type": "code",
   "execution_count": 1,
   "metadata": {},
   "outputs": [],
   "source": [
    "from sklearn.datasets import load_iris\n",
    "import pandas as pd\n",
    "import scipy\n",
    "import matplotlib.pyplot as plt\n",
    "import numpy as np\n",
    "\n",
    "iris = load_iris()"
   ]
  },
  {
   "cell_type": "code",
   "execution_count": 2,
   "metadata": {},
   "outputs": [
    {
     "data": {
      "text/plain": [
       "array([0, 0, 0, 0, 0, 0, 0, 0, 0, 0, 0, 0, 0, 0, 0, 0, 0, 0, 0, 0, 0, 0,\n",
       "       0, 0, 0, 0, 0, 0, 0, 0, 0, 0, 0, 0, 0, 0, 0, 0, 0, 0, 0, 0, 0, 0,\n",
       "       0, 0, 0, 0, 0, 0, 1, 1, 1, 1, 1, 1, 1, 1, 1, 1, 1, 1, 1, 1, 1, 1,\n",
       "       1, 1, 1, 1, 1, 1, 1, 1, 1, 1, 1, 1, 1, 1, 1, 1, 1, 1, 1, 1, 1, 1,\n",
       "       1, 1, 1, 1, 1, 1, 1, 1, 1, 1, 1, 1, 2, 2, 2, 2, 2, 2, 2, 2, 2, 2,\n",
       "       2, 2, 2, 2, 2, 2, 2, 2, 2, 2, 2, 2, 2, 2, 2, 2, 2, 2, 2, 2, 2, 2,\n",
       "       2, 2, 2, 2, 2, 2, 2, 2, 2, 2, 2, 2, 2, 2, 2, 2, 2, 2])"
      ]
     },
     "execution_count": 2,
     "metadata": {},
     "output_type": "execute_result"
    }
   ],
   "source": [
    "iris.target  # irisデータセットのラベルを確認"
   ]
  },
  {
   "cell_type": "code",
   "execution_count": 3,
   "metadata": {},
   "outputs": [
    {
     "data": {
      "text/plain": [
       "['sepal length (cm)',\n",
       " 'sepal width (cm)',\n",
       " 'petal length (cm)',\n",
       " 'petal width (cm)']"
      ]
     },
     "execution_count": 3,
     "metadata": {},
     "output_type": "execute_result"
    }
   ],
   "source": [
    "iris.feature_names  # irisデータセットに記載されているデータの名前"
   ]
  },
  {
   "cell_type": "code",
   "execution_count": 4,
   "metadata": {},
   "outputs": [],
   "source": [
    "# irisデータをdataframeへ(カラム名はデータセットについている花弁とガクの長さと幅)\n",
    "df = pd.DataFrame(\n",
    "    iris.data,\n",
    "    columns = iris.feature_names\n",
    ")\n",
    "df[\"label\"] = iris.target  # irisデータセットにあるラベルを列を追加"
   ]
  },
  {
   "cell_type": "code",
   "execution_count": 5,
   "metadata": {},
   "outputs": [],
   "source": [
    "df = df.sample(frac=1).reset_index(drop=True)  # irisデータをシャッフルし、インデックスを0から順に直す"
   ]
  },
  {
   "cell_type": "code",
   "execution_count": 6,
   "metadata": {},
   "outputs": [
    {
     "data": {
      "text/html": [
       "<div>\n",
       "<style scoped>\n",
       "    .dataframe tbody tr th:only-of-type {\n",
       "        vertical-align: middle;\n",
       "    }\n",
       "\n",
       "    .dataframe tbody tr th {\n",
       "        vertical-align: top;\n",
       "    }\n",
       "\n",
       "    .dataframe thead th {\n",
       "        text-align: right;\n",
       "    }\n",
       "</style>\n",
       "<table border=\"1\" class=\"dataframe\">\n",
       "  <thead>\n",
       "    <tr style=\"text-align: right;\">\n",
       "      <th></th>\n",
       "      <th>sepal length (cm)</th>\n",
       "      <th>sepal width (cm)</th>\n",
       "      <th>petal length (cm)</th>\n",
       "      <th>petal width (cm)</th>\n",
       "      <th>label</th>\n",
       "    </tr>\n",
       "  </thead>\n",
       "  <tbody>\n",
       "    <tr>\n",
       "      <th>0</th>\n",
       "      <td>4.9</td>\n",
       "      <td>3.1</td>\n",
       "      <td>1.5</td>\n",
       "      <td>0.1</td>\n",
       "      <td>0</td>\n",
       "    </tr>\n",
       "    <tr>\n",
       "      <th>1</th>\n",
       "      <td>5.7</td>\n",
       "      <td>2.8</td>\n",
       "      <td>4.5</td>\n",
       "      <td>1.3</td>\n",
       "      <td>1</td>\n",
       "    </tr>\n",
       "    <tr>\n",
       "      <th>2</th>\n",
       "      <td>6.4</td>\n",
       "      <td>2.8</td>\n",
       "      <td>5.6</td>\n",
       "      <td>2.2</td>\n",
       "      <td>2</td>\n",
       "    </tr>\n",
       "    <tr>\n",
       "      <th>3</th>\n",
       "      <td>5.1</td>\n",
       "      <td>3.4</td>\n",
       "      <td>1.5</td>\n",
       "      <td>0.2</td>\n",
       "      <td>0</td>\n",
       "    </tr>\n",
       "    <tr>\n",
       "      <th>4</th>\n",
       "      <td>7.2</td>\n",
       "      <td>3.6</td>\n",
       "      <td>6.1</td>\n",
       "      <td>2.5</td>\n",
       "      <td>2</td>\n",
       "    </tr>\n",
       "  </tbody>\n",
       "</table>\n",
       "</div>"
      ],
      "text/plain": [
       "   sepal length (cm)  sepal width (cm)  petal length (cm)  petal width (cm)  \\\n",
       "0                4.9               3.1                1.5               0.1   \n",
       "1                5.7               2.8                4.5               1.3   \n",
       "2                6.4               2.8                5.6               2.2   \n",
       "3                5.1               3.4                1.5               0.2   \n",
       "4                7.2               3.6                6.1               2.5   \n",
       "\n",
       "   label  \n",
       "0      0  \n",
       "1      1  \n",
       "2      2  \n",
       "3      0  \n",
       "4      2  "
      ]
     },
     "execution_count": 6,
     "metadata": {},
     "output_type": "execute_result"
    }
   ],
   "source": [
    "df.head()  "
   ]
  },
  {
   "cell_type": "code",
   "execution_count": 7,
   "metadata": {},
   "outputs": [
    {
     "data": {
      "text/plain": [
       "(150, 5)"
      ]
     },
     "execution_count": 7,
     "metadata": {},
     "output_type": "execute_result"
    }
   ],
   "source": [
    "df.shape"
   ]
  },
  {
   "cell_type": "code",
   "execution_count": 8,
   "metadata": {},
   "outputs": [],
   "source": [
    "dist = scipy.spatial.distance.pdist(df, metric='euclidean')"
   ]
  },
  {
   "cell_type": "code",
   "execution_count": 9,
   "metadata": {},
   "outputs": [
    {
     "data": {
      "text/plain": [
       "11175.0"
      ]
     },
     "execution_count": 9,
     "metadata": {},
     "output_type": "execute_result"
    }
   ],
   "source": [
    "150*149/2"
   ]
  },
  {
   "cell_type": "code",
   "execution_count": 10,
   "metadata": {},
   "outputs": [
    {
     "data": {
      "text/plain": [
       "11175"
      ]
     },
     "execution_count": 10,
     "metadata": {},
     "output_type": "execute_result"
    }
   ],
   "source": [
    "len(scipy.spatial.distance.pdist(df, metric='euclidean'))"
   ]
  },
  {
   "cell_type": "code",
   "execution_count": 11,
   "metadata": {},
   "outputs": [
    {
     "data": {
      "text/plain": [
       "array([0.        , 3.48855271, 5.2497619 , 0.37416574, 6.03821166,\n",
       "       0.50990195, 0.34641016, 5.05371151, 5.65773806, 2.98998328,\n",
       "       5.41664103, 5.42862782, 4.19285106, 3.74165739, 6.78896163,\n",
       "       4.8856934 , 0.34641016, 3.70809924, 5.01398045, 4.16533312,\n",
       "       0.31622777, 0.34641016, 5.25547334, 0.88317609, 4.05462699,\n",
       "       4.49777723, 2.94957624, 3.63455637, 4.30348696, 4.36577599,\n",
       "       3.22180074, 0.51961524, 0.55677644, 5.21632054, 0.75498344,\n",
       "       3.93573373, 1.3114877 , 1.55563492, 3.1144823 , 5.67538545,\n",
       "       0.65574385, 3.22645316, 0.65574385, 0.46904158, 3.54541958,\n",
       "       0.55677644, 0.26457513, 4.4609416 , 5.64092191, 2.71661554,\n",
       "       0.5       , 2.38746728, 3.73898382, 4.57930126, 4.5672749 ,\n",
       "       3.80263067, 3.19687347, 3.15119025, 1.00995049, 4.60108683,\n",
       "       0.17320508, 3.77094153, 5.06951674, 3.79605058, 5.30565736,\n",
       "       2.65141472, 5.04579032, 4.60108683, 0.4472136 , 0.74161985,\n",
       "       4.10365691, 0.17320508, 1.00995049, 6.61664568, 3.35559235,\n",
       "       0.1       , 3.46554469, 5.07937004, 4.53541619, 0.52915026,\n",
       "       4.81040539, 0.33166248, 0.72801099, 3.66742416, 2.15638587,\n",
       "       4.15692194, 2.58843582, 0.52915026, 4.44409721, 0.4472136 ,\n",
       "       0.31622777, 3.08544972, 5.53895297, 6.42728559, 5.21056619,\n",
       "       4.90815648, 5.38330753, 0.77459667, 5.97745765, 0.26457513,\n",
       "       2.35372046, 3.98998747, 5.0823223 , 1.1       , 4.91833305,\n",
       "       3.52987252, 0.7       , 3.08868904, 5.89406481, 3.17490157,\n",
       "       0.26457513, 0.6244998 , 0.47958315, 3.11287648, 3.9736633 ,\n",
       "       0.50990195, 5.48087584, 0.2       , 5.37773186, 3.90128184,\n",
       "       0.72801099, 0.5       , 2.85306852, 0.93808315, 3.68103246,\n",
       "       0.75498344, 5.07740091, 3.8704005 , 2.93428015, 3.06757233,\n",
       "       4.67011777, 6.15223537, 4.81144469, 3.49571166, 1.04403065,\n",
       "       6.41170804, 3.78681925, 4.35889894, 0.55677644, 5.69561235,\n",
       "       3.18590646, 0.17320508, 4.5672749 , 0.78740079, 2.73861279,\n",
       "       1.26095202, 6.52533524, 4.42266888, 5.52177508, 3.35111922])"
      ]
     },
     "execution_count": 11,
     "metadata": {},
     "output_type": "execute_result"
    }
   ],
   "source": [
    "\"\"\"全データがそれぞれのデータ対しての距離を出す(150 x 150 種類)\"\"\"\n",
    "square_matrix = scipy.spatial.distance.squareform(scipy.spatial.distance.pdist(df, metric='euclidean'))  # 正方行列取得(対角成分も含まれる)\n",
    "square_matrix[0]"
   ]
  },
  {
   "cell_type": "code",
   "execution_count": 12,
   "metadata": {},
   "outputs": [],
   "source": [
    "for i in range(150):\n",
    "    label = 'distance_%s' % i\n",
    "    df[label] = square_matrix[i]"
   ]
  },
  {
   "cell_type": "code",
   "execution_count": 13,
   "metadata": {},
   "outputs": [
    {
     "data": {
      "text/html": [
       "<div>\n",
       "<style scoped>\n",
       "    .dataframe tbody tr th:only-of-type {\n",
       "        vertical-align: middle;\n",
       "    }\n",
       "\n",
       "    .dataframe tbody tr th {\n",
       "        vertical-align: top;\n",
       "    }\n",
       "\n",
       "    .dataframe thead th {\n",
       "        text-align: right;\n",
       "    }\n",
       "</style>\n",
       "<table border=\"1\" class=\"dataframe\">\n",
       "  <thead>\n",
       "    <tr style=\"text-align: right;\">\n",
       "      <th></th>\n",
       "      <th>sepal length (cm)</th>\n",
       "      <th>sepal width (cm)</th>\n",
       "      <th>petal length (cm)</th>\n",
       "      <th>petal width (cm)</th>\n",
       "      <th>label</th>\n",
       "      <th>distance_0</th>\n",
       "      <th>distance_1</th>\n",
       "      <th>distance_2</th>\n",
       "      <th>distance_3</th>\n",
       "      <th>distance_4</th>\n",
       "      <th>...</th>\n",
       "      <th>distance_140</th>\n",
       "      <th>distance_141</th>\n",
       "      <th>distance_142</th>\n",
       "      <th>distance_143</th>\n",
       "      <th>distance_144</th>\n",
       "      <th>distance_145</th>\n",
       "      <th>distance_146</th>\n",
       "      <th>distance_147</th>\n",
       "      <th>distance_148</th>\n",
       "      <th>distance_149</th>\n",
       "    </tr>\n",
       "  </thead>\n",
       "  <tbody>\n",
       "    <tr>\n",
       "      <th>0</th>\n",
       "      <td>4.9</td>\n",
       "      <td>3.1</td>\n",
       "      <td>1.5</td>\n",
       "      <td>0.1</td>\n",
       "      <td>0</td>\n",
       "      <td>0.000000</td>\n",
       "      <td>3.488553</td>\n",
       "      <td>5.249762</td>\n",
       "      <td>0.374166</td>\n",
       "      <td>6.038212</td>\n",
       "      <td>...</td>\n",
       "      <td>3.185906</td>\n",
       "      <td>0.173205</td>\n",
       "      <td>4.567275</td>\n",
       "      <td>0.787401</td>\n",
       "      <td>2.738613</td>\n",
       "      <td>1.260952</td>\n",
       "      <td>6.525335</td>\n",
       "      <td>4.422669</td>\n",
       "      <td>5.521775</td>\n",
       "      <td>3.351119</td>\n",
       "    </tr>\n",
       "    <tr>\n",
       "      <th>1</th>\n",
       "      <td>5.7</td>\n",
       "      <td>2.8</td>\n",
       "      <td>4.5</td>\n",
       "      <td>1.3</td>\n",
       "      <td>1</td>\n",
       "      <td>3.488553</td>\n",
       "      <td>0.000000</td>\n",
       "      <td>1.873499</td>\n",
       "      <td>3.453983</td>\n",
       "      <td>2.808914</td>\n",
       "      <td>...</td>\n",
       "      <td>0.374166</td>\n",
       "      <td>3.535534</td>\n",
       "      <td>1.352775</td>\n",
       "      <td>3.479943</td>\n",
       "      <td>0.964365</td>\n",
       "      <td>3.717526</td>\n",
       "      <td>3.214032</td>\n",
       "      <td>1.260952</td>\n",
       "      <td>2.244994</td>\n",
       "      <td>0.316228</td>\n",
       "    </tr>\n",
       "    <tr>\n",
       "      <th>2</th>\n",
       "      <td>6.4</td>\n",
       "      <td>2.8</td>\n",
       "      <td>5.6</td>\n",
       "      <td>2.2</td>\n",
       "      <td>2</td>\n",
       "      <td>5.249762</td>\n",
       "      <td>1.873499</td>\n",
       "      <td>0.000000</td>\n",
       "      <td>5.182663</td>\n",
       "      <td>1.272792</td>\n",
       "      <td>...</td>\n",
       "      <td>2.118962</td>\n",
       "      <td>5.284884</td>\n",
       "      <td>0.989949</td>\n",
       "      <td>5.159457</td>\n",
       "      <td>2.649528</td>\n",
       "      <td>5.330103</td>\n",
       "      <td>1.714643</td>\n",
       "      <td>0.916515</td>\n",
       "      <td>0.655744</td>\n",
       "      <td>2.071232</td>\n",
       "    </tr>\n",
       "    <tr>\n",
       "      <th>3</th>\n",
       "      <td>5.1</td>\n",
       "      <td>3.4</td>\n",
       "      <td>1.5</td>\n",
       "      <td>0.2</td>\n",
       "      <td>0</td>\n",
       "      <td>0.374166</td>\n",
       "      <td>3.453983</td>\n",
       "      <td>5.182663</td>\n",
       "      <td>0.000000</td>\n",
       "      <td>5.907622</td>\n",
       "      <td>...</td>\n",
       "      <td>3.132092</td>\n",
       "      <td>0.458258</td>\n",
       "      <td>4.545327</td>\n",
       "      <td>0.424264</td>\n",
       "      <td>2.764055</td>\n",
       "      <td>0.900000</td>\n",
       "      <td>6.434283</td>\n",
       "      <td>4.361192</td>\n",
       "      <td>5.415718</td>\n",
       "      <td>3.348134</td>\n",
       "    </tr>\n",
       "    <tr>\n",
       "      <th>4</th>\n",
       "      <td>7.2</td>\n",
       "      <td>3.6</td>\n",
       "      <td>6.1</td>\n",
       "      <td>2.5</td>\n",
       "      <td>2</td>\n",
       "      <td>6.038212</td>\n",
       "      <td>2.808914</td>\n",
       "      <td>1.272792</td>\n",
       "      <td>5.907622</td>\n",
       "      <td>0.000000</td>\n",
       "      <td>...</td>\n",
       "      <td>2.984962</td>\n",
       "      <td>6.085228</td>\n",
       "      <td>2.218107</td>\n",
       "      <td>5.805170</td>\n",
       "      <td>3.652396</td>\n",
       "      <td>5.884726</td>\n",
       "      <td>1.224745</td>\n",
       "      <td>1.954482</td>\n",
       "      <td>0.670820</td>\n",
       "      <td>3.077337</td>\n",
       "    </tr>\n",
       "  </tbody>\n",
       "</table>\n",
       "<p>5 rows × 155 columns</p>\n",
       "</div>"
      ],
      "text/plain": [
       "   sepal length (cm)  sepal width (cm)  petal length (cm)  petal width (cm)  \\\n",
       "0                4.9               3.1                1.5               0.1   \n",
       "1                5.7               2.8                4.5               1.3   \n",
       "2                6.4               2.8                5.6               2.2   \n",
       "3                5.1               3.4                1.5               0.2   \n",
       "4                7.2               3.6                6.1               2.5   \n",
       "\n",
       "   label  distance_0  distance_1  distance_2  distance_3  distance_4  ...  \\\n",
       "0      0    0.000000    3.488553    5.249762    0.374166    6.038212  ...   \n",
       "1      1    3.488553    0.000000    1.873499    3.453983    2.808914  ...   \n",
       "2      2    5.249762    1.873499    0.000000    5.182663    1.272792  ...   \n",
       "3      0    0.374166    3.453983    5.182663    0.000000    5.907622  ...   \n",
       "4      2    6.038212    2.808914    1.272792    5.907622    0.000000  ...   \n",
       "\n",
       "   distance_140  distance_141  distance_142  distance_143  distance_144  \\\n",
       "0      3.185906      0.173205      4.567275      0.787401      2.738613   \n",
       "1      0.374166      3.535534      1.352775      3.479943      0.964365   \n",
       "2      2.118962      5.284884      0.989949      5.159457      2.649528   \n",
       "3      3.132092      0.458258      4.545327      0.424264      2.764055   \n",
       "4      2.984962      6.085228      2.218107      5.805170      3.652396   \n",
       "\n",
       "   distance_145  distance_146  distance_147  distance_148  distance_149  \n",
       "0      1.260952      6.525335      4.422669      5.521775      3.351119  \n",
       "1      3.717526      3.214032      1.260952      2.244994      0.316228  \n",
       "2      5.330103      1.714643      0.916515      0.655744      2.071232  \n",
       "3      0.900000      6.434283      4.361192      5.415718      3.348134  \n",
       "4      5.884726      1.224745      1.954482      0.670820      3.077337  \n",
       "\n",
       "[5 rows x 155 columns]"
      ]
     },
     "execution_count": 13,
     "metadata": {},
     "output_type": "execute_result"
    }
   ],
   "source": [
    "df.head()"
   ]
  },
  {
   "cell_type": "code",
   "execution_count": 14,
   "metadata": {},
   "outputs": [],
   "source": [
    "label_dict = {}\n",
    "for j in range(150):\n",
    "    sort_label = 'distance_%s' % j\n",
    "    label_dict[sort_label] = df.sort_values(by=sort_label)[1:6]['label']"
   ]
  },
  {
   "cell_type": "code",
   "execution_count": 15,
   "metadata": {},
   "outputs": [
    {
     "data": {
      "text/plain": [
       "105    1\n",
       "149    1\n",
       "41     1\n",
       "30     1\n",
       "27     1\n",
       "Name: label, dtype: int64"
      ]
     },
     "execution_count": 15,
     "metadata": {},
     "output_type": "execute_result"
    }
   ],
   "source": [
    "label_dict['distance_1']  # 自分自身を除く一番近いラベル5個をそれぞれ取得 , 例として'distance_1'を表示"
   ]
  },
  {
   "cell_type": "code",
   "execution_count": 16,
   "metadata": {},
   "outputs": [],
   "source": [
    "from collections import Counter"
   ]
  },
  {
   "cell_type": "code",
   "execution_count": 17,
   "metadata": {},
   "outputs": [
    {
     "data": {
      "text/plain": [
       "1"
      ]
     },
     "execution_count": 17,
     "metadata": {},
     "output_type": "execute_result"
    }
   ],
   "source": [
    "list(Counter(label_dict['distance_1']))[0]"
   ]
  },
  {
   "cell_type": "code",
   "execution_count": 18,
   "metadata": {},
   "outputs": [],
   "source": [
    "prediction_result = {}\n",
    "for v in range(150):\n",
    "    predict_label = 'distance_%s' % v\n",
    "    prediction_result[v] = list(Counter(label_dict[predict_label]))[0]"
   ]
  },
  {
   "cell_type": "code",
   "execution_count": 19,
   "metadata": {},
   "outputs": [],
   "source": [
    "df[\"pred_label\"] = prediction_result.values()  # 予測値をdfにラベルを付けて含める"
   ]
  },
  {
   "cell_type": "code",
   "execution_count": 20,
   "metadata": {},
   "outputs": [
    {
     "data": {
      "text/plain": [
       "0"
      ]
     },
     "execution_count": 20,
     "metadata": {},
     "output_type": "execute_result"
    }
   ],
   "source": [
    "comparison_value = 0\n",
    "for pred, correct in zip(prediction_result.values(), df['label']):\n",
    "    comparison_value+= abs(pred - correct)\n",
    "comparison_value   # 比較した結果　間違いはなし！？"
   ]
  },
  {
   "cell_type": "code",
   "execution_count": null,
   "metadata": {},
   "outputs": [],
   "source": []
  },
  {
   "cell_type": "code",
   "execution_count": 21,
   "metadata": {},
   "outputs": [
    {
     "data": {
      "text/html": [
       "<div>\n",
       "<style scoped>\n",
       "    .dataframe tbody tr th:only-of-type {\n",
       "        vertical-align: middle;\n",
       "    }\n",
       "\n",
       "    .dataframe tbody tr th {\n",
       "        vertical-align: top;\n",
       "    }\n",
       "\n",
       "    .dataframe thead th {\n",
       "        text-align: right;\n",
       "    }\n",
       "</style>\n",
       "<table border=\"1\" class=\"dataframe\">\n",
       "  <thead>\n",
       "    <tr style=\"text-align: right;\">\n",
       "      <th></th>\n",
       "      <th>label</th>\n",
       "      <th>pred_label</th>\n",
       "    </tr>\n",
       "  </thead>\n",
       "  <tbody>\n",
       "    <tr>\n",
       "      <th>0</th>\n",
       "      <td>0</td>\n",
       "      <td>0</td>\n",
       "    </tr>\n",
       "    <tr>\n",
       "      <th>1</th>\n",
       "      <td>1</td>\n",
       "      <td>1</td>\n",
       "    </tr>\n",
       "    <tr>\n",
       "      <th>2</th>\n",
       "      <td>2</td>\n",
       "      <td>2</td>\n",
       "    </tr>\n",
       "    <tr>\n",
       "      <th>3</th>\n",
       "      <td>0</td>\n",
       "      <td>0</td>\n",
       "    </tr>\n",
       "    <tr>\n",
       "      <th>4</th>\n",
       "      <td>2</td>\n",
       "      <td>2</td>\n",
       "    </tr>\n",
       "    <tr>\n",
       "      <th>5</th>\n",
       "      <td>0</td>\n",
       "      <td>0</td>\n",
       "    </tr>\n",
       "    <tr>\n",
       "      <th>6</th>\n",
       "      <td>0</td>\n",
       "      <td>0</td>\n",
       "    </tr>\n",
       "    <tr>\n",
       "      <th>7</th>\n",
       "      <td>2</td>\n",
       "      <td>2</td>\n",
       "    </tr>\n",
       "    <tr>\n",
       "      <th>8</th>\n",
       "      <td>2</td>\n",
       "      <td>2</td>\n",
       "    </tr>\n",
       "    <tr>\n",
       "      <th>9</th>\n",
       "      <td>1</td>\n",
       "      <td>1</td>\n",
       "    </tr>\n",
       "    <tr>\n",
       "      <th>10</th>\n",
       "      <td>2</td>\n",
       "      <td>2</td>\n",
       "    </tr>\n",
       "    <tr>\n",
       "      <th>11</th>\n",
       "      <td>2</td>\n",
       "      <td>2</td>\n",
       "    </tr>\n",
       "    <tr>\n",
       "      <th>12</th>\n",
       "      <td>1</td>\n",
       "      <td>1</td>\n",
       "    </tr>\n",
       "    <tr>\n",
       "      <th>13</th>\n",
       "      <td>1</td>\n",
       "      <td>1</td>\n",
       "    </tr>\n",
       "    <tr>\n",
       "      <th>14</th>\n",
       "      <td>2</td>\n",
       "      <td>2</td>\n",
       "    </tr>\n",
       "    <tr>\n",
       "      <th>15</th>\n",
       "      <td>2</td>\n",
       "      <td>2</td>\n",
       "    </tr>\n",
       "    <tr>\n",
       "      <th>16</th>\n",
       "      <td>0</td>\n",
       "      <td>0</td>\n",
       "    </tr>\n",
       "    <tr>\n",
       "      <th>17</th>\n",
       "      <td>1</td>\n",
       "      <td>1</td>\n",
       "    </tr>\n",
       "    <tr>\n",
       "      <th>18</th>\n",
       "      <td>2</td>\n",
       "      <td>2</td>\n",
       "    </tr>\n",
       "    <tr>\n",
       "      <th>19</th>\n",
       "      <td>1</td>\n",
       "      <td>1</td>\n",
       "    </tr>\n",
       "    <tr>\n",
       "      <th>20</th>\n",
       "      <td>0</td>\n",
       "      <td>0</td>\n",
       "    </tr>\n",
       "    <tr>\n",
       "      <th>21</th>\n",
       "      <td>0</td>\n",
       "      <td>0</td>\n",
       "    </tr>\n",
       "    <tr>\n",
       "      <th>22</th>\n",
       "      <td>2</td>\n",
       "      <td>2</td>\n",
       "    </tr>\n",
       "    <tr>\n",
       "      <th>23</th>\n",
       "      <td>0</td>\n",
       "      <td>0</td>\n",
       "    </tr>\n",
       "    <tr>\n",
       "      <th>24</th>\n",
       "      <td>1</td>\n",
       "      <td>1</td>\n",
       "    </tr>\n",
       "    <tr>\n",
       "      <th>25</th>\n",
       "      <td>2</td>\n",
       "      <td>2</td>\n",
       "    </tr>\n",
       "    <tr>\n",
       "      <th>26</th>\n",
       "      <td>1</td>\n",
       "      <td>1</td>\n",
       "    </tr>\n",
       "    <tr>\n",
       "      <th>27</th>\n",
       "      <td>1</td>\n",
       "      <td>1</td>\n",
       "    </tr>\n",
       "    <tr>\n",
       "      <th>28</th>\n",
       "      <td>1</td>\n",
       "      <td>1</td>\n",
       "    </tr>\n",
       "    <tr>\n",
       "      <th>29</th>\n",
       "      <td>1</td>\n",
       "      <td>1</td>\n",
       "    </tr>\n",
       "    <tr>\n",
       "      <th>...</th>\n",
       "      <td>...</td>\n",
       "      <td>...</td>\n",
       "    </tr>\n",
       "    <tr>\n",
       "      <th>120</th>\n",
       "      <td>0</td>\n",
       "      <td>0</td>\n",
       "    </tr>\n",
       "    <tr>\n",
       "      <th>121</th>\n",
       "      <td>0</td>\n",
       "      <td>0</td>\n",
       "    </tr>\n",
       "    <tr>\n",
       "      <th>122</th>\n",
       "      <td>1</td>\n",
       "      <td>1</td>\n",
       "    </tr>\n",
       "    <tr>\n",
       "      <th>123</th>\n",
       "      <td>0</td>\n",
       "      <td>0</td>\n",
       "    </tr>\n",
       "    <tr>\n",
       "      <th>124</th>\n",
       "      <td>1</td>\n",
       "      <td>1</td>\n",
       "    </tr>\n",
       "    <tr>\n",
       "      <th>125</th>\n",
       "      <td>0</td>\n",
       "      <td>0</td>\n",
       "    </tr>\n",
       "    <tr>\n",
       "      <th>126</th>\n",
       "      <td>2</td>\n",
       "      <td>2</td>\n",
       "    </tr>\n",
       "    <tr>\n",
       "      <th>127</th>\n",
       "      <td>1</td>\n",
       "      <td>1</td>\n",
       "    </tr>\n",
       "    <tr>\n",
       "      <th>128</th>\n",
       "      <td>1</td>\n",
       "      <td>1</td>\n",
       "    </tr>\n",
       "    <tr>\n",
       "      <th>129</th>\n",
       "      <td>1</td>\n",
       "      <td>1</td>\n",
       "    </tr>\n",
       "    <tr>\n",
       "      <th>130</th>\n",
       "      <td>2</td>\n",
       "      <td>2</td>\n",
       "    </tr>\n",
       "    <tr>\n",
       "      <th>131</th>\n",
       "      <td>2</td>\n",
       "      <td>2</td>\n",
       "    </tr>\n",
       "    <tr>\n",
       "      <th>132</th>\n",
       "      <td>2</td>\n",
       "      <td>2</td>\n",
       "    </tr>\n",
       "    <tr>\n",
       "      <th>133</th>\n",
       "      <td>1</td>\n",
       "      <td>1</td>\n",
       "    </tr>\n",
       "    <tr>\n",
       "      <th>134</th>\n",
       "      <td>0</td>\n",
       "      <td>0</td>\n",
       "    </tr>\n",
       "    <tr>\n",
       "      <th>135</th>\n",
       "      <td>2</td>\n",
       "      <td>2</td>\n",
       "    </tr>\n",
       "    <tr>\n",
       "      <th>136</th>\n",
       "      <td>1</td>\n",
       "      <td>1</td>\n",
       "    </tr>\n",
       "    <tr>\n",
       "      <th>137</th>\n",
       "      <td>2</td>\n",
       "      <td>2</td>\n",
       "    </tr>\n",
       "    <tr>\n",
       "      <th>138</th>\n",
       "      <td>0</td>\n",
       "      <td>0</td>\n",
       "    </tr>\n",
       "    <tr>\n",
       "      <th>139</th>\n",
       "      <td>2</td>\n",
       "      <td>2</td>\n",
       "    </tr>\n",
       "    <tr>\n",
       "      <th>140</th>\n",
       "      <td>1</td>\n",
       "      <td>1</td>\n",
       "    </tr>\n",
       "    <tr>\n",
       "      <th>141</th>\n",
       "      <td>0</td>\n",
       "      <td>0</td>\n",
       "    </tr>\n",
       "    <tr>\n",
       "      <th>142</th>\n",
       "      <td>2</td>\n",
       "      <td>2</td>\n",
       "    </tr>\n",
       "    <tr>\n",
       "      <th>143</th>\n",
       "      <td>0</td>\n",
       "      <td>0</td>\n",
       "    </tr>\n",
       "    <tr>\n",
       "      <th>144</th>\n",
       "      <td>1</td>\n",
       "      <td>1</td>\n",
       "    </tr>\n",
       "    <tr>\n",
       "      <th>145</th>\n",
       "      <td>0</td>\n",
       "      <td>0</td>\n",
       "    </tr>\n",
       "    <tr>\n",
       "      <th>146</th>\n",
       "      <td>2</td>\n",
       "      <td>2</td>\n",
       "    </tr>\n",
       "    <tr>\n",
       "      <th>147</th>\n",
       "      <td>2</td>\n",
       "      <td>2</td>\n",
       "    </tr>\n",
       "    <tr>\n",
       "      <th>148</th>\n",
       "      <td>2</td>\n",
       "      <td>2</td>\n",
       "    </tr>\n",
       "    <tr>\n",
       "      <th>149</th>\n",
       "      <td>1</td>\n",
       "      <td>1</td>\n",
       "    </tr>\n",
       "  </tbody>\n",
       "</table>\n",
       "<p>150 rows × 2 columns</p>\n",
       "</div>"
      ],
      "text/plain": [
       "     label  pred_label\n",
       "0        0           0\n",
       "1        1           1\n",
       "2        2           2\n",
       "3        0           0\n",
       "4        2           2\n",
       "5        0           0\n",
       "6        0           0\n",
       "7        2           2\n",
       "8        2           2\n",
       "9        1           1\n",
       "10       2           2\n",
       "11       2           2\n",
       "12       1           1\n",
       "13       1           1\n",
       "14       2           2\n",
       "15       2           2\n",
       "16       0           0\n",
       "17       1           1\n",
       "18       2           2\n",
       "19       1           1\n",
       "20       0           0\n",
       "21       0           0\n",
       "22       2           2\n",
       "23       0           0\n",
       "24       1           1\n",
       "25       2           2\n",
       "26       1           1\n",
       "27       1           1\n",
       "28       1           1\n",
       "29       1           1\n",
       "..     ...         ...\n",
       "120      0           0\n",
       "121      0           0\n",
       "122      1           1\n",
       "123      0           0\n",
       "124      1           1\n",
       "125      0           0\n",
       "126      2           2\n",
       "127      1           1\n",
       "128      1           1\n",
       "129      1           1\n",
       "130      2           2\n",
       "131      2           2\n",
       "132      2           2\n",
       "133      1           1\n",
       "134      0           0\n",
       "135      2           2\n",
       "136      1           1\n",
       "137      2           2\n",
       "138      0           0\n",
       "139      2           2\n",
       "140      1           1\n",
       "141      0           0\n",
       "142      2           2\n",
       "143      0           0\n",
       "144      1           1\n",
       "145      0           0\n",
       "146      2           2\n",
       "147      2           2\n",
       "148      2           2\n",
       "149      1           1\n",
       "\n",
       "[150 rows x 2 columns]"
      ]
     },
     "execution_count": 21,
     "metadata": {},
     "output_type": "execute_result"
    }
   ],
   "source": [
    "df.loc[:,['label','pred_label']]  # 'label'=正解ラベル、 'pred_label'=予測ラベル　　\n",
    "# 全て一致している。"
   ]
  },
  {
   "cell_type": "code",
   "execution_count": 22,
   "metadata": {},
   "outputs": [],
   "source": [
    "df_correct_answer_0 = df.groupby('label').get_group(0)\n",
    "df_correct_answer_1 = df.groupby('label').get_group(1)\n",
    "df_correct_answer_2 = df.groupby('label').get_group(2)\n",
    "\n",
    "df_prediction_0 = df.groupby('pred_label').get_group(0)\n",
    "df_prediction_1 = df.groupby('pred_label').get_group(1)\n",
    "df_prediction_2 = df.groupby('pred_label').get_group(2)"
   ]
  },
  {
   "cell_type": "code",
   "execution_count": 23,
   "metadata": {},
   "outputs": [
    {
     "data": {
      "text/plain": [
       "<matplotlib.legend.Legend at 0x11ba96cf8>"
      ]
     },
     "execution_count": 23,
     "metadata": {},
     "output_type": "execute_result"
    },
    {
     "data": {
      "image/png": "[encoded data removed]",
      "text/plain": [
       "<Figure size 432x288 with 1 Axes>"
      ]
     },
     "metadata": {
      "needs_background": "light"
     },
     "output_type": "display_data"
    }
   ],
   "source": [
    "# x = np.random.rand(100)\n",
    "# y = np.random.rand(100)\n",
    "# x = df[\"sepal length (cm)\"]\n",
    "# y = df[\"sepal width (cm)\"]\n",
    "\n",
    "fig = plt.figure()\n",
    "ax = fig.add_subplot(1,1,1)\n",
    "ax.set_title('Predicted value label')\n",
    "# ax.scatter(x,y, c='red', label='group1')\n",
    "ax.scatter(df_prediction_0[\"sepal length (cm)\"], df_prediction_0[\"sepal width (cm)\"], c='red', label='predict_0')\n",
    "ax.scatter(df_prediction_1[\"sepal length (cm)\"], df_prediction_1[\"sepal width (cm)\"], c='blue', label='predict_1')\n",
    "ax.scatter(df_prediction_2[\"sepal length (cm)\"], df_prediction_2[\"sepal width (cm)\"], c='yellow', label='predict_2')\n",
    "\n",
    "ax.grid(True)\n",
    "ax.legend(loc='upper right')"
   ]
  },
  {
   "cell_type": "code",
   "execution_count": 24,
   "metadata": {},
   "outputs": [
    {
     "data": {
      "text/plain": [
       "<matplotlib.legend.Legend at 0x11db3ef98>"
      ]
     },
     "execution_count": 24,
     "metadata": {},
     "output_type": "execute_result"
    },
    {
     "data": {
      "image/png": "[encoded data removed]",
      "text/plain": [
       "<Figure size 432x288 with 1 Axes>"
      ]
     },
     "metadata": {
      "needs_background": "light"
     },
     "output_type": "display_data"
    }
   ],
   "source": [
    "fig = plt.figure()\n",
    "ax = fig.add_subplot(1,1,1)\n",
    "ax.set_title('Correct answer label')\n",
    "# ax.scatter(x,y, c='red', label='group1')\n",
    "ax.scatter(df_correct_answer_0[\"sepal length (cm)\"], df_correct_answer_0[\"sepal width (cm)\"], c='red', label='correct_0')\n",
    "ax.scatter(df_correct_answer_1[\"sepal length (cm)\"], df_correct_answer_1[\"sepal width (cm)\"], c='blue', label='correct_1')\n",
    "ax.scatter(df_correct_answer_2[\"sepal length (cm)\"], df_correct_answer_2[\"sepal width (cm)\"], c='yellow', label='correct_2')\n",
    "\n",
    "ax.grid(True)\n",
    "ax.legend(loc='upper right')"
   ]
  },
  {
   "cell_type": "code",
   "execution_count": null,
   "metadata": {},
   "outputs": [],
   "source": []
  },
  {
   "cell_type": "code",
   "execution_count": null,
   "metadata": {},
   "outputs": [],
   "source": []
  }
 ],
 "metadata": {
  "kernelspec": {
   "display_name": "Python 3",
   "language": "python",
   "name": "python3"
  },
  "language_info": {
   "codemirror_mode": {
    "name": "ipython",
    "version": 3
   },
   "file_extension": ".py",
   "mimetype": "text/x-python",
   "name": "python",
   "nbconvert_exporter": "python",
   "pygments_lexer": "ipython3",
   "version": "3.6.6"
  }
 },
 "nbformat": 4,
 "nbformat_minor": 2
}

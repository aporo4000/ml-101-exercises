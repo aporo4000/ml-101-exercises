{
 "cells": [
  {
   "cell_type": "markdown",
   "metadata": {},
   "source": [
    "# k-nearest neighbors"
   ]
  },
  {
   "cell_type": "markdown",
   "metadata": {},
   "source": [
    "# Q1. k-nearest neightbors を用いたクラス分類について調べ、<br>そのアルゴリズムについて説明せよ。"
   ]
  },
  {
   "cell_type": "markdown",
   "metadata": {},
   "source": [
    "# A1. "
   ]
  },
  {
   "cell_type": "markdown",
   "metadata": {},
   "source": [
    "## k-nearest neightborsとは\n",
    "\n",
    "- n次元空間に存在するデータを使い新しいデータにラベル名をつける教師あり学習である。  \n",
    "- n次元空間に存在するデータはラベル(データ名)と位置情報を元に領域が分かれている。  \n",
    "- n次元空間に新しくラベルを持たないデータを入れた時、  \n",
    "  新しいデータから最も近いk個のデータを見つけ、多数決により新しいデータのラベル名を決める。  \n",
    "  \n",
    "以上が、  \n",
    "k-nearest neightborsを用いたクラス分類である。  \n",
    "\n",
    "引用：https://ja.wikipedia.org/wiki/K%E8%BF%91%E5%82%8D%E6%B3%95\n",
    "\n",
    "<img src=\"images/k-nn.png\">\n"
   ]
  },
  {
   "cell_type": "markdown",
   "metadata": {},
   "source": [
    "# k-nearest neightborsのアルゴリズムについて\n",
    "\n",
    "k-nearest neightborsを解く為に必要な手順は以下。    \n",
    "**1. 新しく入るデータと既存データとの距離の測り方**  \n",
    "**2. 新しいデータが所属するグループを決める方法**  \n",
    "**3. k個のデータ数を決める方法**  \n",
    "\n",
    "1,2,3を解決することでk-nearest neightborsの問題を解くことができる。\n",
    "\n",
    "## 1. 新しく入るデータと既存データとの距離の測り方\n",
    "\n",
    "距離の測り方の一つにユーグリット距離がある。  \n",
    "**ユーグリット距離とは**次元空間において二点間を最短距離で線形に測る方法。  \n",
    "以下の図にある様に**二次元**の場合の距離の測り方は  \n",
    "<img src=\"images/euclidean_1.png\">\n",
    "\n",
    "n次元になると以下の様にして求めることができる。\n",
    "<img src=\"images/euclidean_2.png\">\n",
    "\n",
    "<img src=\"images/euclidean.png\">\n",
    "\n",
    "引用：https://ja.wikipedia.org/wiki/%E3%83%A6%E3%83%BC%E3%82%AF%E3%83%AA%E3%83%83%E3%83%89%E8%B7%9D%E9%9B%A2"
   ]
  },
  {
   "cell_type": "markdown",
   "metadata": {},
   "source": [
    "## 2. 新しいデータが付けるラベルを決める方法\n",
    "\n",
    "- 新しいデータ点を入れた場所からユーグリット距離を測る。  \n",
    "- 新しいデータ点から最も近いk個のデータが持つラベルの最も多いグループのラベル名を付ける。  \n",
    "この時、k個の個数だけに依存しており、選ばれたk個それぞれが新しいデータ点からの距離には意味を持たない。"
   ]
  },
  {
   "cell_type": "markdown",
   "metadata": {},
   "source": [
    "## 3. k個のデータ数を決める方法\n",
    "\n",
    "- k個の数を決める方法は既存データの数に依存する。  \n",
    "- 指定する方法のひとつに、既存データ数の平方根をとり求めた数を使う。  \n",
    "- 何パターンかkの個数を変えて学習させ、検証結果の精度で判断する。  "
   ]
  },
  {
   "cell_type": "markdown",
   "metadata": {},
   "source": [
    "# Q2. 上述のアルゴリズムを Numpy を用いて実装し、Iris データに適用せよ。"
   ]
  },
  {
   "cell_type": "markdown",
   "metadata": {},
   "source": [
    "# A2. "
   ]
  },
  {
   "cell_type": "code",
   "execution_count": 1,
   "metadata": {},
   "outputs": [],
   "source": [
    "from sklearn.datasets import load_iris\n",
    "import pandas as pd\n",
    "import scipy\n",
    "\n",
    "iris = load_iris()"
   ]
  },
  {
   "cell_type": "code",
   "execution_count": 2,
   "metadata": {},
   "outputs": [
    {
     "data": {
      "text/plain": [
       "array([0, 0, 0, 0, 0, 0, 0, 0, 0, 0, 0, 0, 0, 0, 0, 0, 0, 0, 0, 0, 0, 0,\n",
       "       0, 0, 0, 0, 0, 0, 0, 0, 0, 0, 0, 0, 0, 0, 0, 0, 0, 0, 0, 0, 0, 0,\n",
       "       0, 0, 0, 0, 0, 0, 1, 1, 1, 1, 1, 1, 1, 1, 1, 1, 1, 1, 1, 1, 1, 1,\n",
       "       1, 1, 1, 1, 1, 1, 1, 1, 1, 1, 1, 1, 1, 1, 1, 1, 1, 1, 1, 1, 1, 1,\n",
       "       1, 1, 1, 1, 1, 1, 1, 1, 1, 1, 1, 1, 2, 2, 2, 2, 2, 2, 2, 2, 2, 2,\n",
       "       2, 2, 2, 2, 2, 2, 2, 2, 2, 2, 2, 2, 2, 2, 2, 2, 2, 2, 2, 2, 2, 2,\n",
       "       2, 2, 2, 2, 2, 2, 2, 2, 2, 2, 2, 2, 2, 2, 2, 2, 2, 2])"
      ]
     },
     "execution_count": 2,
     "metadata": {},
     "output_type": "execute_result"
    }
   ],
   "source": [
    "iris.target  # irisデータセットのラベルを確認"
   ]
  },
  {
   "cell_type": "code",
   "execution_count": 3,
   "metadata": {},
   "outputs": [
    {
     "data": {
      "text/plain": [
       "['sepal length (cm)',\n",
       " 'sepal width (cm)',\n",
       " 'petal length (cm)',\n",
       " 'petal width (cm)']"
      ]
     },
     "execution_count": 3,
     "metadata": {},
     "output_type": "execute_result"
    }
   ],
   "source": [
    "iris.feature_names  # irisデータセットに記載されているデータの名前"
   ]
  },
  {
   "cell_type": "code",
   "execution_count": 4,
   "metadata": {},
   "outputs": [],
   "source": [
    "# irisデータをdataframeへ(カラム名はデータセットについている花弁とガクの長さと幅)\n",
    "df = pd.DataFrame(\n",
    "    iris.data,\n",
    "    columns = iris.feature_names\n",
    ")\n",
    "df[\"label\"] = iris.target  # irisデータセットにあるラベルを列を追加"
   ]
  },
  {
   "cell_type": "code",
   "execution_count": 5,
   "metadata": {},
   "outputs": [],
   "source": [
    "df = df.sample(frac=1).reset_index(drop=True)  # irisデータをシャッフルし、インデックスを0から順に直す"
   ]
  },
  {
   "cell_type": "code",
   "execution_count": 6,
   "metadata": {},
   "outputs": [
    {
     "data": {
      "text/html": [
       "<div>\n",
       "<style scoped>\n",
       "    .dataframe tbody tr th:only-of-type {\n",
       "        vertical-align: middle;\n",
       "    }\n",
       "\n",
       "    .dataframe tbody tr th {\n",
       "        vertical-align: top;\n",
       "    }\n",
       "\n",
       "    .dataframe thead th {\n",
       "        text-align: right;\n",
       "    }\n",
       "</style>\n",
       "<table border=\"1\" class=\"dataframe\">\n",
       "  <thead>\n",
       "    <tr style=\"text-align: right;\">\n",
       "      <th></th>\n",
       "      <th>sepal length (cm)</th>\n",
       "      <th>sepal width (cm)</th>\n",
       "      <th>petal length (cm)</th>\n",
       "      <th>petal width (cm)</th>\n",
       "      <th>label</th>\n",
       "    </tr>\n",
       "  </thead>\n",
       "  <tbody>\n",
       "    <tr>\n",
       "      <th>0</th>\n",
       "      <td>5.0</td>\n",
       "      <td>3.2</td>\n",
       "      <td>1.2</td>\n",
       "      <td>0.2</td>\n",
       "      <td>0</td>\n",
       "    </tr>\n",
       "    <tr>\n",
       "      <th>1</th>\n",
       "      <td>5.1</td>\n",
       "      <td>3.3</td>\n",
       "      <td>1.7</td>\n",
       "      <td>0.5</td>\n",
       "      <td>0</td>\n",
       "    </tr>\n",
       "    <tr>\n",
       "      <th>2</th>\n",
       "      <td>6.0</td>\n",
       "      <td>3.0</td>\n",
       "      <td>4.8</td>\n",
       "      <td>1.8</td>\n",
       "      <td>2</td>\n",
       "    </tr>\n",
       "    <tr>\n",
       "      <th>3</th>\n",
       "      <td>4.4</td>\n",
       "      <td>3.0</td>\n",
       "      <td>1.3</td>\n",
       "      <td>0.2</td>\n",
       "      <td>0</td>\n",
       "    </tr>\n",
       "    <tr>\n",
       "      <th>4</th>\n",
       "      <td>5.8</td>\n",
       "      <td>2.7</td>\n",
       "      <td>5.1</td>\n",
       "      <td>1.9</td>\n",
       "      <td>2</td>\n",
       "    </tr>\n",
       "  </tbody>\n",
       "</table>\n",
       "</div>"
      ],
      "text/plain": [
       "   sepal length (cm)  sepal width (cm)  petal length (cm)  petal width (cm)  \\\n",
       "0                5.0               3.2                1.2               0.2   \n",
       "1                5.1               3.3                1.7               0.5   \n",
       "2                6.0               3.0                4.8               1.8   \n",
       "3                4.4               3.0                1.3               0.2   \n",
       "4                5.8               2.7                5.1               1.9   \n",
       "\n",
       "   label  \n",
       "0      0  \n",
       "1      0  \n",
       "2      2  \n",
       "3      0  \n",
       "4      2  "
      ]
     },
     "execution_count": 6,
     "metadata": {},
     "output_type": "execute_result"
    }
   ],
   "source": [
    "df.head()  "
   ]
  },
  {
   "cell_type": "code",
   "execution_count": 7,
   "metadata": {},
   "outputs": [
    {
     "data": {
      "text/plain": [
       "(150, 5)"
      ]
     },
     "execution_count": 7,
     "metadata": {},
     "output_type": "execute_result"
    }
   ],
   "source": [
    "df.shape"
   ]
  },
  {
   "cell_type": "code",
   "execution_count": 8,
   "metadata": {},
   "outputs": [],
   "source": [
    "dist = scipy.spatial.distance.pdist(df, metric='euclidean')"
   ]
  },
  {
   "cell_type": "code",
   "execution_count": 9,
   "metadata": {},
   "outputs": [
    {
     "data": {
      "text/plain": [
       "(11175,)"
      ]
     },
     "execution_count": 9,
     "metadata": {},
     "output_type": "execute_result"
    }
   ],
   "source": [
    "dist.shape"
   ]
  },
  {
   "cell_type": "code",
   "execution_count": 10,
   "metadata": {},
   "outputs": [
    {
     "data": {
      "text/plain": [
       "11175.0"
      ]
     },
     "execution_count": 10,
     "metadata": {},
     "output_type": "execute_result"
    }
   ],
   "source": [
    "150*149/2"
   ]
  },
  {
   "cell_type": "code",
   "execution_count": 11,
   "metadata": {},
   "outputs": [],
   "source": [
    "\"\"\"全データがそれぞれのデータ対しての距離を出す(150 x 150 種類)\"\"\"\n",
    "square_matrix = scipy.spatial.distance.squareform(scipy.spatial.distance.pdist(df, metric='euclidean'))  # 正方行列取得(対角成分も含まれる)\n"
   ]
  },
  {
   "cell_type": "code",
   "execution_count": 12,
   "metadata": {},
   "outputs": [],
   "source": [
    "for i in range(150):\n",
    "    label = 'distance_%s' % i\n",
    "    df[label] = square_matrix[i]"
   ]
  },
  {
   "cell_type": "code",
   "execution_count": 13,
   "metadata": {},
   "outputs": [
    {
     "data": {
      "text/html": [
       "<div>\n",
       "<style scoped>\n",
       "    .dataframe tbody tr th:only-of-type {\n",
       "        vertical-align: middle;\n",
       "    }\n",
       "\n",
       "    .dataframe tbody tr th {\n",
       "        vertical-align: top;\n",
       "    }\n",
       "\n",
       "    .dataframe thead th {\n",
       "        text-align: right;\n",
       "    }\n",
       "</style>\n",
       "<table border=\"1\" class=\"dataframe\">\n",
       "  <thead>\n",
       "    <tr style=\"text-align: right;\">\n",
       "      <th></th>\n",
       "      <th>sepal length (cm)</th>\n",
       "      <th>sepal width (cm)</th>\n",
       "      <th>petal length (cm)</th>\n",
       "      <th>petal width (cm)</th>\n",
       "      <th>label</th>\n",
       "      <th>distance_0</th>\n",
       "      <th>distance_1</th>\n",
       "      <th>distance_2</th>\n",
       "      <th>distance_3</th>\n",
       "      <th>distance_4</th>\n",
       "      <th>...</th>\n",
       "      <th>distance_140</th>\n",
       "      <th>distance_141</th>\n",
       "      <th>distance_142</th>\n",
       "      <th>distance_143</th>\n",
       "      <th>distance_144</th>\n",
       "      <th>distance_145</th>\n",
       "      <th>distance_146</th>\n",
       "      <th>distance_147</th>\n",
       "      <th>distance_148</th>\n",
       "      <th>distance_149</th>\n",
       "    </tr>\n",
       "  </thead>\n",
       "  <tbody>\n",
       "    <tr>\n",
       "      <th>0</th>\n",
       "      <td>5.0</td>\n",
       "      <td>3.2</td>\n",
       "      <td>1.2</td>\n",
       "      <td>0.2</td>\n",
       "      <td>0</td>\n",
       "      <td>0.000000</td>\n",
       "      <td>0.600000</td>\n",
       "      <td>4.534314</td>\n",
       "      <td>0.640312</td>\n",
       "      <td>4.794789</td>\n",
       "      <td>...</td>\n",
       "      <td>0.331662</td>\n",
       "      <td>4.636809</td>\n",
       "      <td>0.741620</td>\n",
       "      <td>4.162932</td>\n",
       "      <td>5.420332</td>\n",
       "      <td>2.619160</td>\n",
       "      <td>5.135173</td>\n",
       "      <td>4.335897</td>\n",
       "      <td>5.429549</td>\n",
       "      <td>5.213444</td>\n",
       "    </tr>\n",
       "    <tr>\n",
       "      <th>1</th>\n",
       "      <td>5.1</td>\n",
       "      <td>3.3</td>\n",
       "      <td>1.7</td>\n",
       "      <td>0.5</td>\n",
       "      <td>0</td>\n",
       "      <td>0.600000</td>\n",
       "      <td>0.000000</td>\n",
       "      <td>4.024922</td>\n",
       "      <td>0.911043</td>\n",
       "      <td>4.286024</td>\n",
       "      <td>...</td>\n",
       "      <td>0.500000</td>\n",
       "      <td>4.125530</td>\n",
       "      <td>1.118034</td>\n",
       "      <td>3.598611</td>\n",
       "      <td>4.896938</td>\n",
       "      <td>2.195450</td>\n",
       "      <td>4.637887</td>\n",
       "      <td>3.815757</td>\n",
       "      <td>4.903060</td>\n",
       "      <td>4.679744</td>\n",
       "    </tr>\n",
       "    <tr>\n",
       "      <th>2</th>\n",
       "      <td>6.0</td>\n",
       "      <td>3.0</td>\n",
       "      <td>4.8</td>\n",
       "      <td>1.8</td>\n",
       "      <td>2</td>\n",
       "      <td>4.534314</td>\n",
       "      <td>4.024922</td>\n",
       "      <td>0.000000</td>\n",
       "      <td>4.622770</td>\n",
       "      <td>0.479583</td>\n",
       "      <td>...</td>\n",
       "      <td>4.444097</td>\n",
       "      <td>0.141421</td>\n",
       "      <td>4.844585</td>\n",
       "      <td>1.024695</td>\n",
       "      <td>1.104536</td>\n",
       "      <td>2.319483</td>\n",
       "      <td>0.984886</td>\n",
       "      <td>1.356466</td>\n",
       "      <td>1.000000</td>\n",
       "      <td>0.836660</td>\n",
       "    </tr>\n",
       "    <tr>\n",
       "      <th>3</th>\n",
       "      <td>4.4</td>\n",
       "      <td>3.0</td>\n",
       "      <td>1.3</td>\n",
       "      <td>0.2</td>\n",
       "      <td>0</td>\n",
       "      <td>0.640312</td>\n",
       "      <td>0.911043</td>\n",
       "      <td>4.622770</td>\n",
       "      <td>0.000000</td>\n",
       "      <td>4.835287</td>\n",
       "      <td>...</td>\n",
       "      <td>0.787401</td>\n",
       "      <td>4.733920</td>\n",
       "      <td>0.244949</td>\n",
       "      <td>4.254409</td>\n",
       "      <td>5.568662</td>\n",
       "      <td>2.547548</td>\n",
       "      <td>5.194228</td>\n",
       "      <td>4.526588</td>\n",
       "      <td>5.525396</td>\n",
       "      <td>5.333854</td>\n",
       "    </tr>\n",
       "    <tr>\n",
       "      <th>4</th>\n",
       "      <td>5.8</td>\n",
       "      <td>2.7</td>\n",
       "      <td>5.1</td>\n",
       "      <td>1.9</td>\n",
       "      <td>2</td>\n",
       "      <td>4.794789</td>\n",
       "      <td>4.286024</td>\n",
       "      <td>0.479583</td>\n",
       "      <td>4.835287</td>\n",
       "      <td>0.000000</td>\n",
       "      <td>...</td>\n",
       "      <td>4.720169</td>\n",
       "      <td>0.479583</td>\n",
       "      <td>5.057667</td>\n",
       "      <td>1.166190</td>\n",
       "      <td>1.135782</td>\n",
       "      <td>2.418677</td>\n",
       "      <td>0.774597</td>\n",
       "      <td>1.532971</td>\n",
       "      <td>0.842615</td>\n",
       "      <td>0.900000</td>\n",
       "    </tr>\n",
       "  </tbody>\n",
       "</table>\n",
       "<p>5 rows × 155 columns</p>\n",
       "</div>"
      ],
      "text/plain": [
       "   sepal length (cm)  sepal width (cm)  petal length (cm)  petal width (cm)  \\\n",
       "0                5.0               3.2                1.2               0.2   \n",
       "1                5.1               3.3                1.7               0.5   \n",
       "2                6.0               3.0                4.8               1.8   \n",
       "3                4.4               3.0                1.3               0.2   \n",
       "4                5.8               2.7                5.1               1.9   \n",
       "\n",
       "   label  distance_0  distance_1  distance_2  distance_3  distance_4  ...  \\\n",
       "0      0    0.000000    0.600000    4.534314    0.640312    4.794789  ...   \n",
       "1      0    0.600000    0.000000    4.024922    0.911043    4.286024  ...   \n",
       "2      2    4.534314    4.024922    0.000000    4.622770    0.479583  ...   \n",
       "3      0    0.640312    0.911043    4.622770    0.000000    4.835287  ...   \n",
       "4      2    4.794789    4.286024    0.479583    4.835287    0.000000  ...   \n",
       "\n",
       "   distance_140  distance_141  distance_142  distance_143  distance_144  \\\n",
       "0      0.331662      4.636809      0.741620      4.162932      5.420332   \n",
       "1      0.500000      4.125530      1.118034      3.598611      4.896938   \n",
       "2      4.444097      0.141421      4.844585      1.024695      1.104536   \n",
       "3      0.787401      4.733920      0.244949      4.254409      5.568662   \n",
       "4      4.720169      0.479583      5.057667      1.166190      1.135782   \n",
       "\n",
       "   distance_145  distance_146  distance_147  distance_148  distance_149  \n",
       "0      2.619160      5.135173      4.335897      5.429549      5.213444  \n",
       "1      2.195450      4.637887      3.815757      4.903060      4.679744  \n",
       "2      2.319483      0.984886      1.356466      1.000000      0.836660  \n",
       "3      2.547548      5.194228      4.526588      5.525396      5.333854  \n",
       "4      2.418677      0.774597      1.532971      0.842615      0.900000  \n",
       "\n",
       "[5 rows x 155 columns]"
      ]
     },
     "execution_count": 13,
     "metadata": {},
     "output_type": "execute_result"
    }
   ],
   "source": [
    "df.head()"
   ]
  },
  {
   "cell_type": "code",
   "execution_count": 14,
   "metadata": {},
   "outputs": [],
   "source": [
    "label_dict = {}\n",
    "for j in range(150):\n",
    "    sort_label = 'distance_%s' % j\n",
    "    label_dict[sort_label] = df.sort_values(by=sort_label)[1:6]['label']"
   ]
  },
  {
   "cell_type": "code",
   "execution_count": 15,
   "metadata": {},
   "outputs": [
    {
     "data": {
      "text/plain": [
       "129    0\n",
       "16     0\n",
       "33     0\n",
       "118    0\n",
       "39     0\n",
       "Name: label, dtype: int64"
      ]
     },
     "execution_count": 15,
     "metadata": {},
     "output_type": "execute_result"
    }
   ],
   "source": [
    "label_dict['distance_1']  # 自分自身を除く一番近いラベル5個をそれぞれ取得 , 例として'distance_1'を表示"
   ]
  },
  {
   "cell_type": "code",
   "execution_count": 16,
   "metadata": {},
   "outputs": [],
   "source": [
    "from collections import Counter"
   ]
  },
  {
   "cell_type": "code",
   "execution_count": 22,
   "metadata": {},
   "outputs": [
    {
     "data": {
      "text/plain": [
       "0"
      ]
     },
     "execution_count": 22,
     "metadata": {},
     "output_type": "execute_result"
    }
   ],
   "source": [
    "list(Counter(label_dict['distance_1']))[0]"
   ]
  },
  {
   "cell_type": "code",
   "execution_count": 23,
   "metadata": {},
   "outputs": [],
   "source": [
    "prediction_result = {}\n",
    "for v in range(150):\n",
    "    predict_label = 'distance_%s' % v\n",
    "    prediction_result[predict_label] = list(Counter(label_dict[predict_label]))[0]"
   ]
  },
  {
   "cell_type": "code",
   "execution_count": 24,
   "metadata": {},
   "outputs": [
    {
     "data": {
      "text/plain": [
       "{'distance_0': 0,\n",
       " 'distance_1': 0,\n",
       " 'distance_2': 2,\n",
       " 'distance_3': 0,\n",
       " 'distance_4': 2,\n",
       " 'distance_5': 2,\n",
       " 'distance_6': 2,\n",
       " 'distance_7': 1,\n",
       " 'distance_8': 1,\n",
       " 'distance_9': 0,\n",
       " 'distance_10': 0,\n",
       " 'distance_11': 2,\n",
       " 'distance_12': 0,\n",
       " 'distance_13': 1,\n",
       " 'distance_14': 0,\n",
       " 'distance_15': 2,\n",
       " 'distance_16': 0,\n",
       " 'distance_17': 0,\n",
       " 'distance_18': 1,\n",
       " 'distance_19': 1,\n",
       " 'distance_20': 0,\n",
       " 'distance_21': 1,\n",
       " 'distance_22': 1,\n",
       " 'distance_23': 2,\n",
       " 'distance_24': 0,\n",
       " 'distance_25': 0,\n",
       " 'distance_26': 1,\n",
       " 'distance_27': 2,\n",
       " 'distance_28': 1,\n",
       " 'distance_29': 2,\n",
       " 'distance_30': 0,\n",
       " 'distance_31': 0,\n",
       " 'distance_32': 2,\n",
       " 'distance_33': 0,\n",
       " 'distance_34': 0,\n",
       " 'distance_35': 1,\n",
       " 'distance_36': 2,\n",
       " 'distance_37': 0,\n",
       " 'distance_38': 2,\n",
       " 'distance_39': 0,\n",
       " 'distance_40': 2,\n",
       " 'distance_41': 0,\n",
       " 'distance_42': 1,\n",
       " 'distance_43': 0,\n",
       " 'distance_44': 1,\n",
       " 'distance_45': 0,\n",
       " 'distance_46': 1,\n",
       " 'distance_47': 1,\n",
       " 'distance_48': 0,\n",
       " 'distance_49': 1,\n",
       " 'distance_50': 1,\n",
       " 'distance_51': 2,\n",
       " 'distance_52': 2,\n",
       " 'distance_53': 0,\n",
       " 'distance_54': 2,\n",
       " 'distance_55': 1,\n",
       " 'distance_56': 0,\n",
       " 'distance_57': 2,\n",
       " 'distance_58': 1,\n",
       " 'distance_59': 1,\n",
       " 'distance_60': 1,\n",
       " 'distance_61': 1,\n",
       " 'distance_62': 2,\n",
       " 'distance_63': 1,\n",
       " 'distance_64': 2,\n",
       " 'distance_65': 2,\n",
       " 'distance_66': 0,\n",
       " 'distance_67': 0,\n",
       " 'distance_68': 0,\n",
       " 'distance_69': 1,\n",
       " 'distance_70': 2,\n",
       " 'distance_71': 2,\n",
       " 'distance_72': 2,\n",
       " 'distance_73': 1,\n",
       " 'distance_74': 2,\n",
       " 'distance_75': 1,\n",
       " 'distance_76': 0,\n",
       " 'distance_77': 0,\n",
       " 'distance_78': 1,\n",
       " 'distance_79': 2,\n",
       " 'distance_80': 1,\n",
       " 'distance_81': 0,\n",
       " 'distance_82': 2,\n",
       " 'distance_83': 1,\n",
       " 'distance_84': 1,\n",
       " 'distance_85': 0,\n",
       " 'distance_86': 0,\n",
       " 'distance_87': 2,\n",
       " 'distance_88': 2,\n",
       " 'distance_89': 0,\n",
       " 'distance_90': 2,\n",
       " 'distance_91': 2,\n",
       " 'distance_92': 2,\n",
       " 'distance_93': 2,\n",
       " 'distance_94': 1,\n",
       " 'distance_95': 2,\n",
       " 'distance_96': 1,\n",
       " 'distance_97': 1,\n",
       " 'distance_98': 2,\n",
       " 'distance_99': 0,\n",
       " 'distance_100': 0,\n",
       " 'distance_101': 0,\n",
       " 'distance_102': 0,\n",
       " 'distance_103': 2,\n",
       " 'distance_104': 0,\n",
       " 'distance_105': 0,\n",
       " 'distance_106': 1,\n",
       " 'distance_107': 0,\n",
       " 'distance_108': 1,\n",
       " 'distance_109': 1,\n",
       " 'distance_110': 2,\n",
       " 'distance_111': 1,\n",
       " 'distance_112': 2,\n",
       " 'distance_113': 0,\n",
       " 'distance_114': 2,\n",
       " 'distance_115': 1,\n",
       " 'distance_116': 1,\n",
       " 'distance_117': 1,\n",
       " 'distance_118': 0,\n",
       " 'distance_119': 0,\n",
       " 'distance_120': 2,\n",
       " 'distance_121': 0,\n",
       " 'distance_122': 0,\n",
       " 'distance_123': 2,\n",
       " 'distance_124': 2,\n",
       " 'distance_125': 2,\n",
       " 'distance_126': 1,\n",
       " 'distance_127': 2,\n",
       " 'distance_128': 1,\n",
       " 'distance_129': 0,\n",
       " 'distance_130': 1,\n",
       " 'distance_131': 1,\n",
       " 'distance_132': 0,\n",
       " 'distance_133': 1,\n",
       " 'distance_134': 2,\n",
       " 'distance_135': 0,\n",
       " 'distance_136': 1,\n",
       " 'distance_137': 1,\n",
       " 'distance_138': 1,\n",
       " 'distance_139': 2,\n",
       " 'distance_140': 0,\n",
       " 'distance_141': 2,\n",
       " 'distance_142': 0,\n",
       " 'distance_143': 1,\n",
       " 'distance_144': 2,\n",
       " 'distance_145': 1,\n",
       " 'distance_146': 2,\n",
       " 'distance_147': 1,\n",
       " 'distance_148': 2,\n",
       " 'distance_149': 2}"
      ]
     },
     "execution_count": 24,
     "metadata": {},
     "output_type": "execute_result"
    }
   ],
   "source": [
    "prediction_result  # 予測結果をまとめる"
   ]
  },
  {
   "cell_type": "code",
   "execution_count": null,
   "metadata": {},
   "outputs": [],
   "source": []
  }
 ],
 "metadata": {
  "kernelspec": {
   "display_name": "Python 3",
   "language": "python",
   "name": "python3"
  },
  "language_info": {
   "codemirror_mode": {
    "name": "ipython",
    "version": 3
   },
   "file_extension": ".py",
   "mimetype": "text/x-python",
   "name": "python",
   "nbconvert_exporter": "python",
   "pygments_lexer": "ipython3",
   "version": "3.6.6"
  }
 },
 "nbformat": 4,
 "nbformat_minor": 2
}

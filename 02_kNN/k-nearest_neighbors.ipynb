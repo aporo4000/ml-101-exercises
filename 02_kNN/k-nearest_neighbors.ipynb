{
 "cells": [
  {
   "cell_type": "markdown",
   "metadata": {},
   "source": [
    "# k-nearest neighbors"
   ]
  },
  {
   "cell_type": "markdown",
   "metadata": {},
   "source": [
    "# Q1. k-nearest neightbors を用いたクラス分類について調べ、<br>そのアルゴリズムについて説明せよ。"
   ]
  },
  {
   "cell_type": "markdown",
   "metadata": {},
   "source": [
    "# A1. "
   ]
  },
  {
   "cell_type": "markdown",
   "metadata": {},
   "source": [
    "## k-nearest neightborsとは\n",
    "\n",
    "- n次元空間に存在するデータを使い新しいデータにラベル名をつける教師あり学習である。  \n",
    "- n次元空間に存在するデータはラベル(データ名)と位置情報を元に領域が分かれている。  \n",
    "- n次元空間に新しくラベルを持たないデータを入れた時、  \n",
    "  新しいデータから最も近いk個のデータを見つけ、多数決により新しいデータのラベル名を決める。  \n",
    "  \n",
    "以上が、  \n",
    "k-nearest neightborsを用いたクラス分類である。  \n",
    "\n",
    "引用：https://ja.wikipedia.org/wiki/K%E8%BF%91%E5%82%8D%E6%B3%95\n",
    "\n",
    "<img src=\"images/k-nn.png\">\n"
   ]
  },
  {
   "cell_type": "markdown",
   "metadata": {},
   "source": [
    "# k-nearest neightborsのアルゴリズムについて\n",
    "\n",
    "k-nearest neightborsを解く為に必要な手順は以下。    \n",
    "**1. 新しく入るデータと既存データとの距離の測り方**  \n",
    "**2. 新しいデータが所属するグループを決める方法**  \n",
    "**3. k個のデータ数を決める方法**  \n",
    "\n",
    "1,2,3を解決することでk-nearest neightborsの問題を解くことができる。\n",
    "\n",
    "## 1. 新しく入るデータと既存データとの距離の測り方\n",
    "\n",
    "距離の測り方の一つにユーグリット距離がある。  \n",
    "**ユーグリット距離とは**次元空間において二点間を最短距離で線形に測る方法。  \n",
    "以下の図にある様に**二次元**の場合の距離の測り方は  \n",
    "<img src=\"images/euclidean_1.png\">\n",
    "\n",
    "n次元になると以下の様にして求めることができる。\n",
    "<img src=\"images/euclidean_2.png\">\n",
    "\n",
    "<img src=\"images/euclidean.png\">\n",
    "\n",
    "引用：https://ja.wikipedia.org/wiki/%E3%83%A6%E3%83%BC%E3%82%AF%E3%83%AA%E3%83%83%E3%83%89%E8%B7%9D%E9%9B%A2"
   ]
  },
  {
   "cell_type": "markdown",
   "metadata": {},
   "source": [
    "## 2. 新しいデータが付けるラベルを決める方法\n",
    "\n",
    "- 新しいデータ点を入れた場所からユーグリット距離を測る。  \n",
    "- 新しいデータ点から最も近いk個のデータが持つラベルの最も多いグループのラベル名を付ける。  \n",
    "この時、k個の個数だけに依存しており、選ばれたk個それぞれが新しいデータ点からの距離には意味を持たない。"
   ]
  },
  {
   "cell_type": "markdown",
   "metadata": {},
   "source": [
    "## 3. k個のデータ数を決める方法\n",
    "\n",
    "- k個の数を決める方法は既存データの数に依存する。  \n",
    "- 指定する方法のひとつに、既存データ数の平方根をとり求めた数を使う。  \n",
    "- 何パターンかkの個数を変えて学習させ、検証結果の精度で判断する。  "
   ]
  },
  {
   "cell_type": "markdown",
   "metadata": {},
   "source": [
    "# Q2. 上述のアルゴリズムを Numpy を用いて実装し、Iris データに適用せよ。"
   ]
  },
  {
   "cell_type": "markdown",
   "metadata": {},
   "source": [
    "# A2. "
   ]
  },
  {
   "cell_type": "code",
   "execution_count": 1,
   "metadata": {},
   "outputs": [],
   "source": [
    "from sklearn.datasets import load_iris\n",
    "import pandas as pd\n",
    "import scipy\n",
    "\n",
    "iris = load_iris()"
   ]
  },
  {
   "cell_type": "code",
   "execution_count": 2,
   "metadata": {},
   "outputs": [
    {
     "data": {
      "text/plain": [
       "array([0, 0, 0, 0, 0, 0, 0, 0, 0, 0, 0, 0, 0, 0, 0, 0, 0, 0, 0, 0, 0, 0,\n",
       "       0, 0, 0, 0, 0, 0, 0, 0, 0, 0, 0, 0, 0, 0, 0, 0, 0, 0, 0, 0, 0, 0,\n",
       "       0, 0, 0, 0, 0, 0, 1, 1, 1, 1, 1, 1, 1, 1, 1, 1, 1, 1, 1, 1, 1, 1,\n",
       "       1, 1, 1, 1, 1, 1, 1, 1, 1, 1, 1, 1, 1, 1, 1, 1, 1, 1, 1, 1, 1, 1,\n",
       "       1, 1, 1, 1, 1, 1, 1, 1, 1, 1, 1, 1, 2, 2, 2, 2, 2, 2, 2, 2, 2, 2,\n",
       "       2, 2, 2, 2, 2, 2, 2, 2, 2, 2, 2, 2, 2, 2, 2, 2, 2, 2, 2, 2, 2, 2,\n",
       "       2, 2, 2, 2, 2, 2, 2, 2, 2, 2, 2, 2, 2, 2, 2, 2, 2, 2])"
      ]
     },
     "execution_count": 2,
     "metadata": {},
     "output_type": "execute_result"
    }
   ],
   "source": [
    "iris.target  # irisデータセットのラベルを確認"
   ]
  },
  {
   "cell_type": "code",
   "execution_count": 3,
   "metadata": {},
   "outputs": [
    {
     "data": {
      "text/plain": [
       "['sepal length (cm)',\n",
       " 'sepal width (cm)',\n",
       " 'petal length (cm)',\n",
       " 'petal width (cm)']"
      ]
     },
     "execution_count": 3,
     "metadata": {},
     "output_type": "execute_result"
    }
   ],
   "source": [
    "iris.feature_names  # irisデータセットに記載されているデータの名前"
   ]
  },
  {
   "cell_type": "code",
   "execution_count": 4,
   "metadata": {},
   "outputs": [],
   "source": [
    "# irisデータをdataframeへ(カラム名はデータセットについている花弁とガクの長さと幅)\n",
    "df = pd.DataFrame(\n",
    "    iris.data,\n",
    "    columns = iris.feature_names\n",
    ")\n",
    "df[\"label\"] = iris.target  # irisデータセットにあるラベルを列を追加"
   ]
  },
  {
   "cell_type": "code",
   "execution_count": 5,
   "metadata": {},
   "outputs": [],
   "source": [
    "df = df.sample(frac=1).reset_index(drop=True)  # irisデータをシャッフルし、インデックスを0から順に直す"
   ]
  },
  {
   "cell_type": "code",
   "execution_count": 6,
   "metadata": {},
   "outputs": [
    {
     "data": {
      "text/html": [
       "<div>\n",
       "<style scoped>\n",
       "    .dataframe tbody tr th:only-of-type {\n",
       "        vertical-align: middle;\n",
       "    }\n",
       "\n",
       "    .dataframe tbody tr th {\n",
       "        vertical-align: top;\n",
       "    }\n",
       "\n",
       "    .dataframe thead th {\n",
       "        text-align: right;\n",
       "    }\n",
       "</style>\n",
       "<table border=\"1\" class=\"dataframe\">\n",
       "  <thead>\n",
       "    <tr style=\"text-align: right;\">\n",
       "      <th></th>\n",
       "      <th>sepal length (cm)</th>\n",
       "      <th>sepal width (cm)</th>\n",
       "      <th>petal length (cm)</th>\n",
       "      <th>petal width (cm)</th>\n",
       "      <th>label</th>\n",
       "    </tr>\n",
       "  </thead>\n",
       "  <tbody>\n",
       "    <tr>\n",
       "      <th>0</th>\n",
       "      <td>4.5</td>\n",
       "      <td>2.3</td>\n",
       "      <td>1.3</td>\n",
       "      <td>0.3</td>\n",
       "      <td>0</td>\n",
       "    </tr>\n",
       "    <tr>\n",
       "      <th>1</th>\n",
       "      <td>6.4</td>\n",
       "      <td>2.7</td>\n",
       "      <td>5.3</td>\n",
       "      <td>1.9</td>\n",
       "      <td>2</td>\n",
       "    </tr>\n",
       "    <tr>\n",
       "      <th>2</th>\n",
       "      <td>6.4</td>\n",
       "      <td>3.2</td>\n",
       "      <td>4.5</td>\n",
       "      <td>1.5</td>\n",
       "      <td>1</td>\n",
       "    </tr>\n",
       "    <tr>\n",
       "      <th>3</th>\n",
       "      <td>7.7</td>\n",
       "      <td>2.6</td>\n",
       "      <td>6.9</td>\n",
       "      <td>2.3</td>\n",
       "      <td>2</td>\n",
       "    </tr>\n",
       "    <tr>\n",
       "      <th>4</th>\n",
       "      <td>6.9</td>\n",
       "      <td>3.1</td>\n",
       "      <td>5.1</td>\n",
       "      <td>2.3</td>\n",
       "      <td>2</td>\n",
       "    </tr>\n",
       "  </tbody>\n",
       "</table>\n",
       "</div>"
      ],
      "text/plain": [
       "   sepal length (cm)  sepal width (cm)  petal length (cm)  petal width (cm)  \\\n",
       "0                4.5               2.3                1.3               0.3   \n",
       "1                6.4               2.7                5.3               1.9   \n",
       "2                6.4               3.2                4.5               1.5   \n",
       "3                7.7               2.6                6.9               2.3   \n",
       "4                6.9               3.1                5.1               2.3   \n",
       "\n",
       "   label  \n",
       "0      0  \n",
       "1      2  \n",
       "2      1  \n",
       "3      2  \n",
       "4      2  "
      ]
     },
     "execution_count": 6,
     "metadata": {},
     "output_type": "execute_result"
    }
   ],
   "source": [
    "df.head()  "
   ]
  },
  {
   "cell_type": "code",
   "execution_count": 7,
   "metadata": {},
   "outputs": [
    {
     "data": {
      "text/plain": [
       "(150, 5)"
      ]
     },
     "execution_count": 7,
     "metadata": {},
     "output_type": "execute_result"
    }
   ],
   "source": [
    "df.shape"
   ]
  },
  {
   "cell_type": "code",
   "execution_count": 8,
   "metadata": {},
   "outputs": [],
   "source": [
    "dist = scipy.spatial.distance.pdist(df, metric='euclidean')"
   ]
  },
  {
   "cell_type": "code",
   "execution_count": 9,
   "metadata": {},
   "outputs": [
    {
     "data": {
      "text/plain": [
       "(11175,)"
      ]
     },
     "execution_count": 9,
     "metadata": {},
     "output_type": "execute_result"
    }
   ],
   "source": [
    "dist.shape"
   ]
  },
  {
   "cell_type": "code",
   "execution_count": 10,
   "metadata": {},
   "outputs": [
    {
     "data": {
      "text/plain": [
       "11175.0"
      ]
     },
     "execution_count": 10,
     "metadata": {},
     "output_type": "execute_result"
    }
   ],
   "source": [
    "150*149/2"
   ]
  },
  {
   "cell_type": "code",
   "execution_count": 11,
   "metadata": {},
   "outputs": [],
   "source": [
    "\"\"\"全データがそれぞれのデータ対しての距離を出す(150 x 150 種類)\"\"\"\n",
    "square_matrix = scipy.spatial.distance.squareform(scipy.spatial.distance.pdist(df, metric='euclidean'))  # 正方行列取得(対角成分も含まれる)\n"
   ]
  },
  {
   "cell_type": "code",
   "execution_count": 12,
   "metadata": {},
   "outputs": [],
   "source": [
    "for i in range(150):\n",
    "    label = 'distance_%s' % i\n",
    "    df[label] = square_matrix[i]"
   ]
  },
  {
   "cell_type": "code",
   "execution_count": 19,
   "metadata": {},
   "outputs": [
    {
     "data": {
      "text/html": [
       "<div>\n",
       "<style scoped>\n",
       "    .dataframe tbody tr th:only-of-type {\n",
       "        vertical-align: middle;\n",
       "    }\n",
       "\n",
       "    .dataframe tbody tr th {\n",
       "        vertical-align: top;\n",
       "    }\n",
       "\n",
       "    .dataframe thead th {\n",
       "        text-align: right;\n",
       "    }\n",
       "</style>\n",
       "<table border=\"1\" class=\"dataframe\">\n",
       "  <thead>\n",
       "    <tr style=\"text-align: right;\">\n",
       "      <th></th>\n",
       "      <th>sepal length (cm)</th>\n",
       "      <th>sepal width (cm)</th>\n",
       "      <th>petal length (cm)</th>\n",
       "      <th>petal width (cm)</th>\n",
       "      <th>label</th>\n",
       "      <th>distance_0</th>\n",
       "      <th>distance_1</th>\n",
       "      <th>distance_2</th>\n",
       "      <th>distance_3</th>\n",
       "      <th>distance_4</th>\n",
       "      <th>...</th>\n",
       "      <th>distance_140</th>\n",
       "      <th>distance_141</th>\n",
       "      <th>distance_142</th>\n",
       "      <th>distance_143</th>\n",
       "      <th>distance_144</th>\n",
       "      <th>distance_145</th>\n",
       "      <th>distance_146</th>\n",
       "      <th>distance_147</th>\n",
       "      <th>distance_148</th>\n",
       "      <th>distance_149</th>\n",
       "    </tr>\n",
       "  </thead>\n",
       "  <tbody>\n",
       "    <tr>\n",
       "      <th>0</th>\n",
       "      <td>4.5</td>\n",
       "      <td>2.3</td>\n",
       "      <td>1.3</td>\n",
       "      <td>0.3</td>\n",
       "      <td>0</td>\n",
       "      <td>0.000000</td>\n",
       "      <td>5.131277</td>\n",
       "      <td>4.135215</td>\n",
       "      <td>7.049113</td>\n",
       "      <td>5.370289</td>\n",
       "      <td>...</td>\n",
       "      <td>3.228002</td>\n",
       "      <td>1.039230</td>\n",
       "      <td>1.367479</td>\n",
       "      <td>3.432200</td>\n",
       "      <td>5.331041</td>\n",
       "      <td>1.228821</td>\n",
       "      <td>1.646208</td>\n",
       "      <td>1.126943</td>\n",
       "      <td>0.624500</td>\n",
       "      <td>0.916515</td>\n",
       "    </tr>\n",
       "    <tr>\n",
       "      <th>1</th>\n",
       "      <td>6.4</td>\n",
       "      <td>2.7</td>\n",
       "      <td>5.3</td>\n",
       "      <td>1.9</td>\n",
       "      <td>2</td>\n",
       "      <td>5.131277</td>\n",
       "      <td>0.000000</td>\n",
       "      <td>1.431782</td>\n",
       "      <td>2.102380</td>\n",
       "      <td>0.781025</td>\n",
       "      <td>...</td>\n",
       "      <td>1.951922</td>\n",
       "      <td>5.090187</td>\n",
       "      <td>4.688283</td>\n",
       "      <td>1.791647</td>\n",
       "      <td>0.640312</td>\n",
       "      <td>4.876474</td>\n",
       "      <td>4.845617</td>\n",
       "      <td>4.941660</td>\n",
       "      <td>5.112729</td>\n",
       "      <td>5.058656</td>\n",
       "    </tr>\n",
       "    <tr>\n",
       "      <th>2</th>\n",
       "      <td>6.4</td>\n",
       "      <td>3.2</td>\n",
       "      <td>4.5</td>\n",
       "      <td>1.5</td>\n",
       "      <td>1</td>\n",
       "      <td>4.135215</td>\n",
       "      <td>1.431782</td>\n",
       "      <td>0.000000</td>\n",
       "      <td>3.074085</td>\n",
       "      <td>1.503330</td>\n",
       "      <td>...</td>\n",
       "      <td>1.029563</td>\n",
       "      <td>3.942081</td>\n",
       "      <td>3.502856</td>\n",
       "      <td>1.009950</td>\n",
       "      <td>1.509967</td>\n",
       "      <td>3.700000</td>\n",
       "      <td>3.626293</td>\n",
       "      <td>3.777565</td>\n",
       "      <td>4.048456</td>\n",
       "      <td>3.942081</td>\n",
       "    </tr>\n",
       "    <tr>\n",
       "      <th>3</th>\n",
       "      <td>7.7</td>\n",
       "      <td>2.6</td>\n",
       "      <td>6.9</td>\n",
       "      <td>2.3</td>\n",
       "      <td>2</td>\n",
       "      <td>7.049113</td>\n",
       "      <td>2.102380</td>\n",
       "      <td>3.074085</td>\n",
       "      <td>0.000000</td>\n",
       "      <td>2.032240</td>\n",
       "      <td>...</td>\n",
       "      <td>3.850974</td>\n",
       "      <td>6.967783</td>\n",
       "      <td>6.563536</td>\n",
       "      <td>3.702702</td>\n",
       "      <td>2.147091</td>\n",
       "      <td>6.745369</td>\n",
       "      <td>6.685806</td>\n",
       "      <td>6.814690</td>\n",
       "      <td>7.045566</td>\n",
       "      <td>6.973521</td>\n",
       "    </tr>\n",
       "    <tr>\n",
       "      <th>4</th>\n",
       "      <td>6.9</td>\n",
       "      <td>3.1</td>\n",
       "      <td>5.1</td>\n",
       "      <td>2.3</td>\n",
       "      <td>2</td>\n",
       "      <td>5.370289</td>\n",
       "      <td>0.781025</td>\n",
       "      <td>1.503330</td>\n",
       "      <td>2.032240</td>\n",
       "      <td>0.000000</td>\n",
       "      <td>...</td>\n",
       "      <td>2.240536</td>\n",
       "      <td>5.219195</td>\n",
       "      <td>4.786439</td>\n",
       "      <td>2.158703</td>\n",
       "      <td>0.547723</td>\n",
       "      <td>5.006995</td>\n",
       "      <td>4.938623</td>\n",
       "      <td>5.074446</td>\n",
       "      <td>5.328227</td>\n",
       "      <td>5.234501</td>\n",
       "    </tr>\n",
       "  </tbody>\n",
       "</table>\n",
       "<p>5 rows × 155 columns</p>\n",
       "</div>"
      ],
      "text/plain": [
       "   sepal length (cm)  sepal width (cm)  petal length (cm)  petal width (cm)  \\\n",
       "0                4.5               2.3                1.3               0.3   \n",
       "1                6.4               2.7                5.3               1.9   \n",
       "2                6.4               3.2                4.5               1.5   \n",
       "3                7.7               2.6                6.9               2.3   \n",
       "4                6.9               3.1                5.1               2.3   \n",
       "\n",
       "   label  distance_0  distance_1  distance_2  distance_3  distance_4  ...  \\\n",
       "0      0    0.000000    5.131277    4.135215    7.049113    5.370289  ...   \n",
       "1      2    5.131277    0.000000    1.431782    2.102380    0.781025  ...   \n",
       "2      1    4.135215    1.431782    0.000000    3.074085    1.503330  ...   \n",
       "3      2    7.049113    2.102380    3.074085    0.000000    2.032240  ...   \n",
       "4      2    5.370289    0.781025    1.503330    2.032240    0.000000  ...   \n",
       "\n",
       "   distance_140  distance_141  distance_142  distance_143  distance_144  \\\n",
       "0      3.228002      1.039230      1.367479      3.432200      5.331041   \n",
       "1      1.951922      5.090187      4.688283      1.791647      0.640312   \n",
       "2      1.029563      3.942081      3.502856      1.009950      1.509967   \n",
       "3      3.850974      6.967783      6.563536      3.702702      2.147091   \n",
       "4      2.240536      5.219195      4.786439      2.158703      0.547723   \n",
       "\n",
       "   distance_145  distance_146  distance_147  distance_148  distance_149  \n",
       "0      1.228821      1.646208      1.126943      0.624500      0.916515  \n",
       "1      4.876474      4.845617      4.941660      5.112729      5.058656  \n",
       "2      3.700000      3.626293      3.777565      4.048456      3.942081  \n",
       "3      6.745369      6.685806      6.814690      7.045566      6.973521  \n",
       "4      5.006995      4.938623      5.074446      5.328227      5.234501  \n",
       "\n",
       "[5 rows x 155 columns]"
      ]
     },
     "execution_count": 19,
     "metadata": {},
     "output_type": "execute_result"
    }
   ],
   "source": [
    "df.head()"
   ]
  },
  {
   "cell_type": "code",
   "execution_count": 24,
   "metadata": {},
   "outputs": [],
   "source": [
    "label_dict = {}\n",
    "for j in range(150):\n",
    "    sort_label = 'distance_%s' % j\n",
    "    label_dict[sort_label] = df.sort_values(by=sort_label)[1:6]['label']"
   ]
  },
  {
   "cell_type": "code",
   "execution_count": 33,
   "metadata": {},
   "outputs": [
    {
     "data": {
      "text/plain": [
       "43     2\n",
       "131    2\n",
       "107    2\n",
       "84     2\n",
       "14     2\n",
       "Name: label, dtype: int64"
      ]
     },
     "execution_count": 33,
     "metadata": {},
     "output_type": "execute_result"
    }
   ],
   "source": [
    "label_dict['distance_1']  # 自分自身を除く一番近いラベル5個をそれぞれ取得 , 例として'distance_1'を表示"
   ]
  },
  {
   "cell_type": "code",
   "execution_count": 34,
   "metadata": {},
   "outputs": [],
   "source": [
    "from collections import Counter"
   ]
  },
  {
   "cell_type": "code",
   "execution_count": 15,
   "metadata": {},
   "outputs": [
    {
     "data": {
      "text/plain": [
       "0"
      ]
     },
     "execution_count": 15,
     "metadata": {},
     "output_type": "execute_result"
    }
   ],
   "source": [
    "result_df = pd.DataFrame(square_matrix)\n",
    "# result_df[1:].loc[0].idxmin()\n",
    "result_df.loc[0].idxmin()"
   ]
  },
  {
   "cell_type": "code",
   "execution_count": 16,
   "metadata": {},
   "outputs": [],
   "source": [
    "distance_T = []\n",
    "dist_T = dist.T"
   ]
  },
  {
   "cell_type": "code",
   "execution_count": 17,
   "metadata": {},
   "outputs": [
    {
     "data": {
      "text/plain": [
       "5.1312766442669995"
      ]
     },
     "execution_count": 17,
     "metadata": {},
     "output_type": "execute_result"
    }
   ],
   "source": [
    "dist_T[0]"
   ]
  },
  {
   "cell_type": "code",
   "execution_count": 18,
   "metadata": {},
   "outputs": [
    {
     "ename": "NameError",
     "evalue": "name 'distance' is not defined",
     "output_type": "error",
     "traceback": [
      "\u001b[0;31m---------------------------------------------------------------------------\u001b[0m",
      "\u001b[0;31mNameError\u001b[0m                                 Traceback (most recent call last)",
      "\u001b[0;32m<ipython-input-18-1229c31c800a>\u001b[0m in \u001b[0;36m<module>\u001b[0;34m\u001b[0m\n\u001b[0;32m----> 1\u001b[0;31m \u001b[0mresult\u001b[0m \u001b[0;34m=\u001b[0m \u001b[0mdistance\u001b[0m\u001b[0;34m[\u001b[0m\u001b[0;36m0\u001b[0m\u001b[0;34m]\u001b[0m\u001b[0;34m.\u001b[0m\u001b[0mappend\u001b[0m\u001b[0;34m(\u001b[0m\u001b[0mdistance_T\u001b[0m\u001b[0;34m[\u001b[0m\u001b[0;34m-\u001b[0m\u001b[0;36m1\u001b[0m\u001b[0;34m]\u001b[0m\u001b[0;34m)\u001b[0m\u001b[0;34m\u001b[0m\u001b[0m\n\u001b[0m",
      "\u001b[0;31mNameError\u001b[0m: name 'distance' is not defined"
     ]
    }
   ],
   "source": [
    "result = distance[0].append(distance_T[-1])"
   ]
  },
  {
   "cell_type": "code",
   "execution_count": null,
   "metadata": {},
   "outputs": [],
   "source": [
    "dist_matrix"
   ]
  },
  {
   "cell_type": "code",
   "execution_count": null,
   "metadata": {},
   "outputs": [],
   "source": []
  }
 ],
 "metadata": {
  "kernelspec": {
   "display_name": "Python 3",
   "language": "python",
   "name": "python3"
  },
  "language_info": {
   "codemirror_mode": {
    "name": "ipython",
    "version": 3
   },
   "file_extension": ".py",
   "mimetype": "text/x-python",
   "name": "python",
   "nbconvert_exporter": "python",
   "pygments_lexer": "ipython3",
   "version": "3.6.6"
  }
 },
 "nbformat": 4,
 "nbformat_minor": 2
}

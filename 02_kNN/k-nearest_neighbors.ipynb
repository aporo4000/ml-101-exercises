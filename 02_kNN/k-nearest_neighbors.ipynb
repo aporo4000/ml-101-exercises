{
 "cells": [
  {
   "cell_type": "markdown",
   "metadata": {},
   "source": [
    "# k-nearest neighbors"
   ]
  },
  {
   "cell_type": "markdown",
   "metadata": {},
   "source": [
    "# Q1. k-nearest neightbors を用いたクラス分類について調べ、<br>そのアルゴリズムについて説明せよ。"
   ]
  },
  {
   "cell_type": "markdown",
   "metadata": {},
   "source": [
    "# A1. "
   ]
  },
  {
   "cell_type": "markdown",
   "metadata": {},
   "source": [
    "## k-nearest neightborsとは\n",
    "\n",
    "- n次元空間に存在するデータを使い新しいデータにラベル名をつける教師あり学習である。  \n",
    "- n次元空間に存在するデータはラベル(データ名)と位置情報を元に領域が分かれている。  \n",
    "- n次元空間に新しくラベルを持たないデータを入れた時、  \n",
    "  新しいデータから最も近いk個のデータを見つけ、多数決により新しいデータのラベル名を決める。  \n",
    "  \n",
    "以上が、  \n",
    "k-nearest neightborsを用いたクラス分類である。  \n",
    "\n",
    "引用：https://ja.wikipedia.org/wiki/K%E8%BF%91%E5%82%8D%E6%B3%95\n",
    "\n",
    "<img src=\"images/k-nn.png\">\n"
   ]
  },
  {
   "cell_type": "markdown",
   "metadata": {},
   "source": [
    "# k-nearest neightborsのアルゴリズムについて\n",
    "\n",
    "k-nearest neightborsを解く為に必要な手順は以下。    \n",
    "**1. 新しく入るデータと既存データとの距離の測り方**  \n",
    "**2. 新しいデータが所属するグループを決める方法**  \n",
    "**3. k個のデータ数を決める方法**  \n",
    "\n",
    "1,2,3を解決することでk-nearest neightborsの問題を解くことができる。\n",
    "\n",
    "## 1. 新しく入るデータと既存データとの距離の測り方\n",
    "\n",
    "距離の測り方の一つにユーグリット距離がある。  \n",
    "**ユーグリット距離とは**次元空間において二点間を最短距離で線形に測る方法。  \n",
    "以下の図にある様に**二次元**の場合の距離の測り方は  \n",
    "<img src=\"images/euclidean_1.png\">\n",
    "\n",
    "n次元になると以下の様にして求めることができる。\n",
    "<img src=\"images/euclidean_2.png\">\n",
    "\n",
    "<img src=\"images/euclidean.png\">\n",
    "\n",
    "引用：https://ja.wikipedia.org/wiki/%E3%83%A6%E3%83%BC%E3%82%AF%E3%83%AA%E3%83%83%E3%83%89%E8%B7%9D%E9%9B%A2"
   ]
  },
  {
   "cell_type": "markdown",
   "metadata": {},
   "source": [
    "## 2. 新しいデータが付けるラベルを決める方法\n",
    "\n",
    "- 新しいデータ点を入れた場所からユーグリット距離を測る。  \n",
    "- 新しいデータ点から最も近いk個のデータが持つラベルの最も多いグループのラベル名を付ける。  \n",
    "この時、k個の個数だけに依存しており、選ばれたk個それぞれが新しいデータ点からの距離には意味を持たない。"
   ]
  },
  {
   "cell_type": "markdown",
   "metadata": {},
   "source": [
    "## 3. k個のデータ数を決める方法\n",
    "\n",
    "- k個の数を決める方法は既存データの数に依存する。  \n",
    "- 指定する方法のひとつに、既存データ数の平方根をとり求めた数を使う。  \n",
    "- 何パターンかkの個数を変えて学習させ、検証結果の精度で判断する。  "
   ]
  },
  {
   "cell_type": "markdown",
   "metadata": {},
   "source": [
    "# Q2. 上述のアルゴリズムを Numpy を用いて実装し、Iris データに適用せよ。"
   ]
  },
  {
   "cell_type": "markdown",
   "metadata": {},
   "source": [
    "# A2. "
   ]
  },
  {
   "cell_type": "code",
   "execution_count": null,
   "metadata": {},
   "outputs": [],
   "source": []
  }
 ],
 "metadata": {
  "kernelspec": {
   "display_name": "Python 3",
   "language": "python",
   "name": "python3"
  },
  "language_info": {
   "codemirror_mode": {
    "name": "ipython",
    "version": 3
   },
   "file_extension": ".py",
   "mimetype": "text/x-python",
   "name": "python",
   "nbconvert_exporter": "python",
   "pygments_lexer": "ipython3",
   "version": "3.6.6"
  }
 },
 "nbformat": 4,
 "nbformat_minor": 2
}

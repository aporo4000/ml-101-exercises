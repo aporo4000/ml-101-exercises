{
 "cells": [
  {
   "cell_type": "markdown",
   "metadata": {},
   "source": [
    "# 解答\n",
    "\n",
    "問題文：01_linear_regressions  \n",
    "https://github.com/mpsamurai/ml-101-exercises/tree/master/01_linear_regressions\n"
   ]
  },
  {
   "cell_type": "markdown",
   "metadata": {},
   "source": [
    "# 単回帰分析"
   ]
  },
  {
   "cell_type": "markdown",
   "metadata": {},
   "source": [
    " <font size=\"5\" color='blue'><strong>Q1. 単回帰分析のモデル式を示し、その意味を説明せよ。</strong></font>"
   ]
  },
  {
   "cell_type": "markdown",
   "metadata": {},
   "source": [
    " <font size=\"5\" color='red'><strong>A1. </strong></font>"
   ]
  },
  {
   "cell_type": "markdown",
   "metadata": {},
   "source": [
    "$$\n",
    "Y = aX + b       : モデル式\n",
    "$$"
   ]
  },
  {
   "cell_type": "markdown",
   "metadata": {},
   "source": [
    "説明を考える手順としては、  \n",
    "１：与えられたデータを見る。  \n",
    "２：現象を発見する（身長と体重のデータであれば、身長が増えるに従い体重が増加しているという現象を発見する）  \n",
    "３：どうやってうまく説明できるかを考える。  \n",
    "４：身長と体重には「線形」の関係で仮定すると説明できるのではないかと考える。  \n",
    "\n",
    "と、考えこれを一言で説明すると  \n",
    "「Y = aX + bという関係式で現象を説明できると仮定して分析を行う。 」 である。"
   ]
  },
  {
   "cell_type": "markdown",
   "metadata": {},
   "source": [
    " <font size=\"5\" color='blue'><strong>Q2. 単回帰分析が利用可能な例を具体的なデータと共に示せ。</strong></font>"
   ]
  },
  {
   "cell_type": "markdown",
   "metadata": {},
   "source": [
    " <font size=\"5\" color='red'><strong>A2. </strong></font>"
   ]
  },
  {
   "cell_type": "markdown",
   "metadata": {},
   "source": [
    "具体的なデータとして  \n",
    "次の総務省統計局のデータを参照する。  \n",
    "平成30年度の5歳～17歳までの男性の平均身長と平均体重を使ったものである。  \n",
    "参照：https://www.e-stat.go.jp/stat-search/files?page=1&layout=datalist&toukei=00400002&tstat=000001011648&cycle=0&tclass1=000001020135&second2=1"
   ]
  },
  {
   "cell_type": "markdown",
   "metadata": {},
   "source": [
    "|年齢|平均伸長(cm)|平均体重(kg)|\n",
    "|---|---|---|\n",
    "|5歳|110.3|18.9|\n",
    "|6歳|116.5|21.4|\n",
    "|7歳|122.5|24.1|\n",
    "|8歳|128.1|27.2|\n",
    "|9歳|133.7|30.7|\n",
    "|10歳|138.8|34.1|\n",
    "|11歳|145.2|38.4|\n",
    "|12歳|152.7|44.0|\n",
    "|13歳|159.8|48.8|\n",
    "|14歳|165.3|54.0|\n",
    "|15歳|168.4|58.6|\n",
    "|16歳|169.9|60.6|\n",
    "|17歳|170.6|62.4|"
   ]
  },
  {
   "cell_type": "markdown",
   "metadata": {},
   "source": [
    "<img src=\"images/single_line.png\">"
   ]
  },
  {
   "cell_type": "markdown",
   "metadata": {},
   "source": [
    "グラフに描画したデータ点から見て取れるのは、身長に応じて体重も増えている。  "
   ]
  },
  {
   "cell_type": "markdown",
   "metadata": {},
   "source": [
    " <font size=\"5\" color='blue'><strong>Q3. モデルの当てはまりの良さを示す指標について説明せよ。</strong></font>"
   ]
  },
  {
   "cell_type": "markdown",
   "metadata": {},
   "source": [
    " <font size=\"5\" color='red'><strong>A3. </strong></font>"
   ]
  },
  {
   "cell_type": "markdown",
   "metadata": {},
   "source": [
    "モデルの当てはまりの良さを表す指標の一つに「決定係数」がある。  \n",
    "決定係数を求める式の一つに次の式があり、 \n",
    "この式の意味とは、  \n",
    "「予測値の分散が真の値の分散に似ている割合」を表している。\n",
    "\n",
    "$$\n",
    "決定係数 = \\sum_{i=1}^{n}\\frac{(予測値 - 予測の平均値)^2}{(真の値 - 真の平均値)^2}\n",
    "$$\n",
    "\n"
   ]
  },
  {
   "cell_type": "markdown",
   "metadata": {},
   "source": [
    "さらに、決定係数を求める式はもう一つあり、この式の意味とは、  \n",
    "「予測値から真の値を引いた値の大きさが真の値の分散が大きさに似ている割合」を表している。"
   ]
  },
  {
   "cell_type": "markdown",
   "metadata": {},
   "source": [
    "$$\n",
    "決定係数 = 1 - \\sum_{i=1}^{n}\\frac{(真の値 - 予測値)^2}{(真の値 - 真の平均値)^2}\n",
    "$$"
   ]
  },
  {
   "cell_type": "markdown",
   "metadata": {},
   "source": [
    "<img src=\"images/line.png\">"
   ]
  },
  {
   "cell_type": "markdown",
   "metadata": {},
   "source": [
    "# 重回帰分析"
   ]
  },
  {
   "cell_type": "markdown",
   "metadata": {},
   "source": [
    " <font size=\"4\" color='blue'><strong>1. 重回帰分析のモデル式を示し、その意味を説明せよ。</strong></font>"
   ]
  },
  {
   "cell_type": "markdown",
   "metadata": {},
   "source": [
    "未回答"
   ]
  },
  {
   "cell_type": "markdown",
   "metadata": {},
   "source": [
    " <font size=\"4\" color='blue'><strong>2. 重回帰分析が利用可能な例を具体的なデータと共に示せ。</strong></font>"
   ]
  },
  {
   "cell_type": "markdown",
   "metadata": {},
   "source": [
    "未回答\n"
   ]
  },
  {
   "cell_type": "markdown",
   "metadata": {},
   "source": [
    "グラフ作成中"
   ]
  },
  {
   "cell_type": "markdown",
   "metadata": {},
   "source": [
    "<img src=\"images/IMG_1624.jpg\" width=\"500px\">"
   ]
  },
  {
   "cell_type": "markdown",
   "metadata": {},
   "source": [
    "<img src=\"images/IMG_1625.jpg\" width=\"500px\">"
   ]
  },
  {
   "cell_type": "markdown",
   "metadata": {},
   "source": [
    "<img src=\"images/IMG_1626.jpg\" width=\"500px\">"
   ]
  },
  {
   "cell_type": "markdown",
   "metadata": {},
   "source": [
    "<img src=\"images/IMG_1627.jpg\" width=\"500px\">"
   ]
  },
  {
   "cell_type": "markdown",
   "metadata": {},
   "source": [
    "<img src=\"images/IMG_1630.jpg\" width=\"500px\" transform=\"rotate(1, 1)\">"
   ]
  },
  {
   "cell_type": "code",
   "execution_count": 1,
   "metadata": {},
   "outputs": [
    {
     "name": "stdout",
     "output_type": "stream",
     "text": [
      "\n",
      "Linear Regression Example\n",
      "\n",
      "Coefficients: \n",
      " [938.23786125]\n",
      "Mean squared error: 2548.07\n",
      "Variance score: 0.47\n"
     ]
    },
    {
     "data": {
      "image/png": "[encoded data removed]",
      "text/plain": [
       "<Figure size 432x288 with 1 Axes>"
      ]
     },
     "metadata": {},
     "output_type": "display_data"
    }
   ],
   "source": [
    "\"\"\"\n",
    "Linear Regression Example\n",
    "\"\"\"\n",
    "\n",
    "print(__doc__)  # __doc__を使うと、各クラスやメソッドの概要を閲覧出来る\n",
    "\n",
    "\n",
    "# Code source: Jaques Grobler\n",
    "# License: BSD 3 clause\n",
    "\n",
    "\n",
    "import matplotlib.pyplot as plt  # matplotlib.pyplotモジュールを読み込む\n",
    "import numpy as np  # numpyを読み込む\n",
    "from sklearn import datasets, linear_model  # sklearnを読み込む\n",
    "from sklearn.metrics import mean_squared_error, r2_score  # sklearn.metricsを読み込む\n",
    "# 以下 jupyter へ表示用\n",
    "%matplotlib inline  \n",
    "np.set_printoptions(threshold=100)\n",
    "# Load the diabetes dataset\n",
    "diabetes = datasets.load_diabetes()  #  sklearnのdatasetsを読み込む\n",
    "\n",
    "\n",
    "# Use only one feature\n",
    "diabetes_X = diabetes.data[:, np.newaxis, 2]  # datasetsのdict['data']を取り出し、次元数を追加\n",
    "\n",
    "# Split the data into training/testing sets\n",
    "diabetes_X_train = diabetes_X[:-20]  # トレーニング用に、学習データを配列の先頭から末尾から数えて20番目までのデータ取得\n",
    "\n",
    "diabetes_X_test = diabetes_X[-20:]  # テスト用に、学習データを配列の末尾から先頭から数えて20番目までのデータ取得\n",
    "\n",
    "# Split the targets into training/testing sets\n",
    "diabetes_y_train = diabetes.target[:-20]  # トレーニング用にdatasetに入っている正解ラベルデータを配列の先頭から末尾から数えて20番目までのデータ取得\n",
    "diabetes_y_test = diabetes.target[-20:]  # テスト用に、datasetに入っている正解ラベルデータを配列の末尾から先頭から数えて20番目までのデータ取得\n",
    "\n",
    "# Create linear regression object\n",
    "regr = linear_model.LinearRegression()  # 線形回帰モデルのインスタンスを作る\n",
    "\n",
    "# Train the model using the training sets\n",
    "regr.fit(diabetes_X_train, diabetes_y_train)  # 作成したモデルインスタンスに対して学習を実行する\n",
    "\n",
    "\n",
    "# Make predictions using the testing set\n",
    "diabetes_y_pred = regr.predict(diabetes_X_test)  # 学習済みのモデルインスタンスに対してトレーニング(検証)を行い、結果を変数へ渡す\n",
    "\n",
    "# The coefficients\n",
    "print('Coefficients: \\n', regr.coef_)  # 重みなどの係数を出力\n",
    "# The mean squared error\n",
    "print(\"Mean squared error: %.2f\"\n",
    "       % mean_squared_error(diabetes_y_test, diabetes_y_pred))  # 二乗平均誤差を出力\n",
    "# Explained variance score: 1 is perfect prediction\n",
    "print('Variance score: %.2f' % r2_score(diabetes_y_test, diabetes_y_pred))  # 決定係数(当てはまりの良さ)を表示\n",
    "\n",
    "# Plot outputs\n",
    "plt.scatter(diabetes_X_test, diabetes_y_test,  color='black')  # テスト用のデータをscatter表示\n",
    "plt.plot(diabetes_X_test, diabetes_y_pred, color='blue', linewidth=3)  # トレーニング結果を回帰直線で表示させている\n",
    "\n",
    "plt.xticks(())\n",
    "plt.yticks(())\n",
    "\n",
    "plt.show()"
   ]
  },
  {
   "cell_type": "markdown",
   "metadata": {},
   "source": [
    "## Linear Regression Exampleについて著者が説明したかったこと\n",
    "\n",
    "sklearnには標準でデータセットがあり、そのデータセットをつかうことで簡単に  \n",
    "分析が行うことができる。  \n",
    "データセットには学習データと正解データに分かれており  \n",
    "それぞれ、トレーニング用とテスト(検証)用に多くなりすぎない程度の20個づつを  \n",
    "分けることで検証が行いやすくなっている。  \n",
    "分けたデータを使って学習を行い、学習につかわれたパラメータと二乗平均誤差と決定係数の値を表示させ  \n",
    "この学習でどんな値がつかわれているかをわかりやすくしている。  \n",
    "\n",
    "結果データをビジュアライズしているが、結果からわかることはアル程度相関性はみられるものの  \n",
    "誤差もそれなりにあることがわかった。  "
   ]
  },
  {
   "cell_type": "code",
   "execution_count": null,
   "metadata": {},
   "outputs": [],
   "source": []
  },
  {
   "cell_type": "code",
   "execution_count": 2,
   "metadata": {},
   "outputs": [
    {
     "name": "stdout",
     "output_type": "stream",
     "text": [
      "\n",
      "Underfitting vs. Overfitting\n",
      "\n"
     ]
    },
    {
     "data": {
      "image/png": "[encoded data removed]",
      "text/plain": [
       "<Figure size 1008x360 with 3 Axes>"
      ]
     },
     "metadata": {},
     "output_type": "display_data"
    }
   ],
   "source": [
    "\"\"\"\n",
    "Underfitting vs. Overfitting\n",
    "\"\"\"\n",
    "print(__doc__) # __doc__を使うと、各クラスやメソッドの概要を閲覧出来る\n",
    "\n",
    "import numpy as np  # numpyモジュールを読み込む\n",
    "import matplotlib.pyplot as plt  # matplotlib.pyplotモジュールを読み込む\n",
    "from sklearn.pipeline import Pipeline  # sklearn.pipelineモジュールを読み込む\n",
    "from sklearn.preprocessing import PolynomialFeatures  # sklearn.preprocessingモジュールを読み込む\n",
    "from sklearn.linear_model import LinearRegression  # sklearn.linear_modelモジュールを読み込む\n",
    "from sklearn.model_selection import cross_val_score  # sklearn.model_selectionモジュールを読み込む\n",
    "\n",
    "\n",
    "def true_fun(X):\n",
    "    \"\"\"\n",
    "    コサイン関数を実行\n",
    "    \"\"\"\n",
    "    return np.cos(1.5 * np.pi * X)\n",
    "\n",
    "np.random.seed(0)  # ランダム値のタネを生成\n",
    "\n",
    "n_samples = 30  # サンプル数\n",
    "degrees = [1, 4, 15]  # 多項式に使われる次元数\n",
    "\n",
    "X = np.sort(np.random.rand(n_samples))  # 30個のランダム値をソートして学習データとする\n",
    "y = true_fun(X) + np.random.randn(n_samples) * 0.1  # 30個のランダム値に0.1を掛けて、ランダム値の余弦関数を求めた値で足したものを正解データとする\n",
    "\n",
    "plt.figure(figsize=(14, 5))  # 表示域のサイズ\n",
    "for i in range(len(degrees)):  # plt.subplot(行数, 列数, 何番目のプロットか)用の値をセット\n",
    "    ax = plt.subplot(1, len(degrees), i + 1)\n",
    "    plt.setp(ax, xticks=(), yticks=())\n",
    "\n",
    "    polynomial_features = PolynomialFeatures(degree=degrees[i],  # 多項式特徴量として[1次元、4次元、15次元]を用意\n",
    "                                             include_bias=False)\n",
    "    linear_regression = LinearRegression()  # 回帰分析モデルのインスタンスを生成\n",
    "    pipeline = Pipeline([(\"polynomial_features\", polynomial_features),  #  pipelineを使い、特徴量と回帰分析モデルインスタンスを繋ぐ\n",
    "                         (\"linear_regression\", linear_regression)])\n",
    "    pipeline.fit(X[:, np.newaxis], y) # 学習させる\n",
    "\n",
    "    # Evaluate the models using crossvalidation\n",
    "    scores = cross_val_score(pipeline, X[:, np.newaxis], y,  # クロスバリデーションによってモデルの精度を出力\n",
    "                             scoring=\"neg_mean_squared_error\", cv=10)\n",
    "\n",
    "    X_test = np.linspace(0, 1, 100)  # 0 ~ 1までの値を100個用意\n",
    "    plt.plot(X_test, pipeline.predict(X_test[:, np.newaxis]), label=\"Model\")  # テスト(検証)実行\n",
    "    plt.plot(X_test, true_fun(X_test), label=\"True function\")  # 正解データの回帰線表示?\n",
    "    plt.scatter(X, y, edgecolor='b', s=20, label=\"Samples\")  # scatterでデータ点を表示\n",
    "    plt.xlabel(\"x\")  # xラベル\n",
    "    plt.ylabel(\"y\")  # yラベル\n",
    "    plt.xlim((0, 1))  # x軸のメモリ \n",
    "    plt.ylim((-2, 2))  # y軸のメモリ\n",
    "    plt.legend(loc=\"best\")  # 凡例の枠を表示\n",
    "    plt.title(\"Degree {}\\nMSE = {:.2e}(+/- {:.2e})\".format(  # タイトル表示\n",
    "        degrees[i], -scores.mean(), scores.std()))\n",
    "plt.show()\n"
   ]
  },
  {
   "cell_type": "markdown",
   "metadata": {},
   "source": [
    "## Underfitting vs. Overfitting について著者が説明したかったこと\n",
    "\n",
    "重回帰分析を[1次元、4次元、15次元]3種類の次元数で行っているが、\n",
    "次元数を増やせば増やすほどに精度が上がっているようにみられる。\n",
    "\n",
    "しかし、学習データは同じものを繰り返しつかっており\n",
    "過学習になっているとも言える。"
   ]
  },
  {
   "cell_type": "code",
   "execution_count": null,
   "metadata": {},
   "outputs": [],
   "source": []
  },
  {
   "cell_type": "code",
   "execution_count": 3,
   "metadata": {},
   "outputs": [
    {
     "name": "stdout",
     "output_type": "stream",
     "text": [
      "\n",
      "Ordinary Least Squares and Ridge Regression Variance\n",
      "\n"
     ]
    },
    {
     "data": {
      "image/png": "[encoded data removed]",
      "text/plain": [
       "<Figure size 288x216 with 1 Axes>"
      ]
     },
     "metadata": {
      "needs_background": "light"
     },
     "output_type": "display_data"
    },
    {
     "data": {
      "image/png": "[encoded data removed]",
      "text/plain": [
       "<Figure size 288x216 with 1 Axes>"
      ]
     },
     "metadata": {
      "needs_background": "light"
     },
     "output_type": "display_data"
    }
   ],
   "source": [
    "\"\"\"\n",
    "Ordinary Least Squares and Ridge Regression Variance\n",
    "\"\"\"\n",
    "print(__doc__)  # __doc__を使うと、各クラスやメソッドの概要を閲覧出来る\n",
    "\n",
    "\n",
    "# Code source: Gaël Varoquaux\n",
    "# Modified for documentation by Jaques Grobler\n",
    "# License: BSD 3 clause\n",
    "\n",
    "\n",
    "import numpy as np  # numpyモジュールを読み込む\n",
    "import matplotlib.pyplot as plt  # matplotlib.pyplotモジュールを読み込む\n",
    "\n",
    "from sklearn import linear_model  # sklearnを読み込む\n",
    "\n",
    "X_train = np.c_[.5, 1].T  # array型にしてトレーニング用二次元の学習データを用意\n",
    "y_train = [.5, 1]  # トレーニング用正解データ\n",
    "X_test = np.c_[0, 2].T  # array型にしてテスト用学習データ\n",
    "\n",
    "np.random.seed(0)  # ランダム値の種を用意\n",
    "\n",
    "classifiers = dict(ols=linear_model.LinearRegression(),  # dictionaryで回帰分析モデルインスタンスとRidge回帰分析モデルインスタンスを用意\n",
    "                   ridge=linear_model.Ridge(alpha=.1))\n",
    "\n",
    "for name, clf in classifiers.items():   # 2つのモデルインスタンスを\n",
    "    fig, ax = plt.subplots(figsize=(4, 3))  # plt.subplot(figsize=(縦、横)大きさ)値をセット\n",
    "\n",
    "    for _ in range(6):\n",
    "        this_X = .1 * np.random.normal(size=(2, 1)) + X_train  # 0.1 x 平均2、分散1の正規分布に従う乱数にトレーニングデータを足し、学習データを生成\n",
    "        clf.fit(this_X, y_train)  # 乱数データで学習\n",
    "\n",
    "        ax.plot(X_test, clf.predict(X_test), color='gray')  # テスト(検証)して表示(6個分)\n",
    "        ax.scatter(this_X, y_train, s=3, c='gray', marker='o', zorder=10)  # 検証に使った点を表示\n",
    "\n",
    "    clf.fit(X_train, y_train)  # トレーニング用データで学習\n",
    "    ax.plot(X_test, clf.predict(X_test), linewidth=2, color='blue')  #  テスト(検証)して表示(1個)\n",
    "    ax.scatter(X_train, y_train, s=30, c='red', marker='+', zorder=10) # 検証に使った点を表示\n",
    "\n",
    "    ax.set_title(name) # タイトルセット\n",
    "    ax.set_xlim(0, 2)  # x軸のメモリ \n",
    "    ax.set_ylim((0, 1.6)) # y軸のメモリ \n",
    "    ax.set_xlabel('X') # x軸のラベル\n",
    "    ax.set_ylabel('y') # y軸のラベル \n",
    "\n",
    "    fig.tight_layout()  # グラフ同士のラベルが重ならないようになる\n",
    "\n",
    "plt.show()"
   ]
  },
  {
   "cell_type": "markdown",
   "metadata": {},
   "source": [
    "## Ordinary Least Squares and Ridge Regression Varianceについて著者が説明したかったこと\n",
    "\n",
    "2点に対しての単回帰分析において、  \n",
    "通常の二乗誤差で学習させていくと分散がおおきくなり新しいデータが与えられた時に  \n",
    "誤差が大きくなる可能性がある  \n",
    "一方でRidge回帰分析の学習モデルで学習させると  \n",
    "分散が小さく新たなデータが与えられても誤差は変わりにくい  "
   ]
  },
  {
   "cell_type": "code",
   "execution_count": null,
   "metadata": {},
   "outputs": [],
   "source": [
    "\n"
   ]
  }
 ],
 "metadata": {
  "kernelspec": {
   "display_name": "Python 3",
   "language": "python",
   "name": "python3"
  },
  "language_info": {
   "codemirror_mode": {
    "name": "ipython",
    "version": 3
   },
   "file_extension": ".py",
   "mimetype": "text/x-python",
   "name": "python",
   "nbconvert_exporter": "python",
   "pygments_lexer": "ipython3",
   "version": "3.7.0"
  }
 },
 "nbformat": 4,
 "nbformat_minor": 2
}

{
 "cells": [
  {
   "cell_type": "markdown",
   "metadata": {},
   "source": [
    "# 04_perceptron"
   ]
  },
  {
   "cell_type": "markdown",
   "metadata": {},
   "source": [
    "# Q1：Logistic Sigmoid について調べ説明せよ。"
   ]
  },
  {
   "cell_type": "markdown",
   "metadata": {},
   "source": [
    "# A1. "
   ]
  },
  {
   "cell_type": "markdown",
   "metadata": {},
   "source": [
    "シグモイド関数は以下の式で表される。  \n",
    "<img src=\"images/sigmid.png\" height=\"30%\" width=\"30%\" align=\"left\">"
   ]
  },
  {
   "cell_type": "code",
   "execution_count": 4,
   "metadata": {},
   "outputs": [
    {
     "data": {
      "image/png": "[encoded data removed]",
      "text/plain": [
       "<Figure size 432x288 with 1 Axes>"
      ]
     },
     "metadata": {
      "needs_background": "light"
     },
     "output_type": "display_data"
    }
   ],
   "source": [
    "import matplotlib.pyplot as plt\n",
    "import numpy as np\n",
    "import math\n",
    "\n",
    "\n",
    "x = np.arange(-10, 10, 0.1)  # -10 ~ 10まで0.1刻み\n",
    "e = math.e  # 自然対数 \n",
    "y = 1 / (1 + e**-x)  # シグモイド関数\n",
    "\n",
    "plt.plot(x, y)\n",
    "plt.show()"
   ]
  },
  {
   "cell_type": "markdown",
   "metadata": {},
   "source": [
    "- 標準シグモイド関数は a=1 を代入して表す。  \n",
    "- シグモイド関数式の eは自然対数である。\n",
    "- シグモイド関数の性質は、0から1の単調増加関数で1つの変曲点を持つ。  \n",
    "- 単調増加関数とは、値の変化が一定に増加する連続関数である。  \n",
    "- 変曲点とは、曲線の曲がる方向が変わる点である。  \n",
    "\n",
    "引用：https://ja.wikipedia.org/wiki/%E3%82%B7%E3%82%B0%E3%83%A2%E3%82%A4%E3%83%89%E9%96%A2%E6%95%B0"
   ]
  },
  {
   "cell_type": "markdown",
   "metadata": {},
   "source": [
    "# Q2：Logistic Sigmoid をアクティベーション関数として持つ<br><br>パーセプトロンのモデルについて調べ説明せよ。"
   ]
  },
  {
   "cell_type": "markdown",
   "metadata": {},
   "source": [
    "# A2."
   ]
  },
  {
   "cell_type": "markdown",
   "metadata": {},
   "source": [
    "**パーセプトロンとは：**  \n",
    "- パーセプトロンとは、視覚や脳の機能をモデル化したものでありパターン認識を行うシンプルなネットワーク。\n",
    "- ネットワーク構成としては、(感覚層)入力層 → (連合層)中間層 → (反応層)出力層の3つからなる。  \n",
    "- パターン認識とは、画像・音声などの雑多な情報を含むデータの中から、一定の規則や意味を持つ対象を選別して取り出す処理。  \n",
    "\n",
    "**アクティベーション(活性化)関数とは：**  \n",
    "- 伝達関数という意味でも捉えることができるが、入力層から与えられるデータが線形変換した後に、適用される関数\n",
    "- パーセプトロンでの中間層にあたる。  \n",
    "\n",
    "\n",
    "\n",
    "引用：  \n",
    "https://ja.wikipedia.org/wiki/%E3%83%91%E3%83%BC%E3%82%BB%E3%83%97%E3%83%88%E3%83%AD%E3%83%B3  \n",
    "https://ja.wikipedia.org/wiki/%E3%83%91%E3%82%BF%E3%83%BC%E3%83%B3%E8%AA%8D%E8%AD%98  "
   ]
  },
  {
   "cell_type": "markdown",
   "metadata": {},
   "source": [
    "### 【Logistic Sigmoidをアクティベーション関数に持つパーセプトロンモデル】\n",
    "\n",
    "<img src=\"images/method.png\" height=\"50%\" width=\"50%\" align=\"left\">"
   ]
  },
  {
   "cell_type": "markdown",
   "metadata": {},
   "source": [
    "# Q3：0 を false, 1 を true としたとき、論理否定を行う関数を、<br>Logistic Sigmoid をアクティベーション関数として<br>持つパーセプトロンを用いて作成せよ。<br><br>パーセプトロンのパラメータの調整には平均二乗誤差と最急降下法を用いること。<br><br>また、調整済みのパラメータを保存し、作成した関数を他のプログラムからいつでも利用できるようにせよ。"
   ]
  },
  {
   "cell_type": "markdown",
   "metadata": {},
   "source": [
    "# A3. "
   ]
  },
  {
   "cell_type": "markdown",
   "metadata": {},
   "source": [
    "<img src=\"images/perceptron.png\"  height=\"50%\" width=\"50%\" align=\"left\">"
   ]
  },
  {
   "cell_type": "markdown",
   "metadata": {},
   "source": [
    "用意するデータ  \n",
    "[[入力1、正解1]\n",
    "[入力2、正解2]\n",
    "[入力3、正解3]\n",
    "....\n",
    "[入力n、正解n]]\n",
    "\n",
    "\n",
    "入力層(式)  \n",
    "$\n",
    "y_i = \\sum_{i}(aXi + b)\n",
    "$\n",
    "\n",
    "中間層(シグモイド関数: a=1とする)  \n",
    "$ \n",
    "S_i = \\frac{1}{1-e^ay_i}  \n",
    "$\n",
    "\n",
    "誤差関数(平均二乗誤差)  \n",
    "平均二乗誤差とは、予測値と真の値の離れ具合の平均を求める。  \n",
    "引用：http://ebw.eng-book.com/heishin/MeanSquaredError_mean_squared_error_calculation.do?category=mean_squared_error  \n",
    "\n",
    "- 誤差関数(平均二乗誤差)  \n",
    "\n",
    "z = 真の値  \n",
    "$\n",
    "平均二乗誤差 = \\frac{1}{データの総数(n)}\\sum_{i}(予測値 - z_i)^2\n",
    "$  \n",
    "$  \n",
    "E(a) = \\frac{1}{n}\\sum_{i}((\\frac{1}{1-e^-(aX_i+b)}) -z_i)^2\n",
    "$\n",
    "\n",
    "\n",
    "\n",
    "- 最急降下法  \n",
    "$\n",
    "a^(k+1) = a^(k) - α\\frac{d \\frac{1}{n}\\sum_{i}((\\frac{1}{1+e^-(aX_i+b)})-z_i)^2}{d  a}\n",
    "$  \n",
    "- パラメータaの微分式  \n",
    "$\n",
    "a^(k+1) = a^(k) -α\\frac{1}{n}\\sum_{i}(2(\\frac{1}{1+e^-(aX_i+b)})-z_i)(-1)(\\frac{1}{1+e^-aX_i-b}))\n",
    "$\n",
    "- バイアスbの微分式  \n",
    "$\n",
    "b^(k+1) = b^(k) -α\\frac{1}{n}\\sum_{i}(2(\\frac{1}{1+e^-(aX_i+b)})-z_i)(-1)(\\frac{1}{1+e^-aX_i-b}))\n",
    "$"
   ]
  },
  {
   "cell_type": "markdown",
   "metadata": {},
   "source": [
    "<img src=\"images/\" height=\"50%\" width=\"50%\" align=\"left\">"
   ]
  },
  {
   "cell_type": "code",
   "execution_count": 142,
   "metadata": {},
   "outputs": [
    {
     "name": "stdout",
     "output_type": "stream",
     "text": [
      "neuron.activation_function(y) 0.574442516811659\n",
      "neuron.activation_function(y) 0.6899744811276125\n",
      "neuron.activation_function(y) 0.6899744811276125\n",
      "neuron.activation_function(y) 0.574442516811659\n",
      "neuron.activation_function(y) 0.6899744811276125\n",
      "neuron.activation_function(y) 0.574442516811659\n",
      "neuron.activation_function(y) 0.574442516811659\n",
      "neuron.activation_function(y) 0.6899744811276125\n",
      "answer, sigmoid_list [1 0 0 1 0 1 1 0] []\n"
     ]
    },
    {
     "ename": "ValueError",
     "evalue": "operands could not be broadcast together with shapes (0,) (8,) ",
     "output_type": "error",
     "traceback": [
      "\u001b[0;31m---------------------------------------------------------------------------\u001b[0m",
      "\u001b[0;31mValueError\u001b[0m                                Traceback (most recent call last)",
      "\u001b[0;32m<ipython-input-142-0322ad2b7981>\u001b[0m in \u001b[0;36m<module>\u001b[0;34m\u001b[0m\n\u001b[1;32m     67\u001b[0m             \u001b[0merr\u001b[0m\u001b[0;34m.\u001b[0m\u001b[0mappend\u001b[0m\u001b[0;34m(\u001b[0m\u001b[0mneuron\u001b[0m\u001b[0;34m.\u001b[0m\u001b[0merror_function\u001b[0m\u001b[0;34m(\u001b[0m\u001b[0ms\u001b[0m\u001b[0;34m,\u001b[0m \u001b[0mi\u001b[0m\u001b[0;34m[\u001b[0m\u001b[0;36m1\u001b[0m\u001b[0;34m]\u001b[0m\u001b[0;34m)\u001b[0m\u001b[0;34m)\u001b[0m  \u001b[0;31m# 誤差listへ\u001b[0m\u001b[0;34m\u001b[0m\u001b[0m\n\u001b[1;32m     68\u001b[0m         \u001b[0;31m# パラメータ更新(e)\u001b[0m\u001b[0;34m\u001b[0m\u001b[0;34m\u001b[0m\u001b[0m\n\u001b[0;32m---> 69\u001b[0;31m         \u001b[0mneuron\u001b[0m\u001b[0;34m.\u001b[0m\u001b[0mparameter_update\u001b[0m\u001b[0;34m(\u001b[0m\u001b[0minput_data\u001b[0m\u001b[0;34m[\u001b[0m\u001b[0;34m:\u001b[0m\u001b[0;34m,\u001b[0m \u001b[0;36m1\u001b[0m\u001b[0;34m]\u001b[0m\u001b[0;34m,\u001b[0m \u001b[0msigmoid_list\u001b[0m\u001b[0;34m)\u001b[0m  \u001b[0;31m# パラメータ更新(正解リスト, 活性化関数出力リスト)\u001b[0m\u001b[0;34m\u001b[0m\u001b[0m\n\u001b[0m\u001b[1;32m     70\u001b[0m         \u001b[0merror_result\u001b[0m \u001b[0;34m=\u001b[0m \u001b[0msum\u001b[0m\u001b[0;34m(\u001b[0m\u001b[0msigmoid_list\u001b[0m \u001b[0;34m-\u001b[0m \u001b[0minput_data\u001b[0m\u001b[0;34m[\u001b[0m\u001b[0;34m:\u001b[0m\u001b[0;34m,\u001b[0m \u001b[0;36m1\u001b[0m\u001b[0;34m]\u001b[0m\u001b[0;34m)\u001b[0m\u001b[0;34m**\u001b[0m\u001b[0;36m2\u001b[0m\u001b[0;34m/\u001b[0m\u001b[0mlen\u001b[0m\u001b[0;34m(\u001b[0m\u001b[0minput_data\u001b[0m\u001b[0;34m[\u001b[0m\u001b[0;34m:\u001b[0m\u001b[0;34m,\u001b[0m \u001b[0;36m1\u001b[0m\u001b[0;34m]\u001b[0m\u001b[0;34m)\u001b[0m\u001b[0;31m# 平均二乗誤差関数\u001b[0m\u001b[0;34m\u001b[0m\u001b[0m\n\u001b[1;32m     71\u001b[0m \u001b[0;34m\u001b[0m\u001b[0m\n",
      "\u001b[0;32m<ipython-input-142-0322ad2b7981>\u001b[0m in \u001b[0;36mparameter_update\u001b[0;34m(self, answer, sigmoid_list)\u001b[0m\n\u001b[1;32m     36\u001b[0m         \"\"\"\n\u001b[1;32m     37\u001b[0m         \u001b[0mprint\u001b[0m\u001b[0;34m(\u001b[0m\u001b[0;34m\"answer, sigmoid_list\"\u001b[0m\u001b[0;34m,\u001b[0m \u001b[0manswer\u001b[0m\u001b[0;34m,\u001b[0m \u001b[0msigmoid_list\u001b[0m\u001b[0;34m)\u001b[0m\u001b[0;34m\u001b[0m\u001b[0m\n\u001b[0;32m---> 38\u001b[0;31m         \u001b[0mself\u001b[0m\u001b[0;34m.\u001b[0m\u001b[0m_a\u001b[0m \u001b[0;34m=\u001b[0m \u001b[0mself\u001b[0m\u001b[0;34m.\u001b[0m\u001b[0m_a\u001b[0m \u001b[0;34m-\u001b[0m \u001b[0mself\u001b[0m\u001b[0;34m.\u001b[0m\u001b[0m_α\u001b[0m\u001b[0;34m*\u001b[0m\u001b[0;34m(\u001b[0m\u001b[0;34m(\u001b[0m\u001b[0;36m2\u001b[0m\u001b[0;34m*\u001b[0m\u001b[0;34m(\u001b[0m\u001b[0msum\u001b[0m\u001b[0;34m(\u001b[0m\u001b[0msigmoid_list\u001b[0m\u001b[0;34m-\u001b[0m\u001b[0manswer\u001b[0m\u001b[0;34m)\u001b[0m\u001b[0;34m)\u001b[0m\u001b[0;34m/\u001b[0m\u001b[0mlen\u001b[0m\u001b[0;34m(\u001b[0m\u001b[0msigmoid_list\u001b[0m\u001b[0;34m)\u001b[0m\u001b[0;34m)\u001b[0m\u001b[0;34m*\u001b[0m\u001b[0;34m(\u001b[0m\u001b[0mself\u001b[0m\u001b[0;34m.\u001b[0m\u001b[0m_a\u001b[0m\u001b[0;34m*\u001b[0m\u001b[0msigmoid_list\u001b[0m\u001b[0;34m)\u001b[0m\u001b[0;34m*\u001b[0m\u001b[0;34m(\u001b[0m\u001b[0;36m1\u001b[0m\u001b[0;34m-\u001b[0m\u001b[0msigmoid_list\u001b[0m\u001b[0;34m)\u001b[0m\u001b[0;34m)\u001b[0m  \u001b[0;31m# 重みパラメータ\u001b[0m\u001b[0;34m\u001b[0m\u001b[0m\n\u001b[0m\u001b[1;32m     39\u001b[0m         \u001b[0mself\u001b[0m\u001b[0;34m.\u001b[0m\u001b[0m_b\u001b[0m \u001b[0;34m=\u001b[0m \u001b[0mself\u001b[0m\u001b[0;34m.\u001b[0m\u001b[0m_b\u001b[0m \u001b[0;34m-\u001b[0m \u001b[0mself\u001b[0m\u001b[0;34m.\u001b[0m\u001b[0m_α\u001b[0m\u001b[0;34m*\u001b[0m\u001b[0;34m(\u001b[0m\u001b[0;34m(\u001b[0m\u001b[0;36m2\u001b[0m\u001b[0;34m*\u001b[0m\u001b[0;34m(\u001b[0m\u001b[0msum\u001b[0m\u001b[0;34m(\u001b[0m\u001b[0msigmoid_list\u001b[0m\u001b[0;34m-\u001b[0m\u001b[0manswer\u001b[0m\u001b[0;34m)\u001b[0m\u001b[0;34m)\u001b[0m\u001b[0;34m/\u001b[0m\u001b[0mlen\u001b[0m\u001b[0;34m(\u001b[0m\u001b[0msigmoid_list\u001b[0m\u001b[0;34m)\u001b[0m\u001b[0;34m)\u001b[0m\u001b[0;34m*\u001b[0m\u001b[0;34m(\u001b[0m\u001b[0mself\u001b[0m\u001b[0;34m.\u001b[0m\u001b[0m_b\u001b[0m\u001b[0;34m*\u001b[0m\u001b[0msigmoid_list\u001b[0m\u001b[0;34m)\u001b[0m\u001b[0;34m*\u001b[0m\u001b[0;34m(\u001b[0m\u001b[0;36m1\u001b[0m\u001b[0;34m-\u001b[0m\u001b[0msigmoid_list\u001b[0m\u001b[0;34m)\u001b[0m\u001b[0;34m)\u001b[0m  \u001b[0;31m# バイアス\u001b[0m\u001b[0;34m\u001b[0m\u001b[0m\n\u001b[1;32m     40\u001b[0m \u001b[0;34m\u001b[0m\u001b[0m\n",
      "\u001b[0;31mValueError\u001b[0m: operands could not be broadcast together with shapes (0,) (8,) "
     ]
    }
   ],
   "source": [
    "from numpy.random import *\n",
    "import pandas as pd\n",
    "import numpy as np\n",
    "import matplotlib.pyplot as plt\n",
    "import math\n",
    "\n",
    "\n",
    "class Neuron:\n",
    "    \n",
    "    def __init__(self, a, b, α):\n",
    "        self._a = a\n",
    "        self._b = b\n",
    "        self._α = α\n",
    "        self._error = None\n",
    "        self._e = math.e  # 自然対数\n",
    "\n",
    "    def Input_layer(self, x):\n",
    "        \"\"\"線形変換\"\"\"\n",
    "        y = self._a*x + self._b \n",
    "        return y\n",
    "    \n",
    "    def activation_function(self, y):\n",
    "        \"\"\"活性化関数\"\"\"\n",
    "        s = 1 / (1 + self._e**-y)  # シグモイド関数\n",
    "        return s\n",
    "        \n",
    "    def error_function(self, s, answer):\n",
    "        \"\"\"誤差関数\"\"\"\n",
    "        error = s - answer # 出力値 - 正解値\n",
    "        return error\n",
    "        \n",
    "    def parameter_update(self, answer, sigmoid_list):\n",
    "        \"\"\"\n",
    "        パラメータ更新\n",
    "        誤差関数：平均二乗誤差\n",
    "        \"\"\"\n",
    "        print(\"answer, sigmoid_list\", answer, sigmoid_list)\n",
    "        self._a = self._a - self._α*((2*(sum(sigmoid_list-answer))/len(sigmoid_list))*(self._a*sigmoid_list)*(1-sigmoid_list))  # 重みパラメータ\n",
    "        self._b = self._b - self._α*((2*(sum(sigmoid_list-answer))/len(sigmoid_list))*(self._b*sigmoid_list)*(1-sigmoid_list))  # バイアス\n",
    "       \n",
    "        # print(\"a, b [%s, %s]\"% (self._a, self._b))\n",
    "        \n",
    "\n",
    "if __name__=='__main__':      \n",
    "    input_data = np.array([[0, 1],\n",
    "                           [1, 0],\n",
    "                           [1, 0],\n",
    "                           [0, 1],\n",
    "                           [1, 0],\n",
    "                           [0, 1],\n",
    "                           [0, 1],\n",
    "                           [1, 0]])  # [入力値, 正解]\n",
    "    a = 0.5  # 初期値のパラメータ\n",
    "    b = 0.3 # バイアス\n",
    "    α = 0.1  # ハイパーパラメータ(調整項)\n",
    "    error_list = np.array([])  # 誤差を格納\n",
    "    sigmoid_list = np.array([])  # 活性化関数の結果を格納\n",
    "    adjusted_parameter = {}  # 調整済みパラメータ\n",
    "    neuron = Neuron(a, b, α)\n",
    "\n",
    " \n",
    "    for _ in range(100):\n",
    "        for i in input_data:\n",
    "            y = neuron.Input_layer(i[0])  # 入力層\n",
    "            print(\"neuron.activation_function(y)\",neuron.activation_function(y))\n",
    "            sig.append(neuron.activation_function(y))  # 中間層\n",
    "            err.append(neuron.error_function(s, i[1]))  # 誤差listへ\n",
    "        # パラメータ更新(e)\n",
    "        neuron.parameter_update(input_data[:, 1], sigmoid_list)  # パラメータ更新(正解リスト, 活性化関数出力リスト)\n",
    "        error_result = sum(sigmoid_list - input_data[:, 1])**2/len(input_data[:, 1])# 平均二乗誤差関数\n",
    "\n",
    "        print(\"error_result : \", error_result)\n",
    "\n",
    "        #print(\"y: \", y)\n",
    "        #print(\"s: \", s)\n",
    "\n",
    "        #print(\"a\", a,)"
   ]
  },
  {
   "cell_type": "code",
   "execution_count": 139,
   "metadata": {},
   "outputs": [
    {
     "ename": "NameError",
     "evalue": "name 'parameter' is not defined",
     "output_type": "error",
     "traceback": [
      "\u001b[0;31m---------------------------------------------------------------------------\u001b[0m",
      "\u001b[0;31mNameError\u001b[0m                                 Traceback (most recent call last)",
      "\u001b[0;32m<ipython-input-139-399ed6201daf>\u001b[0m in \u001b[0;36m<module>\u001b[0;34m\u001b[0m\n\u001b[1;32m      1\u001b[0m \u001b[0mfig\u001b[0m \u001b[0;34m=\u001b[0m \u001b[0mplt\u001b[0m\u001b[0;34m.\u001b[0m\u001b[0mfigure\u001b[0m\u001b[0;34m(\u001b[0m\u001b[0;34m)\u001b[0m\u001b[0;34m\u001b[0m\u001b[0m\n\u001b[1;32m      2\u001b[0m \u001b[0max\u001b[0m \u001b[0;34m=\u001b[0m \u001b[0mfig\u001b[0m\u001b[0;34m.\u001b[0m\u001b[0madd_subplot\u001b[0m\u001b[0;34m(\u001b[0m\u001b[0;36m1\u001b[0m\u001b[0;34m,\u001b[0m\u001b[0;36m1\u001b[0m\u001b[0;34m,\u001b[0m\u001b[0;36m1\u001b[0m\u001b[0;34m)\u001b[0m\u001b[0;34m\u001b[0m\u001b[0m\n\u001b[0;32m----> 3\u001b[0;31m \u001b[0max\u001b[0m\u001b[0;34m.\u001b[0m\u001b[0mscatter\u001b[0m\u001b[0;34m(\u001b[0m\u001b[0mparameter\u001b[0m\u001b[0;34m[\u001b[0m\u001b[0;34m\"0\"\u001b[0m\u001b[0;34m]\u001b[0m\u001b[0;34m,\u001b[0m \u001b[0merror_list\u001b[0m\u001b[0;34m[\u001b[0m\u001b[0;34m\"0\"\u001b[0m\u001b[0;34m]\u001b[0m\u001b[0;34m,\u001b[0m \u001b[0mcolor\u001b[0m\u001b[0;34m=\u001b[0m\u001b[0;34m\"red\"\u001b[0m\u001b[0;34m,\u001b[0m \u001b[0mlabel\u001b[0m\u001b[0;34m=\u001b[0m\u001b[0;34m'input 0'\u001b[0m\u001b[0;34m)\u001b[0m\u001b[0;34m\u001b[0m\u001b[0m\n\u001b[0m\u001b[1;32m      4\u001b[0m \u001b[0max\u001b[0m\u001b[0;34m.\u001b[0m\u001b[0mscatter\u001b[0m\u001b[0;34m(\u001b[0m\u001b[0mparameter\u001b[0m\u001b[0;34m[\u001b[0m\u001b[0;34m\"1\"\u001b[0m\u001b[0;34m]\u001b[0m\u001b[0;34m,\u001b[0m \u001b[0merror_list\u001b[0m\u001b[0;34m[\u001b[0m\u001b[0;34m\"1\"\u001b[0m\u001b[0;34m]\u001b[0m\u001b[0;34m,\u001b[0m \u001b[0mcolor\u001b[0m\u001b[0;34m=\u001b[0m\u001b[0;34m\"blue\"\u001b[0m\u001b[0;34m,\u001b[0m \u001b[0mlabel\u001b[0m\u001b[0;34m=\u001b[0m\u001b[0;34m'input 1'\u001b[0m\u001b[0;34m)\u001b[0m\u001b[0;34m\u001b[0m\u001b[0m\n\u001b[1;32m      5\u001b[0m \u001b[0mplt\u001b[0m\u001b[0;34m.\u001b[0m\u001b[0mxlabel\u001b[0m\u001b[0;34m(\u001b[0m\u001b[0;34m\"parameter a\"\u001b[0m\u001b[0;34m)\u001b[0m\u001b[0;34m\u001b[0m\u001b[0m\n",
      "\u001b[0;31mNameError\u001b[0m: name 'parameter' is not defined"
     ]
    },
    {
     "data": {
      "image/png": "[encoded data removed]",
      "text/plain": [
       "<Figure size 432x288 with 1 Axes>"
      ]
     },
     "metadata": {
      "needs_background": "light"
     },
     "output_type": "display_data"
    }
   ],
   "source": [
    "fig = plt.figure()\n",
    "ax = fig.add_subplot(1,1,1)\n",
    "ax.scatter(parameter[\"0\"], error_list[\"0\"], color=\"red\", label='input 0')\n",
    "ax.scatter(parameter[\"1\"], error_list[\"1\"], color=\"blue\", label='input 1')\n",
    "plt.xlabel(\"parameter a\")\n",
    "plt.ylabel(\"error e\")\n",
    "ax.grid(True)\n",
    "ax.legend(loc='upper right')\n",
    "plt.show()"
   ]
  },
  {
   "cell_type": "code",
   "execution_count": null,
   "metadata": {},
   "outputs": [],
   "source": [
    "print(\"param : \", parameter[\"0\"])\n",
    "print(\"error_list : \", error_list[\"0\"])"
   ]
  },
  {
   "cell_type": "code",
   "execution_count": 21,
   "metadata": {},
   "outputs": [
    {
     "data": {
      "text/plain": [
       "array([1, 4, 9])"
      ]
     },
     "execution_count": 21,
     "metadata": {},
     "output_type": "execute_result"
    }
   ],
   "source": [
    "np.array([1,2,3])**2"
   ]
  },
  {
   "cell_type": "code",
   "execution_count": 40,
   "metadata": {},
   "outputs": [
    {
     "data": {
      "text/plain": [
       "array([1, 0, 0, 1, 0, 1, 1, 0])"
      ]
     },
     "execution_count": 40,
     "metadata": {},
     "output_type": "execute_result"
    }
   ],
   "source": [
    "input_data[:,1]"
   ]
  },
  {
   "cell_type": "code",
   "execution_count": 75,
   "metadata": {},
   "outputs": [
    {
     "data": {
      "text/plain": [
       "5.057667991757087"
      ]
     },
     "execution_count": 75,
     "metadata": {},
     "output_type": "execute_result"
    }
   ],
   "source": [
    "x = [0.574442516811659, 0.6899744811276125, 0.6899744811276125, 0.574442516811659, 0.6899744811276125, 0.574442516811659, 0.574442516811659, 0.6899744811276125] \n",
    "sum(x)"
   ]
  },
  {
   "cell_type": "code",
   "execution_count": 123,
   "metadata": {},
   "outputs": [
    {
     "data": {
      "text/plain": [
       "0.0"
      ]
     },
     "execution_count": 123,
     "metadata": {},
     "output_type": "execute_result"
    }
   ],
   "source": [
    "x = np.array([1.5, 0.5])\n",
    "sum(x-1)"
   ]
  },
  {
   "cell_type": "code",
   "execution_count": null,
   "metadata": {},
   "outputs": [],
   "source": []
  }
 ],
 "metadata": {
  "kernelspec": {
   "display_name": "Python 3",
   "language": "python",
   "name": "python3"
  },
  "language_info": {
   "codemirror_mode": {
    "name": "ipython",
    "version": 3
   },
   "file_extension": ".py",
   "mimetype": "text/x-python",
   "name": "python",
   "nbconvert_exporter": "python",
   "pygments_lexer": "ipython3",
   "version": "3.6.6"
  }
 },
 "nbformat": 4,
 "nbformat_minor": 2
}

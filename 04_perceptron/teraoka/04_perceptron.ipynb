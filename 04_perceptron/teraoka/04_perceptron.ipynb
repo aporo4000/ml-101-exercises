{
 "cells": [
  {
   "cell_type": "markdown",
   "metadata": {},
   "source": [
    "# 04_perceptron"
   ]
  },
  {
   "cell_type": "markdown",
   "metadata": {},
   "source": [
    "# Q1. Logistic Sigomid について調べ説明せよ。"
   ]
  },
  {
   "cell_type": "markdown",
   "metadata": {},
   "source": [
    "# A1. "
   ]
  },
  {
   "cell_type": "markdown",
   "metadata": {},
   "source": [
    "シグモイド関数は以下の式で表される。  \n",
    "<img src=\"images/sigmid.png\">"
   ]
  },
  {
   "cell_type": "code",
   "execution_count": 1,
   "metadata": {},
   "outputs": [
    {
     "data": {
      "text/plain": [
       "<Figure size 640x480 with 1 Axes>"
      ]
     },
     "metadata": {},
     "output_type": "display_data"
    }
   ],
   "source": [
    "import matplotlib.pyplot as plt\n",
    "import numpy as np\n",
    "import math\n",
    "\n",
    "\n",
    "x = np.arange(-10, 10, 0.1)  # -10 ~ 10まで0.1刻み\n",
    "e = math.e  # 自然対数 \n",
    "y = 1 / (1 + e**-x)  # シグモイド関数\n",
    "\n",
    "plt.plot(x, y)\n",
    "plt.show()"
   ]
  },
  {
   "cell_type": "markdown",
   "metadata": {},
   "source": [
    "- 標準シグモイド関数は a=1 を代入して表す。  \n",
    "- シグモイド関数式の eは自然対数である。\n",
    "- シグモイド関数の性質は、0から1の単調増加関数で1つの変曲点を持つ。  \n",
    "- 単調増加関数とは、値の変化が一定に増加する連続関数である。  \n",
    "- 変曲点とは、曲線の曲がる方向が変わる点である。  \n",
    "\n",
    "引用：https://ja.wikipedia.org/wiki/%E3%82%B7%E3%82%B0%E3%83%A2%E3%82%A4%E3%83%89%E9%96%A2%E6%95%B0"
   ]
  },
  {
   "cell_type": "markdown",
   "metadata": {},
   "source": [
    "# Q2. Logistic Sigmoid をアクティベーション関数として持つ<br>パーセプトロンのモデルについて調べ説明せよ。"
   ]
  },
  {
   "cell_type": "markdown",
   "metadata": {},
   "source": [
    "# A2."
   ]
  },
  {
   "cell_type": "markdown",
   "metadata": {},
   "source": [
    "**パーセプトロンとは：**  \n",
    "- パーセプトロンとは、視覚や脳の機能をモデル化したものでありパターン認識を行うシンプルなネットワーク。\n",
    "- ネットワーク構成としては、(感覚層)入力層 → (連合層)中間層 → (反応層)出力層の3つからなる。  \n",
    "- パターン認識とは、画像・音声などの雑多な情報を含むデータの中から、一定の規則や意味を持つ対象を選別して取り出す処理。  \n",
    "\n",
    "**アクティベーション(活性化)関数とは：**  \n",
    "- 伝達関数という意味でも捉えることができるが、入力層から与えられるデータが線形変換した後に、適用される関数\n",
    "- パーセプトロンでの中間層にあたる。  \n",
    "\n",
    "\n",
    "\n",
    "引用：  \n",
    "https://ja.wikipedia.org/wiki/%E3%83%91%E3%83%BC%E3%82%BB%E3%83%97%E3%83%88%E3%83%AD%E3%83%B3  \n",
    "https://ja.wikipedia.org/wiki/%E3%83%91%E3%82%BF%E3%83%BC%E3%83%B3%E8%AA%8D%E8%AD%98  "
   ]
  },
  {
   "cell_type": "markdown",
   "metadata": {},
   "source": [
    "<img src=\"images/sigmoid_1.png\">"
   ]
  },
  {
   "cell_type": "markdown",
   "metadata": {},
   "source": [
    "# Q3. 0 を false, 1 を true としたとき、論理否定を行う関数を、<br>Logistic Sigmoid をアクティベーション関数として<br>持つパーセプトロンを用いて作成せよ。<br>パーセプトロンのパラメータの調整には平均二乗誤差と最急降下法を用いること。<br><br>また、調整済みのパラメータを保存し、作成した関数を他のプログラムからいつでも利用できるようにせよ。"
   ]
  },
  {
   "cell_type": "markdown",
   "metadata": {},
   "source": [
    "# A3. "
   ]
  },
  {
   "cell_type": "code",
   "execution_count": null,
   "metadata": {},
   "outputs": [],
   "source": []
  },
  {
   "cell_type": "code",
   "execution_count": 30,
   "metadata": {},
   "outputs": [
    {
     "name": "stdout",
     "output_type": "stream",
     "text": [
      "0.5 0.5 0.1\n",
      "w : 0.5,  b : 0.5\n",
      "error: 0.07126847829827546\n",
      "s 0.6224593312018546\n",
      "出力値：0\n",
      "y :  0.5\n",
      "w : 0.47649962877984053,  b : 0.47649962877984053\n",
      "error: 0.07337477042320918\n",
      "s 0.6169209731055244\n",
      "出力値：0\n",
      "y :  0.47649962877984053\n",
      "w : 0.4528666801750348,  b : 0.4528666801750348\n",
      "error: 0.07553583944056384\n",
      "s 0.611320596273577\n",
      "出力値：0\n",
      "y :  0.4528666801750348\n",
      "w : 0.4291059076905053,  b : 0.4291059076905053\n",
      "error: 0.07775195973497\n",
      "s 0.6056601472461349\n",
      "出力値：0\n",
      "y :  0.4291059076905053\n",
      "w : 0.40522231436211276,  b : 0.40522231436211276\n",
      "error: 0.08002331046323667\n",
      "s 0.5999417280864282\n",
      "出力値：0\n",
      "y :  0.40522231436211276\n",
      "w : 0.3812211492634029,  b : 0.3812211492634029\n",
      "error: 0.08234997027405408\n",
      "s 0.5941675954927845\n",
      "出力値：0\n",
      "y :  0.3812211492634029\n",
      "w : 0.35710790286749217,  b : 0.35710790286749217\n",
      "error: 0.08473191232359034\n",
      "s 0.5883401590546138\n",
      "出力値：0\n",
      "y :  0.35710790286749217\n",
      "w : 0.3328883012376716,  b : 0.3328883012376716\n",
      "error: 0.08716899964880453\n",
      "s 0.5824619786203787\n",
      "出力値：0\n",
      "y :  0.3328883012376716\n",
      "w : 0.30856829902947036,  b : 0.30856829902947036\n",
      "error: 0.08966098096038584\n",
      "s 0.5765357607533174\n",
      "出力値：0\n",
      "y :  0.30856829902947036\n",
      "w : 0.28415407129687925,  b : 0.28415407129687925\n",
      "error: 0.09220748691635118\n",
      "s 0.5705643542593345\n",
      "出力値：0\n",
      "y :  0.28415407129687925\n",
      "w : 0.2596520041060829,  b : 0.2596520041060829\n",
      "error: 0.09480802693542953\n",
      "s 0.5645507447809113\n",
      "出力値：0\n",
      "y :  0.2596520041060829\n",
      "w : 0.23506868397125993,  b : 0.23506868397125993\n",
      "error: 0.09746198660638235\n",
      "s 0.5584980484609783\n",
      "出力値：0\n",
      "y :  0.23506868397125993\n",
      "w : 0.21041088613863423,  b : 0.21041088613863423\n",
      "error: 0.10016862574534513\n",
      "s 0.5524095046912968\n",
      "出力値：0\n",
      "y :  0.21041088613863423\n",
      "w : 0.18568556175683293,  b : 0.18568556175683293\n",
      "error: 0.10292707714812356\n",
      "s 0.5462884679708404\n",
      "出力値：0\n",
      "y :  0.18568556175683293\n",
      "w : 0.1608998239835417,  b : 0.1608998239835417\n",
      "error: 0.10573634607817675\n",
      "s 0.5401383989107663\n",
      "出力値：0\n",
      "y :  0.1608998239835417\n",
      "w : 0.13606093309025366,  b : 0.13606093309025366\n",
      "error: 0.1085953105238348\n",
      "s 0.5339628544336089\n",
      "出力値：0\n",
      "y :  0.13606093309025366\n",
      "w : 0.1111762806383815,  b : 0.1111762806383815\n",
      "error: 0.11150272225021393\n",
      "s 0.5277654772251102\n",
      "出力値：0\n",
      "y :  0.1111762806383815\n",
      "w : 0.08625337281093531,  b : 0.08625337281093531\n",
      "error: 0.1144572086624396\n",
      "s 0.5215499845073895\n",
      "出力値：0\n",
      "y :  0.08625337281093531\n",
      "w : 0.061299812994162185,  b : 0.061299812994162185\n",
      "error: 0.11745727548730235\n",
      "s 0.5153201562117476\n",
      "出力値：0\n",
      "y :  0.061299812994162185\n",
      "w : 0.036323283712797416,  b : 0.036323283712797416\n",
      "error: 0.1205013102705323\n",
      "s 0.5090798226380743\n",
      "出力値：0\n",
      "y :  0.036323283712797416\n",
      "w : 0.011331528030711302,  b : 0.011331528030711302\n",
      "error: 0.12358758667666564\n",
      "s 0.5028328516953968\n",
      "出力値：0\n",
      "y :  0.011331528030711302\n",
      "w : -0.013667669464415888,  b : -0.013667669464415888\n",
      "error: 0.1267142695682005\n",
      "s 0.49658313582439356\n",
      "出力値：1\n",
      "調整済みパラメータ {'w': -0.03866650196833644, 'b': -0.03866650196833644}\n"
     ]
    }
   ],
   "source": [
    "from numpy.random import *\n",
    "import pandas as pd\n",
    "import numpy as np\n",
    "import matplotlib.pyplot as plt\n",
    "import math\n",
    "\n",
    "\n",
    "class Neuron:\n",
    "    \n",
    "    def __init__(self, w, b, α):\n",
    "        print(w, b, α)\n",
    "        self._w = w\n",
    "        self._b = b\n",
    "        self._α = α\n",
    "        self._error = None\n",
    "        self._e = math.e  # 自然対数\n",
    "\n",
    "    def Input_layer(self, x):\n",
    "        print(\"w : %s,  b : %s\" % (self._w, self._b))  # 更新パラメータ表示\n",
    "        y = self._w*x + self._b\n",
    "        return y\n",
    "    \n",
    "    def activation_function(self, y):\n",
    "        s = 1 / (1 + self._e**-y)\n",
    "        return s\n",
    "        \n",
    "    def error_function(self, s, answer):\n",
    "        self._error = 0.5*(s - answer)**2\n",
    "        print(\"error: %s\" % self._error)  # 誤差表示\n",
    "        # return self._error\n",
    "        \n",
    "    def parameter_update(self, s):\n",
    "        self._w = self._w - self._α*((1-s)*s)   # シグモイド関数の微分\n",
    "        self._b = self._b - self._α*((1-s)*s)   # シグモイド関数の微分\n",
    "        return self._w, self._b\n",
    "#         self._w = self._w - self._α*(s - 1)*s  # w - α(誤差関数の微分)\n",
    "#         self._b = self._b - self._α*(s - 1)*s  # w - α(誤差関数の微分)\n",
    "        \n",
    "\n",
    "if __name__=='__main__':      \n",
    "    x = [0, 1]  # 入力値 0 or 1を入れる\n",
    "    answer = [1, 0]  # 正解データ\n",
    "    w = 0.5  # 初期値のパラメータ\n",
    "    b = 0.5  # バイアス\n",
    "    α = 0.1  # ハイパーパラメータ(更新の調整項)\n",
    "    adjusted_parameter = {}  # 調整済みパラメータ\n",
    "    \n",
    "    neuron = Neuron(w, b, α)\n",
    "    # 学習開始\n",
    "    for _ in range(1000):\n",
    "        y = neuron.Input_layer(x[0])  # 入力層\n",
    "        s = neuron.activation_function(y)  # 中間層(シグモイド関数)\n",
    "        neuron.error_function(s, answer[0])  # 誤差関数\n",
    "        w, b = neuron.parameter_update(s)  # パラメータ更新\n",
    "        \n",
    "        print(\"s\", s)\n",
    "        if s >= 0.5:  # 中間層yにプラスの値が入ると0.5以上になる\n",
    "            print(\"出力値：0\")\n",
    "            print(\"y : \", y)  # 中間層の値表示\n",
    "        if s < 0.5:  # 中間層yにマイナスの値が入ると0.5未満になる\n",
    "            adjusted_parameter[\"w\"] = w\n",
    "            adjusted_parameter[\"b\"] = b\n",
    "            print(\"出力値：1\")\n",
    "            break\n",
    "     \n",
    "    print(\"調整済みパラメータ\", adjusted_parameter)"
   ]
  },
  {
   "cell_type": "code",
   "execution_count": null,
   "metadata": {},
   "outputs": [],
   "source": []
  },
  {
   "cell_type": "code",
   "execution_count": null,
   "metadata": {},
   "outputs": [],
   "source": []
  },
  {
   "cell_type": "code",
   "execution_count": null,
   "metadata": {},
   "outputs": [],
   "source": []
  }
 ],
 "metadata": {
  "kernelspec": {
   "display_name": "Python 3",
   "language": "python",
   "name": "python3"
  },
  "language_info": {
   "codemirror_mode": {
    "name": "ipython",
    "version": 3
   },
   "file_extension": ".py",
   "mimetype": "text/x-python",
   "name": "python",
   "nbconvert_exporter": "python",
   "pygments_lexer": "ipython3",
   "version": "3.7.1"
  }
 },
 "nbformat": 4,
 "nbformat_minor": 2
}
